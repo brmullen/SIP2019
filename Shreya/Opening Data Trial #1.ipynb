{
 "cells": [
  {
   "cell_type": "code",
   "execution_count": 81,
   "metadata": {},
   "outputs": [],
   "source": [
    "import numpy as np\n",
    "import scipy as sp\n",
    "import matplotlib.pyplot as plt\n",
    "from hdf5manager import hdf5manager as h5\n",
    "import scipy.ndimage.filters as filters\n",
    "import scipy.ndimage as ndimage\n",
    "import scipy\n",
    "from skimage.measure import label, regionprops\n",
    "from scipy.ndimage.filters import gaussian_filter, convolve\n",
    "from skimage.morphology import disk, watershed\n",
    "from skimage.morphology import erosion, dilation, opening, closing\n",
    "from scipy.ndimage.morphology import generate_binary_structure, binary_erosion\n",
    "from scipy.ndimage.filters import maximum_filter\n",
    "from opticFlow import opticFlow as of\n",
    "import colorsys\n",
    "import wholeBrain as wb\n",
    "import cv2"
   ]
  },
  {
   "cell_type": "code",
   "execution_count": 82,
   "metadata": {},
   "outputs": [
    {
     "name": "stdout",
     "output_type": "stream",
     "text": [
      "['start_stop_index', 'dfof', 'mags', 'rot_angs']\n",
      "mags\n",
      "['__class__', '__delattr__', '__dict__', '__dir__', '__doc__', '__eq__', '__format__', '__ge__', '__getattribute__', '__gt__', '__hash__', '__init__', '__init_subclass__', '__le__', '__lt__', '__module__', '__ne__', '__new__', '__reduce__', '__reduce_ex__', '__repr__', '__setattr__', '__sizeof__', '__str__', '__subclasshook__', '__weakref__', 'close', 'keys', 'load', 'open', 'path', 'print', 'save', 'verbose']\n"
     ]
    }
   ],
   "source": [
    "path = '/Users/shreyamantripragada/Documents/test_angs_mags.hdf5'\n",
    "\n",
    "h = h5(path) \n",
    "print(h.keys())\n",
    "print(h.keys()[2])\n",
    "print(dir(h))\n",
    "mov = h.load('mags')\n",
    "value = h.load('rot_angs')\n",
    "# angs = h.load('rot_angs')\n",
    "# start_stop = h.load('start_stop_index')"
   ]
  },
  {
   "cell_type": "code",
   "execution_count": 83,
   "metadata": {},
   "outputs": [
    {
     "name": "stdout",
     "output_type": "stream",
     "text": [
      "[140.38737 144.20444 155.10669 ... 305.8011  310.7476  311.05035]\n"
     ]
    }
   ],
   "source": [
    "#print(mov.shape)\n",
    "#plt.plot(np.sum(~np.isnan(value), axis=(1,2)))\n",
    "nan_lists = value[~np.isnan(value)]\n",
    "print(nan_lists)\n",
    "#print (findMeans(value))"
   ]
  },
  {
   "cell_type": "code",
   "execution_count": 84,
   "metadata": {},
   "outputs": [
    {
     "data": {
      "text/plain": [
       "[<matplotlib.lines.Line2D at 0x1c2408c390>]"
      ]
     },
     "execution_count": 84,
     "metadata": {},
     "output_type": "execute_result"
    },
    {
     "data": {
      "image/png": "[encoded data removed]",
      "text/plain": [
       "<Figure size 432x288 with 1 Axes>"
      ]
     },
     "metadata": {
      "needs_background": "light"
     },
     "output_type": "display_data"
    }
   ],
   "source": [
    "mean = np.mean(mov, axis = (1, 2))\n",
    "standardDev = np.std(mov, axis = (1, 2))\n",
    "average = np.average(mov, axis = (1, 2))\n",
    "plt.plot(mean)\n",
    "plt.plot(average)\n",
    "plt.plot(standardDev)"
   ]
  },
  {
   "cell_type": "code",
   "execution_count": 85,
   "metadata": {},
   "outputs": [
    {
     "data": {
      "text/plain": [
       "[<matplotlib.lines.Line2D at 0x1c24144160>]"
      ]
     },
     "execution_count": 85,
     "metadata": {},
     "output_type": "execute_result"
    },
    {
     "data": {
      "image/png": "[encoded data removed]",
      "text/plain": [
       "<Figure size 432x288 with 1 Axes>"
      ]
     },
     "metadata": {
      "needs_background": "light"
     },
     "output_type": "display_data"
    }
   ],
   "source": [
    "standardDev = np.std(mov, axis = (1, 2))\n",
    "plt.plot(standardDev)"
   ]
  },
  {
   "cell_type": "code",
   "execution_count": 86,
   "metadata": {},
   "outputs": [
    {
     "data": {
      "text/plain": [
       "[<matplotlib.lines.Line2D at 0x1c243b3128>]"
      ]
     },
     "execution_count": 86,
     "metadata": {},
     "output_type": "execute_result"
    },
    {
     "data": {
      "image/png": "[encoded data removed]",
      "text/plain": [
       "<Figure size 432x288 with 1 Axes>"
      ]
     },
     "metadata": {
      "needs_background": "light"
     },
     "output_type": "display_data"
    }
   ],
   "source": [
    "average = np.average(mov, axis = (1, 2))\n",
    "plt.plot(average)"
   ]
  },
  {
   "cell_type": "code",
   "execution_count": null,
   "metadata": {},
   "outputs": [
    {
     "name": "stdout",
     "output_type": "stream",
     "text": [
      "\n",
      "Playing Movie\n",
      "-----------------------\n",
      "preprocessing data...\n",
      "Pre-processing movie rescaling...\n",
      "\n",
      "Rescaling Movie\n",
      "-----------------------\n",
      "mean: 0.09717086151820375 low: 3 high: 7 std: 2.3813770774755803\n",
      "newMin: -7.046960370908537\n",
      "newMax 16.766810403847266\n",
      "amin 0.0\n",
      "amax 407.083147251264\n",
      "newSlope: 15.20861713456773\n"
     ]
    }
   ],
   "source": [
    "wb.playMovie(mov)"
   ]
  },
  {
   "cell_type": "code",
   "execution_count": null,
   "metadata": {},
   "outputs": [],
   "source": [
    "fig,axs = plt.subplots(1, 2)\n",
    "axs[0].imshow(mov[431], aspect = \"auto\", cmap = \"magma\")\n",
    "axs[0].axis(\"on\")\n",
    "axs[1].imshow(mov[434], aspect = \"auto\", cmap = \"nipy_spectral\")\n",
    "axs[1].axis(\"on\")\n",
    "#plt.colorbar()"
   ]
  },
  {
   "cell_type": "code",
   "execution_count": null,
   "metadata": {},
   "outputs": [],
   "source": [
    "plt.imshow(mov[431], aspect = \"auto\", cmap = \"magma\")\n",
    "plt.colorbar()"
   ]
  },
  {
   "cell_type": "code",
   "execution_count": null,
   "metadata": {},
   "outputs": [],
   "source": [
    "def localMaxima2d(array_2d):\n",
    "    # finds local maxima of a given 2d array\n",
    "    neighborhood = np.ones((5,5))\n",
    "    local_max = maximum_filter(array_2d, footprint=neighborhood)==array_2d\n",
    "    background = (array_2d==0)\n",
    "    eroded_background = binary_erosion(background, structure=neighborhood, border_value=1)\n",
    "    lmax = local_max ^ eroded_background\n",
    "    return lmax"
   ]
  },
  {
   "cell_type": "code",
   "execution_count": null,
   "metadata": {},
   "outputs": [],
   "source": [
    "for i, frame in enumerate(mov[430:432]):\n",
    "    fmax = localMaxima2d(frame)\n",
    "    #fmax1 = label(fmax)\n",
    "    #fmax.axis(\"off\")\n",
    "    plt.imshow(fmax)"
   ]
  },
  {
   "cell_type": "code",
   "execution_count": null,
   "metadata": {},
   "outputs": [],
   "source": [
    "#includes 0s with the means\n",
    "def findMeans(array_3d):\n",
    "    all_means = []\n",
    "    x = []\n",
    "    for i, frame in enumerate(array_3d):\n",
    "        all_means.append(np.mean(frame))\n",
    "        x.append(i)\n",
    "    plt.scatter(x, all_means)\n",
    "    return all_means\n",
    "\n",
    "amount = findMeans(mov)\n",
    "print (amount)"
   ]
  },
  {
   "cell_type": "code",
   "execution_count": null,
   "metadata": {},
   "outputs": [],
   "source": [
    "#includes 0s with the standard deviation\n",
    "def standardDeviation(array_3d):\n",
    "    all_deviations = []\n",
    "    x = []\n",
    "    for i, frame in enumerate(array_3d):\n",
    "        mean = np.mean(frame)\n",
    "        x.append(i)\n",
    "        deviation = 0\n",
    "        deviations = []\n",
    "        for r in frame:\n",
    "            for c in range(len(r)):\n",
    "                deviations.append((r[c] - mean) ** 2)\n",
    "        mean1 = np.mean(deviations)\n",
    "        current_deviation = mean1 ** (1/2)\n",
    "        all_deviations.append(current_deviation)\n",
    "    #plt.plot(x, all_deviations, \"bo\")\n",
    "    return all_deviations\n",
    "\n",
    "    \n",
    "standardDev = standardDeviation(mov)\n",
    "print (standardDev)"
   ]
  },
  {
   "cell_type": "code",
   "execution_count": null,
   "metadata": {},
   "outputs": [],
   "source": [
    "# def return_dfof(amount):\n",
    "#     return amount\n",
    "\n",
    "# value_dfof = return_dfof(dfof)\n",
    "# print(value_dfof)\n",
    "# print(len(value_dfof))"
   ]
  },
  {
   "cell_type": "code",
   "execution_count": null,
   "metadata": {},
   "outputs": [],
   "source": [
    "path2 = '/Users/shreyamantripragada/Documents/brain_data.hdf5'\n",
    "\n",
    "k = h5(path2)\n",
    "k.keys()\n",
    "dfof = k.load('dfof_mean')\n",
    "h.save({'dfof':dfof})\n",
    "\n",
    "plt.plot(dfof)"
   ]
  },
  {
   "cell_type": "code",
   "execution_count": null,
   "metadata": {},
   "outputs": [],
   "source": [
    "print (mov.shape)\n",
    "mean = np.mean(mov, axis = (1, 2))\n",
    "standardDev = np.std(mov, axis = (1, 2))\n",
    "fig, axis = plt.subplots(3, figsize = (20, 15), sharex = True)\n",
    "\n",
    "\n",
    "time = np.arange(dfof.shape[0])/10\n",
    "time2 = np.arange(mean.shape[0])/30\n",
    "time3 = np.arange(standardDev.shape[0])/30\n",
    "\n",
    "#graphing the mean graph \n",
    "axis[0].plot(time2, mean, color = 'g')\n",
    "axis[0].set_ylabel('Magnitude')\n",
    "axis[0].set_title('Movement')\n",
    "\n",
    "#graphing the dfof(brain activity) graph\n",
    "axis[1].plot(time, dfof, color = 'b')\n",
    "axis[1].set_ylabel('dfof')\n",
    "axis[1].set_xlabel('time(s)')\n",
    "axis[1].set_title('Brain activity')\n",
    "\n",
    "#graphing the standard deviation graph\n",
    "axis[2].plot(time3, standardDev, color = 'k')\n",
    "axis[2].set_title('Magnitude')\n",
    "axis[2].set_ylabel('Deviation')\n",
    "axis[2].set_xlabel('Time')"
   ]
  },
  {
   "cell_type": "code",
   "execution_count": null,
   "metadata": {},
   "outputs": [],
   "source": [
    "#prints out the dips of the graph, using derivatives \n",
    "#print (mov.shape)\n",
    "\n",
    "def finding_derivative_points_brain_data(array_2d): \n",
    "    der = np.zeros_like(dfof)\n",
    "    time = np.arange(der.shape[0])/10\n",
    "    \n",
    "    for i, j in enumerate(dfof):\n",
    "        if i == 0 or i == dfof.shape[0]:\n",
    "            continue\n",
    "        else:\n",
    "            der[i] = j - dfof[i-1]\n",
    "        \n",
    "    derivation_value = der/.1\n",
    "    \n",
    "    return derivation_value\n",
    "        \n",
    "value = finding_derivative_points(dfof)\n",
    "print(value)"
   ]
  },
  {
   "cell_type": "code",
   "execution_count": null,
   "metadata": {},
   "outputs": [],
   "source": [
    "#print (mov.shape)\n",
    "print (\"Displays the dips in the graph, using the derivative line\")\n",
    "\n",
    "fig, axis = plt.subplots(1, figsize = (20, 5))\n",
    "time = np.arange(der.shape[0])/10\n",
    "\n",
    "for i, j in enumerate(mov):\n",
    "    if i == 0 or i == mov.shape[0][0]:\n",
    "        continue\n",
    "    else:\n",
    "        der[i] = j - dfof[i-1]\n",
    "der_values = der/.1\n",
    "plt.plot(der_values)\n",
    "print(\"derivation points: \" + str(der_values))\n",
    "plt.plot(dfof)\n",
    "print(\"brain data points: \" + str(dfof))\n",
    "value = plt.xlim([0, 400])"
   ]
  },
  {
   "cell_type": "code",
   "execution_count": null,
   "metadata": {},
   "outputs": [],
   "source": [
    "#print (mov.shape)\n",
    "print (\"Displays the dips in the graph, using derivatives\")\n",
    "print (\"The graph is the original brain data and derivation line, but from [0, 150] and draws lines of either green(increasing) or red(decreasing)\" + \n",
    "       \"depending on the point of the graph. \")\n",
    "\n",
    "der = np.zeros_like(dfof)*10\n",
    "# Brain Activity Boundaries\n",
    "for i, val in enumerate(dfof):\n",
    "    if i == 0 or i == dfof.shape[0]:\n",
    "        continue\n",
    "    else:\n",
    "        der[i] = val - dfof[i-1]\n",
    "der *= 10\n",
    "\n",
    "d_switch = []\n",
    "u_switch = []\n",
    "\n",
    "# Derivative of the graph by points\n",
    "typ\n",
    "\n",
    "u_switch = np.array(u_switch)/10\n",
    "d_switch = np.array(d_switch)/10\n",
    "\n",
    "time = np.arange(der.shape[0])/10\n",
    "\n",
    "fig, axis = plt.subplots(1, figsize = (20, 5))\n",
    "time = np.arange(der.shape[0])/10\n",
    "\n",
    "for i, j in enumerate(dfof):\n",
    "    if i == 0 or i == dfof.shape[0]:\n",
    "        continue\n",
    "    else:\n",
    "        der[i] = j - dfof[i-1]\n",
    "plt.plot(der/.1)\n",
    "plt.xlim([0, 400])\n",
    "plt.plot(dfof)\n",
    "\n",
    "#plt.plot(time, der/.1, color = 'k')\n",
    "for line in u_switch:\n",
    "    go_up = plt.axvline(x = line, color='g')\n",
    "for line in d_switch:\n",
    "    go_down = plt.axvline(line, color='r')\n",
    "plt.xlim([0,150])\n",
    "plt.show()\n",
    "\n",
    "\n"
   ]
  },
  {
   "cell_type": "code",
   "execution_count": null,
   "metadata": {},
   "outputs": [],
   "source": [
    "time[-1]"
   ]
  },
  {
   "cell_type": "code",
   "execution_count": null,
   "metadata": {},
   "outputs": [],
   "source": [
    "import pandas as pd\n",
    "import numpy as np\n",
    "from pandas import DataFrame"
   ]
  },
  {
   "cell_type": "code",
   "execution_count": null,
   "metadata": {},
   "outputs": [],
   "source": [
    "d = {'col1': [1, 2], 'col2': [3, 4]}\n",
    "df = pd.DataFrame(data=d)\n",
    "df"
   ]
  },
  {
   "cell_type": "code",
   "execution_count": null,
   "metadata": {},
   "outputs": [],
   "source": [
    "df.dtypes"
   ]
  },
  {
   "cell_type": "code",
   "execution_count": null,
   "metadata": {},
   "outputs": [],
   "source": [
    "df2 = pd.DataFrame(np.array([[1, 2, 3], [4, 5, 6], [7, 8, 9]]), columns=['a', 'b', 'c'])\n",
    "df2"
   ]
  },
  {
   "cell_type": "code",
   "execution_count": null,
   "metadata": {},
   "outputs": [],
   "source": [
    "d = {'Mean': [1, 2], 'Range': [3, 4], 'Magnitude':[0, 0], 'DfΔf': [0, 0], 'Dipped Values': [0, 0]}\n",
    "df = pd.DataFrame(data=d)\n",
    "df"
   ]
  },
  {
   "cell_type": "code",
   "execution_count": null,
   "metadata": {},
   "outputs": [],
   "source": [
    "# values = [ (0, 0, 0, 0, 0, 0, 0, 0, 0) ,\n",
    "#              (0, 0, 0 , 0, 0, 0, 0, 0, 0) ,\n",
    "#              (0, 0, 0 , 0, 0, 0, 0, 0, 0),\n",
    "#              (0, 0, 0 , 0, 0, 0, 0, 0, 0),\n",
    "#              (0, 0, 0 , 0, 0, 0, 0, 0, 0)]\n",
    " \n",
    "#Create a DataFrame object\n",
    "dfObj = pd.DataFrame()\n",
    "dfObj1 = pd.DataFrame()\n",
    "dfObj2 = pd.DataFrame()\n",
    "dfObj3 = pd.DataFrame()\n",
    "#print(len(standardDev))\n",
    "#print(standardDev)\n",
    "dfObj['mean_brain'] = amount\n",
    "dfObj['std_brain'] = standardDev\n",
    "#dfObj['df/f_brain'] = value_dfof\n",
    "#pd.concat([dfObj, dfObj1, dfObj2], axis=1)\n",
    "\n",
    "print(dfObj.loc[100:129,'mean_brain'])\n",
    "print(dfObj1.loc[100:129, 'std_brain'])\n",
    "#print(dfObj2.loc[100:129, 'df/f_brain'])"
   ]
  },
  {
   "cell_type": "code",
   "execution_count": null,
   "metadata": {},
   "outputs": [],
   "source": [
    "der = np.zeros_like(dfof)*10\n",
    "# Brain Activity Boundaries\n",
    "for i, val in enumerate(dfof):\n",
    "    if i == 0 or i == dfof.shape[0]:\n",
    "        continue\n",
    "    else:\n",
    "        der[i] = val - dfof[i-1]\n",
    "der *= 10\n",
    "\n",
    "d_switch = []\n",
    "u_switch = []\n",
    "range_list = []\n",
    "differnce = 0\n",
    "\n",
    "# Derivative of the graph by points\n",
    "for i, val in enumerate(der):\n",
    "    if i == 0 or i == der.shape[0]:\n",
    "        continue\n",
    "    elif (val > 0) and (der[i-1] < 0):\n",
    "        u_switch.append(i)\n",
    "    elif (val < 0) and (der[i-1] > 0):\n",
    "        d_switch.append(i)\n",
    "\n",
    "u_switch = np.array(u_switch)/10\n",
    "d_switch = np.array(d_switch)/10\n",
    "\n",
    "time = np.arange(dfof.shape[0])/10\n",
    "fig, axis = plt.subplots(1, figsize = (20, 5))\n",
    "\n",
    "\n",
    "\n",
    "# Line-Scatter Graph\n",
    "plt.scatter(time[der<0], der[der<0], linewidths =0.1)\n",
    "plt.scatter(time[der>0], der[der>0])\n",
    "plt.plot(time, dfof, color = 'k')\n",
    "for line in u_switch:\n",
    "    plt.axvline(x = line, color='g')\n",
    "for line in d_switch:\n",
    "    plt.axvline(line, color='r')\n",
    "plt.xlim([0,50])\n",
    "plt.show()\n"
   ]
  },
  {
   "cell_type": "code",
   "execution_count": null,
   "metadata": {},
   "outputs": [],
   "source": [
    "# def calculating_range():\n",
    "#     range_list = []\n",
    "#     for value in range(len(u_switch)):\n",
    "#         for amount in range(len(d_switch)): \n",
    "#             difference = d_switch[amount] - u_switch[value]\n",
    "#             range_list.append(difference)\n",
    "    \n",
    "#     return range_list\n",
    "        \n",
    "\n",
    "# range_amt = calculating_range()\n",
    "\n"
   ]
  },
  {
   "cell_type": "code",
   "execution_count": null,
   "metadata": {},
   "outputs": [],
   "source": [
    "# values = [ (0, 0, 0, 0, 0, 0, 0, 0, 0) ,\n",
    "#              (0, 0, 0 , 0, 0, 0, 0, 0, 0) ,\n",
    "#              (0, 0, 0 , 0, 0, 0, 0, 0, 0),\n",
    "#              (0, 0, 0 , 0, 0, 0, 0, 0, 0),\n",
    "#              (0, 0, 0 , 0, 0, 0, 0, 0, 0)]\n",
    " \n",
    "#Create a DataFrame object\n",
    "dfObj = pd.DataFrame()\n",
    "dfObj1 = pd.DataFrame()\n",
    "dfObj2 = pd.DataFrame()\n",
    "dfObj3 = pd.DataFrame()\n",
    "#print(len(standardDev))\n",
    "#print(standardDev)\n",
    "dfObj['mean_brain'] = amount\n",
    "dfObj['std_brain'] = standardDev\n",
    "# dfObj['df/f_brain'] = value_dfof\n",
    "#dfObj['range_brain'] = range_final\n",
    "\n",
    "\n",
    "print(dfObj.loc[100:129])\n",
    "pd.concat([dfObj, dfObj1, dfObj2], axis=1)\n",
    "\n",
    "print(dfObj.loc[100:129,'mean_brain'])\n",
    "print(dfObj1.loc[100:129, 'std_brain'])\n",
    "print(dfObj2.loc[100:129, 'df/f_brain'])"
   ]
  },
  {
   "cell_type": "code",
   "execution_count": null,
   "metadata": {},
   "outputs": [],
   "source": [
    "def same_size(list_1, list_2):\n",
    "    new_array = []\n",
    "    if (len(list_1) > len(list_2)):\n",
    "        divide = len(list_1) / len(list_2)\n",
    "        \n",
    "        if (divide > 2):\n",
    "            for i in range(len(list_2)):\n",
    "                new_array.append(list_1[i * int(np.floor(divide))])\n",
    "                \n",
    "        else: \n",
    "            new_array = list_1[0:len(list_2)]\n",
    "            \n",
    "    elif(len(list_2) > len(list_1)):\n",
    "        divide = len(list_2) / len(list_1)\n",
    "        \n",
    "        if (divide > 2):\n",
    "            for i in range(len(list_1)):\n",
    "                new_array.append(list_2[i* int(np.floor(divide))])\n",
    "                \n",
    "        else: \n",
    "            new_array = list_2[0:len(list_1)]\n",
    "            \n",
    "    return new_array\n",
    "\n",
    "shreya = [1, 2, 3, 4, 5]\n",
    "emma = [1, 2, 3]\n",
    "value = same_size(shreya, emma)\n",
    "print(value)\n",
    "\n",
    "# import numpy as np\n",
    "# a = np.arange(10)\n",
    "# b = np.zeros(a.shape[0]*3)\n",
    "\n",
    "# b[::2] = a\n",
    "# b[1::3] = a\n",
    "# b[2::3] = a\n",
    "\n",
    "# for i in np.arange(n): \n",
    "# b[i::n] = a"
   ]
  },
  {
   "cell_type": "code",
   "execution_count": null,
   "metadata": {},
   "outputs": [],
   "source": [
    "# Average magnitude in multiple dimensions\n",
    "def motionCharacterize(array3d):\n",
    "    brain_magnitude = np.zeros(array3d.shape[0])\n",
    "    for n, frame in enumerate(array3d):\n",
    "        brain_magnitude[n] = np.mean(frame)\n",
    "\n",
    "    win_size = 10\n",
    "    mag_mean = np.convolve(brain_magnitude, np.ones(win_size)/win_size, mode = 'same')\n",
    "\n",
    "    threshold = np.zeros(mag_mean.shape)\n",
    "    threshold[mag_mean > 0] = 1 \n",
    "    frame_ind = np.where(threshold == 1)\n",
    "\n",
    "    start = []\n",
    "    end = []\n",
    "    for i, frame in enumerate(frame_ind[0]):\n",
    "        if i == 0:\n",
    "            start.append(frame)\n",
    "        elif len(frame_ind[0])-1 == i:   \n",
    "            end.append(frame)\n",
    "        elif (frame + 1) != (frame_ind[0][i + 1]):\n",
    "            end.append(frame)\n",
    "            start.append(frame_ind[0][i + 1])\n",
    "            \n",
    "#     Duration of event frames in seconds\n",
    "    event_frames = (np.array(end) - np.array(start))/30\n",
    "    \n",
    "    mag_per_event = np.zeros(array3d.shape[0])\n",
    "    duration = np.zeros(array3d.shape[0])\n",
    "    rest = np.zeros_like(duration)\n",
    "\n",
    "    for i, st in enumerate(start):\n",
    "        if i == 0:        \n",
    "            rest[:st] = st\n",
    "            rest[end[i]:start[i+1]] = start[i+1] - end[i]\n",
    "        elif i == len(start)-1:\n",
    "            rest[end[i]:] = rest.shape[0] - end[i]\n",
    "        else:\n",
    "            rest[end[i]:start[i+1]] = start[i+1] - end[i]\n",
    "        mag_per_event[st:end[i]] = np.sum(array3d[st:end[i]])/event_frames[i]\n",
    "        duration[st:end[i]] = event_frames[i]\n",
    "        \n",
    "# #     Duration intervals\n",
    "#     frame_durations = []\n",
    "#     for i in range(len(start)):\n",
    "#         interval = end[i] - start[i]\n",
    "#         frame_durations.append(interval)\n",
    "#     print(frame_durations)\n",
    "    \n",
    "    #   Magnitude events\n",
    "#     fig = plt.figure(figsize = (10,5))\n",
    "#     plt.plot(brain_magnitude, color='k')\n",
    "#     plt.plot(mag_mean,color='g')\n",
    "#     plt.plot(threshold,color='r')\n",
    "#     plt.ylim([0,2])\n",
    "#     plt.show()\n",
    "#     plt.plot(mag_per_event)\n",
    "#     plt.show()\n",
    "\n",
    "#     print(frame_durations[1])\n",
    "#     for i in frame_durations:\n",
    "#     print(dfDur)\n",
    "\n",
    "    \n",
    "    return mag_per_event, duration, rest\n",
    "dfDur = pd.DataFrame()\n",
    "\n",
    "dfDur['mag_per_event'], dfDur['duration'], dfDur['rest']= motionCharacterize(mov)\n",
    "# mag_data = motionCharacterize(mov)\n",
    "# plt.plot(dfDur['mag_per_event'])\n",
    "\n",
    "fig = plt.figure(figsize=(10,5))\n",
    "plt.plot(dfDur['duration'] * 100, label='duration')\n",
    "plt.plot(dfDur['rest'], label='rest')\n",
    "plt.legend()\n",
    "plt.show()    "
   ]
  },
  {
   "cell_type": "code",
   "execution_count": null,
   "metadata": {},
   "outputs": [],
   "source": [
    "df = pd.DataFrame()\n",
    "\n",
    "means = findMeans(mov)\n",
    "mode = common_occurences(mov)\n",
    "m = []\n",
    "\n",
    "for i in mov:\n",
    "    m += mode.get(means[i])\n",
    "    fx\n",
    "            #df['frame_number_of_brain_data']\n",
    "            # df[\"frame_number_of_brain_data\": 0] = range(0, 4000)\n",
    "            # df[\"move_mean_of_magnitude_of_brain_data\" : 1] = findMeans(mov)\n",
    "            # df[\"standard_deviation_of_brain_data\":2] = standardDeviation(mov)\n",
    "\n",
    "            range_value = np.max(mov) - np.min(mov)\n",
    "            df['move_mean_of_brain_magnitude'] = np.mean(mov, axis = (1, 2))\n",
    "            df['standard_deviation_of_brain_magnitude'] = np.std(mov, axis=(1, 2))\n",
    "            df['max_value_of_brain_magnitude'] = np.max(mov, axis = (1, 2))\n",
    "            df['mode_of_brain_magnitude'] = m\n",
    "            #df['range_of_brain_magnitude'] = np.arange(mov, axis = (1, 2))\n",
    "            #df['mode_of_brain_magnitude'] = sp.mode(mov, aixs = (1, 2))"
   ]
  },
  {
   "cell_type": "code",
   "execution_count": null,
   "metadata": {},
   "outputs": [],
   "source": [
    "def findEvent(array_3d):\n",
    "    means = findMeans(array3d)\n",
    "    is_event = []\n",
    "    for i in means:\n",
    "        if i > 0:\n",
    "            is_event.append(\"event\")\n",
    "        else:\n",
    "            is_event.append(\"rest\")\n",
    "    return is_event"
   ]
  },
  {
   "cell_type": "code",
   "execution_count": null,
   "metadata": {},
   "outputs": [],
   "source": [
    "def findRange(array_3d):\n",
    "    return np.max(array3d, axis = (1,2))"
   ]
  },
  {
   "cell_type": "code",
   "execution_count": null,
   "metadata": {},
   "outputs": [],
   "source": [
    "def finding_range_values(dfof): \n",
    "    #finding the ranges of snippet of the brain data\n",
    "    der = np.zeros_like(dfof)*10\n",
    "    # Brain Activity Boundaries\n",
    "    for i, val in enumerate(dfof):\n",
    "        if i == 0 or i == len(dfof) - 1:\n",
    "            continue\n",
    "        else:\n",
    "            der[i] = val - dfof[i-1]\n",
    "    der *= 10\n",
    "\n",
    "    d_switch = [] #the decreasing part of the graph \n",
    "    u_switch = [] #the increasing part of the graph\n",
    "    range_list = []\n",
    "\n",
    "    # Derivative of the graph by points\n",
    "    for i, val in enumerate(der):\n",
    "        if i == 0 or i == len(der) - 1:\n",
    "            continue\n",
    "        elif (val > 0) and (der[i-1] < 0):\n",
    "            u_switch.append(i)\n",
    "        elif (val < 0) and (der[i-1] > 0):\n",
    "            d_switch.append(i)\n",
    "\n",
    "    u_switch = np.array(u_switch)/10\n",
    "    d_switch = np.array(d_switch)/10\n",
    "\n",
    "    return u_switch, d_switch\n",
    "\n",
    "value = finding_range_values(dfof)\n",
    "print(value)"
   ]
  },
  {
   "cell_type": "code",
   "execution_count": null,
   "metadata": {},
   "outputs": [],
   "source": [
    "def range_of_sections(u_switch, d_switch):\n",
    "    difference_list = []\n",
    "    difference_val = 0\n",
    "    \n",
    "    for i in range(len(u_switch)): \n",
    "        for j in range(len(d_switch)):\n",
    "            difference_val = abs(d_switch[j] - u_switch[i])\n",
    "            difference_list.append(difference_val)\n",
    "    \n",
    "    return np.around(difference_list, 3)\n",
    "    \n",
    "final_range_list = range_of_sections(u_switch, d_switch)\n",
    "print(final_range_list)"
   ]
  },
  {
   "cell_type": "code",
   "execution_count": null,
   "metadata": {},
   "outputs": [],
   "source": [
    "import matplotlib.pyplot as plt\n",
    "plt.plot(mov)\n"
   ]
  },
  {
   "cell_type": "code",
   "execution_count": null,
   "metadata": {},
   "outputs": [],
   "source": [
    "def finding_range_values(array2d): \n",
    "    print(\"entered the finding_range_values function\")\n",
    "    #finding the ranges of snippet of the brain data\n",
    "    d_switch = [] #the decreasing part of the graph \n",
    "    u_switch = [] #the increasing part of the graph\n",
    "    \n",
    "    for i in range(len(array2d) - 1):\n",
    "        if i == 0 or i == len(array2d):\n",
    "            continue\n",
    "        elif array2d[i-1] < array2d[i] and array2d[i] > array2d[i+1]:\n",
    "            u_switch.append(i)\n",
    "        elif array2d[i-1] > array2d[i] and array2d[i] < array2d[i+1]:\n",
    "            d_switch.append(i)\n",
    "            \n",
    "    return u_switch, d_switch, array2d\n",
    "\n",
    "def range_of_sections(u_switch, d_switch, array2d):\n",
    "    print(\"entered the range_of_sections function\")\n",
    "    #u_switch is the list of the indices of all the maxs\n",
    "    #d_switch is the list of the indices of all the mins\n",
    "    difference_list = []\n",
    "    if (d_switch[0] > u_switch[0]):\n",
    "        #starts on a min and goes up to the first max\n",
    "        difference_list.append(array2d[u_switch[0]] - array2d[0])\n",
    "    else:\n",
    "        difference_list.append(array2d[0] - array2d[d_switch[0]])\n",
    "    for i in range(len(u_switch)):\n",
    "        if i == 0:\n",
    "            continue\n",
    "        difference_list.append(abs(abs(array2d[u_switch[i]] - array2d[d_switch[i]])))\n",
    "    \n",
    "    return difference_list\n",
    "\n",
    "u, d, array = finding_range_values(dfof)\n",
    "plt.plot(dfof)\n",
    "for line in u:\n",
    "    plt.axvline(x = line, color='g')\n",
    "for line in d:\n",
    "    plt.axvline(line, color='r')\n",
    "plt.xlim([0,150])\n",
    "\n",
    "print(range_of_sections(u, d, array))\n",
    "\n"
   ]
  },
  {
   "cell_type": "code",
   "execution_count": null,
   "metadata": {},
   "outputs": [],
   "source": [
    "def list_of_total_magnitude(array3d):\n",
    "    print(\"entered the list_of_total_magnitude function\")\n",
    "    total = []\n",
    "    for i in array3d:\n",
    "        total.append(np.sum(i))\n",
    "    return total"
   ]
  },
  {
   "cell_type": "code",
   "execution_count": null,
   "metadata": {},
   "outputs": [],
   "source": [
    "def total_magnitude(array2d):\n",
    "    total = np.sum(array2d)\n",
    "    \n",
    "    return total\n",
    "total_magnitude(dfof)"
   ]
  },
  {
   "cell_type": "code",
   "execution_count": null,
   "metadata": {},
   "outputs": [],
   "source": [
    "def same_size_up(small, big):\n",
    "    scalar = len(big)/len(small)\n",
    "    scaled = []\n",
    "    index = 0\n",
    "    count = 0\n",
    "    for i in range(len(big)):\n",
    "        if count >= scalar:\n",
    "            index += 1\n",
    "            scaled.append(small[index])\n",
    "            count = 1\n",
    "        else:\n",
    "            scaled.append(small[index])\n",
    "            count += 1\n",
    "    return scaled"
   ]
  },
  {
   "cell_type": "code",
   "execution_count": null,
   "metadata": {},
   "outputs": [],
   "source": [
    "def surface_area(new_val):\n",
    "    \n",
    "    area_count = []\n",
    "    for i in new_val:\n",
    "        count = 0\n",
    "        for r in i:\n",
    "            if r > 0:\n",
    "                count += 1\n",
    "                    \n",
    "        area_count.append(count)\n",
    "        \n",
    "    return area_count\n",
    "    \n",
    "surface_area(same_size_up(dfof, mov))"
   ]
  },
  {
   "cell_type": "code",
   "execution_count": null,
   "metadata": {},
   "outputs": [],
   "source": [
    "print(np.around(dfof, 3))\n",
    "print(np.around(mov, 3))"
   ]
  },
  {
   "cell_type": "code",
   "execution_count": null,
   "metadata": {},
   "outputs": [],
   "source": [
    "# #print(dfof)\n",
    "# def motion_percentage(array2d):\n",
    "#     points = []\n",
    "#     percent_list = []\n",
    "#     #print(\"np.min: \" + str(np.min(array2d)))\n",
    "#     #print(\"array2d: \" + str(array2d))\n",
    "#     array2d -= np.min(array2d)\n",
    "#     #print(\"array2d_new: \" + str(array2d))\n",
    "#     total = np.sum(array2d)\n",
    "    \n",
    "    \n",
    "#     for i in array2d:\n",
    "#         if len(points) < 10:\n",
    "#             points.append(i)\n",
    "#         elif len(points) == 10:\n",
    "#             for i in np.arange(10):\n",
    "#                 percent_list.append(np.sum(points))\n",
    "#         else:\n",
    "#             points = []\n",
    "       \n",
    "#     rounded_list = np.around(((percent_list/total) * 100), 3)\n",
    "    \n",
    "#     return rounded_list\n",
    "# value = motion_percentage(mov)\n",
    "# print(value)"
   ]
  },
  {
   "cell_type": "code",
   "execution_count": null,
   "metadata": {},
   "outputs": [],
   "source": [
    "def find_means(array_3d):\n",
    "    all_means = []\n",
    "    x = []\n",
    "    for i, frame in enumerate(array_3d):\n",
    "        all_means.append(np.mean(frame))\n",
    "        x.append(i)\n",
    "    return all_means"
   ]
  },
  {
   "cell_type": "code",
   "execution_count": null,
   "metadata": {},
   "outputs": [],
   "source": [
    "def motion_percentage(array_3d):\n",
    "    total = total_magnitude(array_3d)\n",
    "    means = find_means(array_3d)\n",
    "    percentages = []\n",
    "    \n",
    "    for i in means:\n",
    "        percentages.append((i/total)*100)\n",
    "        \n",
    "    return percentages\n",
    "\n",
    "value = motion_percentage(mov)\n",
    "print(value)"
   ]
  },
  {
   "cell_type": "code",
   "execution_count": null,
   "metadata": {},
   "outputs": [],
   "source": [
    "def time_continuity(timecourse, forward_or_backward='forward'):\n",
    "    print(len(timecourse))\n",
    "    print(len(mov))\n",
    "    continuous_limit = []\n",
    "    difference_continuous = 0\n",
    "    \n",
    "    if forward_or_backward == 'forward':\n",
    "        print(\"Calculating forward continuance\")\n",
    "    elif forward_or_backward == 'backward':\n",
    "        print(\"Calculating backward continuance\")\n",
    "        timecourse = timecourse[::-1]\n",
    "    \n",
    "    \n",
    "    for i in timecourse:\n",
    "        if i == 0:\n",
    "            difference_continuous += 1\n",
    "            continuous_limit.append(difference_continuous)\n",
    "        else:\n",
    "            difference_continuous = 0\n",
    "            continuous_limit.append(difference_continuous)\n",
    "            \n",
    "            \n",
    "    if forward_or_backward == 'backward':\n",
    "        print(\"Calculating backward continuance\")\n",
    "        continuous_limit = continuous_limit[::-1]\n",
    "        \n",
    "    \n",
    "    return continuous_limit\n",
    "\n",
    "# forward = count up, backward = count down   \n",
    "time_continuity(dfDur['duration'], forward_or_backward = 'forward')\n",
    "\n",
    "plt.plot(time_continuity(dfDur['duration'], forward_or_backward = 'backward'), label = \"Backward\")\n",
    "plt.plot(time_continuity(dfDur['duration'], forward_or_backward = 'forward'), label = \"Forward\")\n",
    "plt.legend()"
   ]
  },
  {
   "cell_type": "code",
   "execution_count": null,
   "metadata": {},
   "outputs": [],
   "source": [
    "def finding_first_derivative_points_of_brain_data(dfof): \n",
    "    print(\"entered the finding_derivative_points_brain_data function\")\n",
    "    der = np.zeros_like(dfof)\n",
    "    time = np.arange(der.shape[0])/10\n",
    "    \n",
    "    for i, j in enumerate(dfof):\n",
    "        if i == 0 or i == dfof.shape[0]:\n",
    "            continue\n",
    "        else:\n",
    "            der[i] = j - dfof[i-1]\n",
    "            \n",
    "    derivative_value = der/.1\n",
    "\n",
    "    new_derivative_value = np.around(derivative_value, 3)\n",
    "    \n",
    "    return new_derivative_value\n",
    "    \n"
   ]
  },
  {
   "cell_type": "code",
   "execution_count": null,
   "metadata": {},
   "outputs": [],
   "source": [
    "def finding_second_derivative_points_of_brain_data(array_2d): \n",
    "    print(\"entered the finding_derivative_points_brain_data function\")\n",
    "    first_derivative = finding_first_derivative_points_of_brain_data(array_2d)\n",
    "    print(\"fd: \" + str(first_derivative))\n",
    "    second_derivative = finding_first_derivative_points_of_brain_data(first_derivative)\n",
    "    print(\"sd: \" + str(second_derivative))\n",
    "    \n",
    "    return second_derivative\n",
    "\n",
    "sec_deriv_value = finding_second_derivative_points_of_brain_data(dfof)\n",
    "print(sec_deriv_value)\n",
    "\n",
    "    "
   ]
  },
  {
   "cell_type": "code",
   "execution_count": null,
   "metadata": {},
   "outputs": [],
   "source": [
    "def find_means(array_3d):\n",
    "    all_means = []\n",
    "    x = []\n",
    "    for i, frame in enumerate(array_3d):\n",
    "        all_means.append(np.mean(frame))\n",
    "        x.append(i)\n",
    "    return all_means"
   ]
  },
  {
   "cell_type": "code",
   "execution_count": null,
   "metadata": {},
   "outputs": [],
   "source": [
    "def comparison_between_brain_data_and_mov_mean(list_1, list_2):\n",
    "    new_list = []\n",
    "    #print(\"list_1: \" +str(list_1))\n",
    "    #print(\"list 2: \" + str(list_2))\n",
    "    for i in range(len(list_1)):\n",
    "        difference = list_1[i] - list_2[i]\n",
    "        new_list.append(difference)\n",
    "            \n",
    "    return print(\"new_list: \" + str(new_list))\n",
    "\n",
    "compare = comparison_between_brain_data_and_mov_mean(same_size_up(dfof,mov), find_means(mov))\n",
    "print(compare)"
   ]
  },
  {
   "cell_type": "code",
   "execution_count": null,
   "metadata": {},
   "outputs": [],
   "source": [
    "def find_event(array3d):\n",
    "    print (\"entered the find_event function\")\n",
    "    means = find_means(array3d)\n",
    "    is_event = []\n",
    "    for i in means:\n",
    "        if i > 0:\n",
    "            is_event.append(1)\n",
    "        else:\n",
    "            is_event.append(0)\n",
    "    return is_event"
   ]
  },
  {
   "cell_type": "code",
   "execution_count": null,
   "metadata": {},
   "outputs": [],
   "source": [
    "def finding_first_derivative_points_of_mov(array_2d): \n",
    "    print(\"entered the finding_derivative_points_of_mov function\")\n",
    "    der = np.zeros_like(array_2d)\n",
    "    #time = np.arange(der.shape[0])/10\n",
    "    for i in range(len(array_2d)):\n",
    "        if i == 0 or i == len(array_2d):\n",
    "            continue\n",
    "        else:\n",
    "            der[i] = array_2d[i] - array_2d[i-1]\n",
    "\n",
    "    derivative_value = []\n",
    "    for i in der:\n",
    "        derivative_value.append(i/0.1)\n",
    "\n",
    "    new_derivative_value = np.around(derivative_value, 3)\n",
    "    \n",
    "    return new_derivative_value"
   ]
  },
  {
   "cell_type": "code",
   "execution_count": null,
   "metadata": {},
   "outputs": [],
   "source": [
    "def max_value_of_event(array_3d):\n",
    "    #rests_events = []\n",
    "    print(\"entered the max_value_of_event function\")\n",
    "    max_values = [] #final list\n",
    "    events_max = [] #takes all the maximums\n",
    "    means_mov = find_means(array_3d)\n",
    "    events = find_event(array_3d)\n",
    "    i = 0\n",
    "    while i < len(means_mov):\n",
    "        if events[i] == 1:\n",
    "            temp_max = float('-Inf')\n",
    "            index = i\n",
    "            while(index < len(means_mov) and events[index] == 1):\n",
    "                if (means_mov[index] > temp_max):\n",
    "                    temp_max = means_mov[index]\n",
    "                index += 1\n",
    "            i = index + 1\n",
    "            events_max.append(temp_max)\n",
    "        else:\n",
    "            i += 1\n",
    "    event_index = 0\n",
    "    index = 0\n",
    "    while (index < len(events)):\n",
    "        if events[index] == 0:\n",
    "            max_values.append(0)\n",
    "            index += 1\n",
    "        else:\n",
    "            while(index < len(events) and events[index] != 0):\n",
    "                max_values.append(events_max[event_index])\n",
    "                index += 1\n",
    "            event_index += 1\n",
    "    return max_values, event_max"
   ]
  },
  {
   "cell_type": "code",
   "execution_count": null,
   "metadata": {},
   "outputs": [],
   "source": [
    "def finding_distance_between_max_of_event(array_3d):\n",
    "    print(\"entered the finding_distance_between_max_of_event function\")\n",
    "    \n",
    "    diff_values = [] #final list\n",
    "    events_max = [] #takes all the maximums\n",
    "    final_values = []\n",
    "    means_mov = find_means(array_3d)\n",
    "    events = find_event(array_3d)\n",
    "    i = 0\n",
    "    while i < len(means_mov):\n",
    "        if events[i] == 1:\n",
    "            temp_max = float('-Inf')\n",
    "            index = i\n",
    "            while(index < len(means_mov) and events[index] == 1):\n",
    "                if (means_mov[index] > temp_max):\n",
    "                    temp_max = means_mov[index]\n",
    "                index += 1\n",
    "            i = index + 1\n",
    "            events_max.append(temp_max)\n",
    "        else:\n",
    "            i += 1   \n",
    "            \n",
    "    for i in range(len(events_max) - 1):\n",
    "        difference = abs(events_max[i] - events_max[i+1])\n",
    "        final_values.append(difference)\n",
    "    \n",
    "    event_index = 0\n",
    "    index = 0\n",
    "    \n",
    "    diff_values.append(0)\n",
    "    while (index < len(events)):\n",
    "        if events[index] == 0:\n",
    "            diff_values.append(0)\n",
    "            index += 1\n",
    "        else:\n",
    "            while(index < len(events) and events[index] != 0):\n",
    "                if (event_index <= len(final_values)-1):\n",
    "                    diff_values.append(final_values[event_index])\n",
    "                index += 1\n",
    "            event_index += 1\n",
    "        \n",
    "    return diff_values\n",
    "\n",
    "    \n",
    "finding_distance_between_max_of_event(mov)\n",
    "    "
   ]
  },
  {
   "cell_type": "code",
   "execution_count": 88,
   "metadata": {},
   "outputs": [
    {
     "ename": "NameError",
     "evalue": "name 'dfof' is not defined",
     "output_type": "error",
     "traceback": [
      "\u001b[0;31m---------------------------------------------------------------------------\u001b[0m",
      "\u001b[0;31mNameError\u001b[0m                                 Traceback (most recent call last)",
      "\u001b[0;32m<ipython-input-88-d970df848485>\u001b[0m in \u001b[0;36m<module>\u001b[0;34m\u001b[0m\n\u001b[1;32m     10\u001b[0m     \u001b[0;32mreturn\u001b[0m \u001b[0mdifference_values\u001b[0m\u001b[0;34m\u001b[0m\u001b[0;34m\u001b[0m\u001b[0m\n\u001b[1;32m     11\u001b[0m \u001b[0;34m\u001b[0m\u001b[0m\n\u001b[0;32m---> 12\u001b[0;31m \u001b[0mvalue\u001b[0m \u001b[0;34m=\u001b[0m \u001b[0mcomparison_of_first_der_of_brain_and_mov\u001b[0m\u001b[0;34m(\u001b[0m\u001b[0mdfof\u001b[0m\u001b[0;34m,\u001b[0m \u001b[0mmov\u001b[0m\u001b[0;34m)\u001b[0m\u001b[0;34m\u001b[0m\u001b[0;34m\u001b[0m\u001b[0m\n\u001b[0m\u001b[1;32m     13\u001b[0m \u001b[0;32mreturn\u001b[0m \u001b[0mvalue\u001b[0m\u001b[0;34m\u001b[0m\u001b[0;34m\u001b[0m\u001b[0m\n\u001b[1;32m     14\u001b[0m \u001b[0;34m\u001b[0m\u001b[0m\n",
      "\u001b[0;31mNameError\u001b[0m: name 'dfof' is not defined"
     ]
    }
   ],
   "source": [
    "def comparison_of_first_der_of_brain_and_mov(array_2d, array_3d):\n",
    "    brain_point = finding_first_derivative_points_of_brain_data(array_2d)\n",
    "    mov_points = finding_first_derivative_points_of_mov(array_3d)\n",
    "    difference_values = []\n",
    "    \n",
    "    for i in range(len(brain_point) - 1):\n",
    "        difference  = brain_point[i] - mov_points[i]\n",
    "        difference_values.append(difference)\n",
    "        \n",
    "    return difference_values\n",
    "\n",
    "value = comparison_of_first_der_of_brain_and_mov(dfof, mov)\n",
    "return value"
   ]
  },
  {
   "cell_type": "code",
   "execution_count": null,
   "metadata": {},
   "outputs": [],
   "source": []
  },
  {
   "cell_type": "code",
   "execution_count": null,
   "metadata": {},
   "outputs": [],
   "source": []
  }
 ],
 "metadata": {
  "kernelspec": {
   "display_name": "Python 3",
   "language": "python",
   "name": "python3"
  },
  "language_info": {
   "codemirror_mode": {
    "name": "ipython",
    "version": 3
   },
   "file_extension": ".py",
   "mimetype": "text/x-python",
   "name": "python",
   "nbconvert_exporter": "python",
   "pygments_lexer": "ipython3",
   "version": "3.7.3"
  }
 },
 "nbformat": 4,
 "nbformat_minor": 2
}
