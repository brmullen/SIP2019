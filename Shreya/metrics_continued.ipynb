{
 "cells": [
  {
   "cell_type": "code",
   "execution_count": 9,
   "metadata": {},
   "outputs": [],
   "source": [
    "import numpy as np\n",
    "import matplotlib\n",
    "from itertools import groupby\n",
    "from operator import itemgetter\n",
    "from matplotlib import pyplot as plt\n",
    "from hdf5manager import hdf5manager as h5\n",
    "from scipy.stats import mode\n",
    "#from derivativeEventDetection import detectSpikes, FixedQueue\n",
    "#from eventCoincidence import eventCoin, _displayInfo, visualizeProgress\n",
    "import ctypes as c\n",
    "from multiprocessing import Process, Array, cpu_count, Manager\n",
    "import pandas as pd\n",
    "import time\n",
    "from waveletAnalysis import waveletAnalysis as wave\n",
    "from matplotlib.gridspec import GridSpec\n",
    "from mpl_toolkits.axes_grid1 import make_axes_locatable"
   ]
  },
  {
   "cell_type": "code",
   "execution_count": 10,
   "metadata": {},
   "outputs": [
    {
     "name": "stdout",
     "output_type": "stream",
     "text": [
      "['start_stop_index', 'dfof', 'mags', 'rot_angs']\n",
      "mags\n",
      "['__class__', '__delattr__', '__dict__', '__dir__', '__doc__', '__eq__', '__format__', '__ge__', '__getattribute__', '__gt__', '__hash__', '__init__', '__init_subclass__', '__le__', '__lt__', '__module__', '__ne__', '__new__', '__reduce__', '__reduce_ex__', '__repr__', '__setattr__', '__sizeof__', '__str__', '__subclasshook__', '__weakref__', 'close', 'keys', 'load', 'open', 'path', 'print', 'save', 'verbose']\n"
     ]
    }
   ],
   "source": [
    "path = '/Users/shreyamantripragada/Documents/test_angs_mags.hdf5'\n",
    "\n",
    "h = h5(path) \n",
    "print(h.keys())\n",
    "print(h.keys()[2])\n",
    "print(dir(h))\n",
    "mov = h.load('mags')\n",
    "value = h.load('rot_angs')\n",
    "# angs = h.load('rot_angs')\n",
    "# start_stop = h.load('start_stop_index')"
   ]
  },
  {
   "cell_type": "code",
   "execution_count": 11,
   "metadata": {},
   "outputs": [],
   "source": [
    "def find_means(array_3d):\n",
    "    all_means = []\n",
    "    x = []\n",
    "    for i, frame in enumerate(array_3d):\n",
    "        all_means.append(np.mean(frame))\n",
    "        x.append(i)\n",
    "    return all_means"
   ]
  },
  {
   "cell_type": "code",
   "execution_count": null,
   "metadata": {},
   "outputs": [],
   "source": [
    "def comparison_between_brain_data_and_mov_mean(list_1, list_2):\n",
    "    new_list = []\n",
    "    for i in range(len(list_1)):\n",
    "        difference = list_1[i] - list_2[i]\n",
    "        new_list.append(difference)\n",
    "            \n",
    "    return new_list\n",
    "\n",
    "compare = comparison_between_brain_data_and_mov_mean(dfof, find_means(mov))\n",
    "print(compare)"
   ]
  },
  {
   "cell_type": "code",
   "execution_count": null,
   "metadata": {},
   "outputs": [],
   "source": []
  }
 ],
 "metadata": {
  "kernelspec": {
   "display_name": "Python 3",
   "language": "python",
   "name": "python3"
  },
  "language_info": {
   "codemirror_mode": {
    "name": "ipython",
    "version": 3
   },
   "file_extension": ".py",
   "mimetype": "text/x-python",
   "name": "python",
   "nbconvert_exporter": "python",
   "pygments_lexer": "ipython3",
   "version": "3.7.3"
  }
 },
 "nbformat": 4,
 "nbformat_minor": 2
}
