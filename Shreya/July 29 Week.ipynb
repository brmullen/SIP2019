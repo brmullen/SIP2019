{
 "cells": [
  {
   "cell_type": "code",
   "execution_count": 4,
   "metadata": {},
   "outputs": [
    {
     "name": "stdout",
     "output_type": "stream",
     "text": [
      "Error importing slackNotify.py\n",
      "\t ERROR :  No module named 'slacker'\n"
     ]
    }
   ],
   "source": [
    "import numpy as np\n",
    "from sklearn.datasets.samples_generator import make_blobs\n",
    "from sklearn.mixture import GaussianMixture\n",
    "from sklearn.cluster import KMeans\n",
    "from sklearn.decomposition import PCA\n",
    "from sklearn.manifold import TSNE\n",
    "from sklearn.manifold import Isomap\n",
    "from sklearn import datasets\n",
    "from sklearn.model_selection import StratifiedKFold\n",
    "from sklearn.feature_extraction.text import TfidfVectorizer\n",
    "from matplotlib import pyplot as plt\n",
    "import matplotlib as mpl\n",
    "from hdf5manager import hdf5manager as h5\n",
    "from pandas import pandas as pd\n",
    "from pandas import DataFrame\n",
    "from skimage.measure import label, regionprops\n",
    "import scipy\n",
    "import scipy.ndimage.filters as filters\n",
    "import scipy.ndimage as ndimage\n",
    "from scipy.ndimage.filters import gaussian_filter, convolve\n",
    "from scipy.ndimage.morphology import generate_binary_structure, binary_erosion\n",
    "from scipy.ndimage.filters import maximum_filter\n",
    "from scipy.stats import multivariate_normal as mvn\n",
    "from scipy.spatial.distance import cdist\n",
    "from skimage.morphology import disk, watershed\n",
    "from skimage.morphology import erosion, dilation, opening, closing\n",
    "from opticFlow import opticFlow as of\n",
    "import colorsys\n",
    "import wholeBrain as wb\n",
    "from waveletAnalysis import waveletAnalysis as wave\n",
    "import cv2\n",
    "import os\n",
    "import seaborn as sns\n",
    "from time import time\n",
    "from sklearn.preprocessing import Standard "
   ]
  },
  {
   "cell_type": "code",
   "execution_count": 8,
   "metadata": {},
   "outputs": [
    {
     "name": "stdout",
     "output_type": "stream",
     "text": [
      "   angs.stdev   angs.mean  mov.mean  mov.std  mov.mode  mov.range  \\\n",
      "0   99.903343  173.721863     0.314    2.895         1     43.899   \n",
      "1         NaN         NaN     0.000    0.000     17777      0.000   \n",
      "2         NaN         NaN     0.000    0.000     17777      0.000   \n",
      "3         NaN         NaN     0.000    0.000     17777      0.000   \n",
      "4         NaN         NaN     0.000    0.000     17777      0.000   \n",
      "\n",
      "   mov.eventrest  mov.maxeventval  mov.surfarea  mov.totalmag  ...  \\\n",
      "0              1            0.314           620      4646.952  ...   \n",
      "1              0            0.000             0         0.000  ...   \n",
      "2              0            0.000             0         0.000  ...   \n",
      "3              0            0.000             0         0.000  ...   \n",
      "4              0            0.000             0         0.000  ...   \n",
      "\n",
      "   move.timefromevent  mov.numlocmax  brain.data  brain.eventrest  \\\n",
      "0                   0            189      -0.038                0   \n",
      "1                   1              0      -0.038                0   \n",
      "2                   2              0      -0.038                0   \n",
      "3                   3              0      -0.038                0   \n",
      "4                   4              0      -0.040                0   \n",
      "\n",
      "   brain.rangemaxmin  brain.firstder  brain.secondder  diff.brainmov  \\\n",
      "0              0.001           0.000             0.00         -0.352   \n",
      "1              0.001           0.000             0.00         -0.038   \n",
      "2              0.001           0.000             0.00         -0.038   \n",
      "3              0.001           0.000             0.00         -0.038   \n",
      "4              0.001          -0.022            -0.22         -0.040   \n",
      "\n",
      "   diff.brainmovfirstder  diff.brainmovsecder  \n",
      "0                 -0.314               -0.314  \n",
      "1                  0.000                0.000  \n",
      "2                  0.000                0.000  \n",
      "3                  0.000                0.000  \n",
      "4                 -0.022               -0.220  \n",
      "\n",
      "[5 rows x 29 columns]\n"
     ]
    },
    {
     "name": "stderr",
     "output_type": "stream",
     "text": [
      "/anaconda3/lib/python3.7/site-packages/ipykernel_launcher.py:4: FutureWarning: from_csv is deprecated. Please use read_csv(...) instead. Note that some of the default arguments are different, so please refer to the documentation for from_csv when changing your function calls\n",
      "  after removing the cwd from sys.path.\n"
     ]
    }
   ],
   "source": [
    "path = '/Users/shreyamantripragada/Documents/'\n",
    "file = '170721_07_c2_gridOpticFlow_metrics.csv'\n",
    "tsv_output_file = path + file\n",
    "data = pd.DataFrame.from_csv(tsv_output_file)\n",
    "print(data.head())"
   ]
  },
  {
   "cell_type": "code",
   "execution_count": 9,
   "metadata": {},
   "outputs": [
    {
     "name": "stdout",
     "output_type": "stream",
     "text": [
      "StandardScaler(copy=True, with_mean=True, with_std=True)\n",
      "[ 9.71385805e+01  1.85190112e+02  1.14750819e-03  9.59142175e-03\n",
      "  1.75577664e+04  1.63705095e-01  1.23340186e-02  2.05361409e-03\n",
      "  9.54758598e+00  1.69853966e+01 -1.74454136e-04  1.27682741e-18\n",
      "  3.18453859e-01  4.16812934e-01 -9.83590755e-02  1.95366409e-03\n",
      "  0.00000000e+00  6.44889293e-02  2.27462248e+02  2.27462248e+02\n",
      "  2.55886438e+00  3.36302017e-03  3.92244014e-01  2.35224179e-02\n",
      "  6.02255681e-05 -3.11128396e-04  2.21551197e-03 -1.08728263e-03\n",
      " -1.45863659e-03]\n",
      "[[ 1.29419654e-01 -3.24511792e-01  1.84824572e+01 ... -4.53392823e+00\n",
      "  -2.09145055e+00 -1.43739920e-01]\n",
      " [            nan             nan -6.77916005e-02 ... -5.14755111e-01\n",
      "   7.26719538e-03  6.70836989e-04]\n",
      " [            nan             nan -6.77916005e-02 ... -5.14755111e-01\n",
      "   7.26719538e-03  6.70836989e-04]\n",
      " ...\n",
      " [ 6.49471460e-01  3.60479001e-01  4.59930922e+00 ... -1.23155032e+00\n",
      "  -1.45648818e+00 -3.56618057e-02]\n",
      " [            nan             nan -6.77916005e-02 ... -2.20357080e-01\n",
      "  -9.28466833e-01  6.70836989e-04]\n",
      " [            nan             nan -6.77916005e-02 ... -2.20357080e-01\n",
      "  -9.28466833e-01  6.70836989e-04]]\n"
     ]
    },
    {
     "ename": "ValueError",
     "evalue": "operands could not be broadcast together with shapes (1,2) (29,) (1,2) ",
     "output_type": "error",
     "traceback": [
      "\u001b[0;31m---------------------------------------------------------------------------\u001b[0m",
      "\u001b[0;31mValueError\u001b[0m                                Traceback (most recent call last)",
      "\u001b[0;32m<ipython-input-9-e774e17bb4b6>\u001b[0m in \u001b[0;36m<module>\u001b[0;34m\u001b[0m\n\u001b[1;32m      7\u001b[0m \u001b[0mprint\u001b[0m\u001b[0;34m(\u001b[0m\u001b[0mscaler\u001b[0m\u001b[0;34m.\u001b[0m\u001b[0mtransform\u001b[0m\u001b[0;34m(\u001b[0m\u001b[0mdata_new\u001b[0m\u001b[0;34m)\u001b[0m\u001b[0;34m)\u001b[0m\u001b[0;34m\u001b[0m\u001b[0;34m\u001b[0m\u001b[0m\n\u001b[1;32m      8\u001b[0m \u001b[0;34m\u001b[0m\u001b[0m\n\u001b[0;32m----> 9\u001b[0;31m \u001b[0mprint\u001b[0m\u001b[0;34m(\u001b[0m\u001b[0mscaler\u001b[0m\u001b[0;34m.\u001b[0m\u001b[0mtransform\u001b[0m\u001b[0;34m(\u001b[0m\u001b[0;34m[\u001b[0m\u001b[0;34m[\u001b[0m\u001b[0;36m2\u001b[0m\u001b[0;34m,\u001b[0m \u001b[0;36m2\u001b[0m\u001b[0;34m]\u001b[0m\u001b[0;34m]\u001b[0m\u001b[0;34m)\u001b[0m\u001b[0;34m)\u001b[0m\u001b[0;34m\u001b[0m\u001b[0;34m\u001b[0m\u001b[0m\n\u001b[0m",
      "\u001b[0;32m/anaconda3/lib/python3.7/site-packages/sklearn/preprocessing/data.py\u001b[0m in \u001b[0;36mtransform\u001b[0;34m(self, X, copy)\u001b[0m\n\u001b[1;32m    767\u001b[0m         \u001b[0;32melse\u001b[0m\u001b[0;34m:\u001b[0m\u001b[0;34m\u001b[0m\u001b[0;34m\u001b[0m\u001b[0m\n\u001b[1;32m    768\u001b[0m             \u001b[0;32mif\u001b[0m \u001b[0mself\u001b[0m\u001b[0;34m.\u001b[0m\u001b[0mwith_mean\u001b[0m\u001b[0;34m:\u001b[0m\u001b[0;34m\u001b[0m\u001b[0;34m\u001b[0m\u001b[0m\n\u001b[0;32m--> 769\u001b[0;31m                 \u001b[0mX\u001b[0m \u001b[0;34m-=\u001b[0m \u001b[0mself\u001b[0m\u001b[0;34m.\u001b[0m\u001b[0mmean_\u001b[0m\u001b[0;34m\u001b[0m\u001b[0;34m\u001b[0m\u001b[0m\n\u001b[0m\u001b[1;32m    770\u001b[0m             \u001b[0;32mif\u001b[0m \u001b[0mself\u001b[0m\u001b[0;34m.\u001b[0m\u001b[0mwith_std\u001b[0m\u001b[0;34m:\u001b[0m\u001b[0;34m\u001b[0m\u001b[0;34m\u001b[0m\u001b[0m\n\u001b[1;32m    771\u001b[0m                 \u001b[0mX\u001b[0m \u001b[0;34m/=\u001b[0m \u001b[0mself\u001b[0m\u001b[0;34m.\u001b[0m\u001b[0mscale_\u001b[0m\u001b[0;34m\u001b[0m\u001b[0;34m\u001b[0m\u001b[0m\n",
      "\u001b[0;31mValueError\u001b[0m: operands could not be broadcast together with shapes (1,2) (29,) (1,2) "
     ]
    }
   ],
   "source": [
    "data_new = data\n",
    "scaler = StandardScaler()\n",
    "\n",
    "print(scaler.fit(data_new))\n",
    "#print(scaler.mean_)\n",
    "print(scaler.transform(data_new))\n",
    "\n",
    "#print(scaler.transform([[2, 2]]))"
   ]
  },
  {
   "cell_type": "code",
   "execution_count": null,
   "metadata": {},
   "outputs": [],
   "source": []
  }
 ],
 "metadata": {
  "kernelspec": {
   "display_name": "Python 3",
   "language": "python",
   "name": "python3"
  },
  "language_info": {
   "codemirror_mode": {
    "name": "ipython",
    "version": 3
   },
   "file_extension": ".py",
   "mimetype": "text/x-python",
   "name": "python",
   "nbconvert_exporter": "python",
   "pygments_lexer": "ipython3",
   "version": "3.7.3"
  }
 },
 "nbformat": 4,
 "nbformat_minor": 2
}
