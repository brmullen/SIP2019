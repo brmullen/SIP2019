{
 "cells": [
  {
   "cell_type": "markdown",
   "metadata": {},
   "source": [
    "## UMAP Clustering Test"
   ]
  },
  {
   "cell_type": "code",
   "execution_count": 1,
   "metadata": {},
   "outputs": [
    {
     "name": "stdout",
     "output_type": "stream",
     "text": [
      "Error importing slackNotify.py\n",
      "\t ERROR :  No module named 'slacker'\n"
     ]
    }
   ],
   "source": [
    "%matplotlib inline\n",
    "import numpy as np\n",
    "from sklearn.datasets.samples_generator import make_blobs\n",
    "from sklearn.mixture import GaussianMixture\n",
    "from sklearn.cluster import KMeans\n",
    "from sklearn.decomposition import PCA\n",
    "from sklearn.manifold import TSNE\n",
    "from sklearn.manifold import Isomap\n",
    "from sklearn import datasets\n",
    "from sklearn.model_selection import StratifiedKFold\n",
    "from sklearn.feature_extraction.text import TfidfVectorizer\n",
    "from matplotlib import pyplot as plt\n",
    "import matplotlib as mpl\n",
    "from hdf5manager import hdf5manager as h5\n",
    "from pandas import pandas as pd\n",
    "from pandas import DataFrame\n",
    "from skimage.measure import label, regionprops\n",
    "import scipy\n",
    "import scipy.ndimage.filters as filters\n",
    "import scipy.ndimage as ndimage\n",
    "from scipy.ndimage.filters import gaussian_filter, convolve\n",
    "from scipy.ndimage.morphology import generate_binary_structure, binary_erosion\n",
    "from scipy.ndimage.filters import maximum_filter\n",
    "from scipy.stats import multivariate_normal as mvn\n",
    "from scipy.spatial.distance import cdist\n",
    "from skimage.morphology import disk, watershed\n",
    "from skimage.morphology import erosion, dilation, opening, closing\n",
    "from opticFlow import opticFlow as of\n",
    "import colorsys\n",
    "import wholeBrain as wb\n",
    "from waveletAnalysis import waveletAnalysis as wave\n",
    "from timecourseAnalysis import *\n",
    "import sys\n",
    "sys.path.append(\"..\")\n",
    "from BehavioralClassify import * \n",
    "import cv2\n",
    "import os\n",
    "import seaborn as sns\n",
    "from time import time"
   ]
  },
  {
   "cell_type": "code",
   "execution_count": 2,
   "metadata": {},
   "outputs": [
    {
     "name": "stderr",
     "output_type": "stream",
     "text": [
      "/anaconda3/lib/python3.7/site-packages/ipykernel_launcher.py:4: FutureWarning: from_csv is deprecated. Please use read_csv(...) instead. Note that some of the default arguments are different, so please refer to the documentation for from_csv when changing your function calls\n",
      "  after removing the cwd from sys.path.\n"
     ]
    }
   ],
   "source": [
    "path = '/Users/shreyamantripragada/Documents/'\n",
    "file = '170721_07_c1_gridOpticFlow_metrics.csv'\n",
    "tsv_output_file = path + file\n",
    "data_big = pd.DataFrame.from_csv(tsv_output_file)"
   ]
  },
  {
   "cell_type": "code",
   "execution_count": 3,
   "metadata": {},
   "outputs": [],
   "source": [
    "col_list = list(data_big)\n",
    "#puts the paramter on a scale of 0 to 1\n",
    "data_big = data_big.copy()\n",
    "data_big -= data_big.min()\n",
    "data_big /= data_big.max()\n",
    "data_big = data_big.fillna(value=0)"
   ]
  },
  {
   "cell_type": "code",
   "execution_count": 4,
   "metadata": {},
   "outputs": [],
   "source": [
    "indices_big = np.zeros(len(data_big))\n",
    "indices_big[2445 : 3388] = 1\n",
    "indices_big[5166 : 5569] = 1\n",
    "indices_big[8617 : 9298] = 1\n",
    "indices_big[11751 : 12024] = 1\n",
    "indices_big[15367 : 15889] = 1\n",
    "indices_big[17619 : 17964] = 1\n",
    "data_big['classification'] = indices_big"
   ]
  },
  {
   "cell_type": "code",
   "execution_count": 5,
   "metadata": {},
   "outputs": [
    {
     "name": "stdout",
     "output_type": "stream",
     "text": [
      "entered the findingDistanceBetweenMaxOfEvent function\n",
      "entered the findMeans function\n",
      "entered the findEvent function\n",
      "entered the findMeans function\n",
      "entered the comparison function\n",
      "17999\n",
      "17999\n",
      "Index(['mov.range', 'mov.eventrest', 'mov.surfarea', 'mov.diffxystd',\n",
      "       'mov.diffmaxevents', 'mov.percenterror', 'brain.data',\n",
      "       'brain.eventrest', 'brain.rangemaxmin', 'diff.brainmov', 'mov.mean'],\n",
      "      dtype='object')\n"
     ]
    }
   ],
   "source": [
    "value = smooth(data_big[\"mov.mean\"], 30, win_type = \"han\")\n",
    "distance = findingDistanceBetweenMaxOfEvent(value)\n",
    "final_distance = 17999 - len(distance)\n",
    "for i in range(final_distance):\n",
    "    distance.append(0)\n",
    "var = pd.DataFrame()\n",
    "var[\"mov.range\"] = data_big[\"mov.range\"]\n",
    "var[\"mov.eventrest\"] = data_big[\"mov.eventrest\"]\n",
    "var[\"mov.surfarea\"] = data_big[\"mov.surfarea\"]\n",
    "var[\"mov.diffxystd\"] = data_big[\"mov.diffxystd\"]\n",
    "var[\"mov.diffmaxevents\"] = distance\n",
    "var[\"mov.percenterror\"] = data_big[\"mov.percenterror\"]\n",
    "var[\"brain.data\"] = data_big[\"brain.data\"]\n",
    "var[\"brain.eventrest\"] = data_big[\"brain.eventrest\"]\n",
    "var[\"brain.rangemaxmin\"] = data_big[\"brain.rangemaxmin\"]\n",
    "var[\"diff.brainmov\"] = comparison(data_big[\"mov.mean\"], data_big[\"brain.data\"])\n",
    "var[\"mov.mean\"] = value\n",
    "\n",
    "print(var.columns)\n",
    "\n",
    "var_names = [\"mov.range\", \"mov.eventrest\", \"mov.surfarea\", \"mov.diffxystd\", \"mov.diffmaxevents\", \n",
    "             \"mov.percenterror\", \"brain.data\", \"brain.eventrest\", \"brain.rangemaxmin\", \"diff.brainmov\", \"mov.mean\"]\n",
    "\n",
    "o_var = pd.DataFrame()\n",
    "o_var[\"mov.mean\"] = data_big[\"mov.mean\"]\n",
    "o_var[\"mov.surfarea\"] = data_big[\"mov.surfarea\"]\n",
    "o_var[\"mov.diffxystd\"] = data_big[\"mov.diffxystd\"]\n",
    "o_var[\"mov.diffmaxevents\"] = data_big[\"mov.diffmaxevents\"]\n",
    "o_var[\"brain.data\"] = data_big[\"brain.data\"]\n",
    "o_var[\"diff.brainmov\"] = data_big[\"diff.brainmov\"]\n",
    "o_var[\"brain.eventrest\"] = data_big[\"brain.eventrest\"]\n",
    "o_var[\"mov.timetoevent\"] = data_big[\"mov.timetoevent\"]\n",
    "o_var[\"mov.timefromevent\"] = data_big[\"mov.timefromevent\"]\n",
    "\n",
    "o_var_names = [\"mov.mean\", \"mov.surfarea\", \"mov.diffxystd\", \"mov.diffmaxevents\", \"brain.data\", \"diff.brainmov\", \"brain.eventrest\", \"mov.timetoevent\", \"mov.timefromevent\"]"
   ]
  },
  {
   "cell_type": "code",
   "execution_count": 17,
   "metadata": {},
   "outputs": [
    {
     "name": "stderr",
     "output_type": "stream",
     "text": [
      "/anaconda3/lib/python3.7/site-packages/umap/spectral.py:229: UserWarning: Embedding a total of 403 separate connected components using meta-embedding (experimental)\n",
      "  n_components\n"
     ]
    },
    {
     "ename": "NameError",
     "evalue": "name 'mnist' is not defined",
     "output_type": "error",
     "traceback": [
      "\u001b[0;31m---------------------------------------------------------------------------\u001b[0m",
      "\u001b[0;31mNameError\u001b[0m                                 Traceback (most recent call last)",
      "\u001b[0;32m<ipython-input-17-09470624a93f>\u001b[0m in \u001b[0;36m<module>\u001b[0;34m\u001b[0m\n\u001b[1;32m      5\u001b[0m \u001b[0;34m\u001b[0m\u001b[0m\n\u001b[1;32m      6\u001b[0m \u001b[0mfig\u001b[0m\u001b[0;34m,\u001b[0m \u001b[0max\u001b[0m \u001b[0;34m=\u001b[0m \u001b[0mplt\u001b[0m\u001b[0;34m.\u001b[0m\u001b[0msubplots\u001b[0m\u001b[0;34m(\u001b[0m\u001b[0mfigsize\u001b[0m\u001b[0;34m=\u001b[0m\u001b[0;34m(\u001b[0m\u001b[0;36m12\u001b[0m\u001b[0;34m,\u001b[0m \u001b[0;36m10\u001b[0m\u001b[0;34m)\u001b[0m\u001b[0;34m)\u001b[0m\u001b[0;34m\u001b[0m\u001b[0;34m\u001b[0m\u001b[0m\n\u001b[0;32m----> 7\u001b[0;31m \u001b[0mcolor\u001b[0m \u001b[0;34m=\u001b[0m \u001b[0mmnist\u001b[0m\u001b[0;34m.\u001b[0m\u001b[0mtarget\u001b[0m\u001b[0;34m.\u001b[0m\u001b[0mastype\u001b[0m\u001b[0;34m(\u001b[0m\u001b[0mint\u001b[0m\u001b[0;34m)\u001b[0m\u001b[0;34m\u001b[0m\u001b[0;34m\u001b[0m\u001b[0m\n\u001b[0m\u001b[1;32m      8\u001b[0m plt.scatter(\n\u001b[1;32m      9\u001b[0m     \u001b[0membedding\u001b[0m\u001b[0;34m[\u001b[0m\u001b[0;34m:\u001b[0m\u001b[0;34m,\u001b[0m \u001b[0;36m0\u001b[0m\u001b[0;34m]\u001b[0m\u001b[0;34m,\u001b[0m \u001b[0membedding\u001b[0m\u001b[0;34m[\u001b[0m\u001b[0;34m:\u001b[0m\u001b[0;34m,\u001b[0m \u001b[0;36m1\u001b[0m\u001b[0;34m]\u001b[0m\u001b[0;34m,\u001b[0m \u001b[0mc\u001b[0m\u001b[0;34m=\u001b[0m\u001b[0mcolor\u001b[0m\u001b[0;34m,\u001b[0m \u001b[0mcmap\u001b[0m\u001b[0;34m=\u001b[0m\u001b[0;34m\"Spectral\"\u001b[0m\u001b[0;34m,\u001b[0m \u001b[0ms\u001b[0m\u001b[0;34m=\u001b[0m\u001b[0;36m0.1\u001b[0m\u001b[0;34m\u001b[0m\u001b[0;34m\u001b[0m\u001b[0m\n",
      "\u001b[0;31mNameError\u001b[0m: name 'mnist' is not defined"
     ]
    }
   ],
   "source": [
    "sns.set(context=\"paper\", style=\"white\")\n",
    "\n",
    "reducer = umap.UMAP(random_state=42)\n",
    "embedding = reducer.fit_transform(var)\n",
    "\n",
    "fig, ax = plt.subplots(figsize=(12, 10))\n",
    "color = mnist.target.astype(int)\n",
    "plt.scatter(\n",
    "    embedding[:, 0], embedding[:, 1], c=color, cmap=\"Spectral\", s=0.1\n",
    ")\n",
    "plt.setp(ax, xticks=[], yticks=[])\n",
    "plt.title(\"MNIST data embedded into two dimensions by UMAP\", fontsize=18)\n",
    "\n",
    "plt.show()"
   ]
  },
  {
   "cell_type": "code",
   "execution_count": null,
   "metadata": {},
   "outputs": [],
   "source": []
  }
 ],
 "metadata": {
  "kernelspec": {
   "display_name": "Python 3",
   "language": "python",
   "name": "python3"
  },
  "language_info": {
   "codemirror_mode": {
    "name": "ipython",
    "version": 3
   },
   "file_extension": ".py",
   "mimetype": "text/x-python",
   "name": "python",
   "nbconvert_exporter": "python",
   "pygments_lexer": "ipython3",
   "version": "3.7.3"
  }
 },
 "nbformat": 4,
 "nbformat_minor": 2
}
