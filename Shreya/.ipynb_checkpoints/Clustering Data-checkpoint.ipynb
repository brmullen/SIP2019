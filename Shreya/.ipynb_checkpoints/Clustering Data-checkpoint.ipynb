{
 "cells": [
  {
   "cell_type": "markdown",
   "metadata": {},
   "source": [
    "# Clustering!"
   ]
  },
  {
   "cell_type": "code",
   "execution_count": 2,
   "metadata": {},
   "outputs": [
    {
     "name": "stdout",
     "output_type": "stream",
     "text": [
      "Error importing slackNotify.py\n",
      "\t ERROR :  No module named 'slacker'\n"
     ]
    }
   ],
   "source": [
    "import numpy as np\n",
    "from sklearn.datasets.samples_generator import make_blobs\n",
    "from sklearn.mixture import GaussianMixture\n",
    "from sklearn.cluster import KMeans\n",
    "from sklearn.decomposition import PCA\n",
    "from sklearn.manifold import TSNE\n",
    "from sklearn.manifold import Isomap\n",
    "from sklearn import datasets\n",
    "from sklearn.model_selection import StratifiedKFold\n",
    "from sklearn.feature_extraction.text import TfidfVectorizer\n",
    "from matplotlib import pyplot as plt\n",
    "import matplotlib as mpl\n",
    "from hdf5manager import hdf5manager as h5\n",
    "from pandas import pandas as pd\n",
    "from pandas import DataFrame\n",
    "from skimage.measure import label, regionprops\n",
    "import scipy\n",
    "import scipy.ndimage.filters as filters\n",
    "import scipy.ndimage as ndimage\n",
    "from scipy.ndimage.filters import gaussian_filter, convolve\n",
    "from scipy.ndimage.morphology import generate_binary_structure, binary_erosion\n",
    "from scipy.ndimage.filters import maximum_filter\n",
    "from scipy.stats import multivariate_normal as mvn\n",
    "from scipy.spatial.distance import cdist\n",
    "from skimage.morphology import disk, watershed\n",
    "from skimage.morphology import erosion, dilation, opening, closing\n",
    "from opticFlow import opticFlow as of\n",
    "import colorsys\n",
    "import wholeBrain as wb\n",
    "from waveletAnalysis import waveletAnalysis as wave\n",
    "import cv2\n",
    "import os\n",
    "import seaborn as sns\n",
    "from time import time"
   ]
  },
  {
   "cell_type": "code",
   "execution_count": null,
   "metadata": {},
   "outputs": [],
   "source": []
  },
  {
   "cell_type": "markdown",
   "metadata": {},
   "source": [
    "# t-SNE Clusterin'"
   ]
  },
  {
   "cell_type": "code",
   "execution_count": 3,
   "metadata": {},
   "outputs": [
    {
     "name": "stdout",
     "output_type": "stream",
     "text": [
      "   mov.mean  mov.std  mov.mode  mov.range  mov.eventrest  mov.maxeventval  \\\n",
      "0       0.0      0.0      3675        0.0              0              0.0   \n",
      "1       0.0      0.0      3675        0.0              0              0.0   \n",
      "2       0.0      0.0      3675        0.0              0              0.0   \n",
      "3       0.0      0.0      3675        0.0              0              0.0   \n",
      "4       0.0      0.0      3675        0.0              0              0.0   \n",
      "\n",
      "   mov.surfarea  mov.totalmag  mov.firstder  mov.secder  ...  mov.timetoevent  \\\n",
      "0             0           0.0           0.0         0.0  ...              114   \n",
      "1             0           0.0           0.0         0.0  ...              113   \n",
      "2             0           0.0           0.0         0.0  ...              112   \n",
      "3             0           0.0           0.0         0.0  ...              111   \n",
      "4             0           0.0           0.0         0.0  ...              110   \n",
      "\n",
      "   move.timefromevent  brain.data  brain.eventrest  brain.rangemaxmin  \\\n",
      "0                   1      -0.138                0              0.086   \n",
      "1                   2      -0.138                0              0.086   \n",
      "2                   3      -0.138                0              0.086   \n",
      "3                   4      -0.130                0              0.086   \n",
      "4                   5      -0.130                0              0.086   \n",
      "\n",
      "   brain.firstder  brain.secder  diff.brainmov  diff.brainmovfirstder  \\\n",
      "0           0.000          0.00         -0.138                  0.000   \n",
      "1           0.000          0.00         -0.138                  0.000   \n",
      "2           0.000          0.00         -0.138                  0.000   \n",
      "3           0.075          0.75         -0.130                  0.075   \n",
      "4           0.075          0.75         -0.130                  0.075   \n",
      "\n",
      "   diff.brainmovsecder  \n",
      "0                 0.00  \n",
      "1                 0.00  \n",
      "2                 0.00  \n",
      "3                 0.75  \n",
      "4                 0.75  \n",
      "\n",
      "[5 rows x 26 columns]\n"
     ]
    },
    {
     "name": "stderr",
     "output_type": "stream",
     "text": [
      "/anaconda3/lib/python3.7/site-packages/ipykernel_launcher.py:5: FutureWarning: from_csv is deprecated. Please use read_csv(...) instead. Note that some of the default arguments are different, so please refer to the documentation for from_csv when changing your function calls\n",
      "  \"\"\"\n"
     ]
    }
   ],
   "source": [
    "#Open file\n",
    "path = '/Users/shreyamantripragada/Documents/'\n",
    "file = 'test_angs_mags_metrics.csv'\n",
    "tsv_output_file = path + file\n",
    "data = pd.DataFrame.from_csv(tsv_output_file)\n",
    "\n",
    "print(data.head())"
   ]
  },
  {
   "cell_type": "code",
   "execution_count": 4,
   "metadata": {},
   "outputs": [],
   "source": [
    "indices = []\n",
    "for i in range(len(data[\"mov.mean\"])):\n",
    "    if i >= 1445 and i < 2388:\n",
    "        indices.append(1)\n",
    "    else:\n",
    "        indices.append(0)"
   ]
  },
  {
   "cell_type": "code",
   "execution_count": 5,
   "metadata": {},
   "outputs": [
    {
     "name": "stdout",
     "output_type": "stream",
     "text": [
      "1\n",
      "1.0\n",
      "1.0\n"
     ]
    }
   ],
   "source": [
    "data = data.astype('float16')\n",
    "a = np.zeros(len(data))\n",
    "a[1445:2388]=1\n",
    "data['classification'] = a\n",
    "# data['classification'].iloc[indices == 0] = 0\n",
    "# data['classification'].iloc[indices == 1] = 1\n",
    "c = [\"blue\", \"red\"]\n",
    "print(indices[1500])\n",
    "print(data[\"classification\"][1500])\n",
    "print(data.loc[1500, \"classification\"])\n",
    "#sns.pairplot(data, diag_kind=\"kde\", markers=[\"o\", \"o\"], hue_order = [0, 1], hue='classification', palette = c)\n",
    "#plt.savefig('/Users/emmadionne/Documents/metrics_small_pairplot.png')"
   ]
  },
  {
   "cell_type": "code",
   "execution_count": 30,
   "metadata": {},
   "outputs": [
    {
     "name": "stdout",
     "output_type": "stream",
     "text": [
      "mov.mean                 0\n",
      "mov.std                  0\n",
      "mov.mode                 0\n",
      "mov.range                0\n",
      "mov.eventrest            0\n",
      "mov.maxeventval          0\n",
      "mov.surfarea             0\n",
      "mov.totalmag             0\n",
      "mov.firstder             0\n",
      "mov.secder               0\n",
      "mov.stdx                 0\n",
      "mov.stdy                 0\n",
      "mov.diffxystd            0\n",
      "mov.diffmaxevents        0\n",
      "mov.percent              0\n",
      "mov.percenterror         0\n",
      "mov.timetoevent          0\n",
      "move.timefromevent       0\n",
      "brain.data               0\n",
      "brain.eventrest          0\n",
      "brain.rangemaxmin        0\n",
      "brain.firstder           0\n",
      "brain.secder             0\n",
      "diff.brainmov            0\n",
      "diff.brainmovfirstder    0\n",
      "diff.brainmovsecder      0\n",
      "classification           0\n",
      "dtype: int64\n",
      "mov.mean             0\n",
      "mov.firstder         0\n",
      "brain.rangemaxmin    0\n",
      "brain.data           0\n",
      "dtype: int64\n"
     ]
    },
    {
     "data": {
      "image/png": "[encoded data removed]",
      "text/plain": [
       "<Figure size 432x288 with 1 Axes>"
      ]
     },
     "metadata": {
      "needs_background": "light"
     },
     "output_type": "display_data"
    }
   ],
   "source": [
    "from sklearn.manifold import TSNE\n",
    "print(np.sum(np.isnan(data)))\n",
    "\n",
    "list_of_columns = ['mov.mean', 'mov.firstder', 'brain.rangemaxmin', 'brain.data']\n",
    "\n",
    "data2 = data[list_of_columns].fillna(value=0).copy()\n",
    "data2 = data2.replace([np.inf, -np.inf], 10**3,)\n",
    "print(np.sum(np.isinf(data2)))\n",
    "\n",
    "data2 -= data2.min()\n",
    "data2 /= data2.max()\n",
    "tsne = TSNE(n_components=2, random_state=42)\n",
    "X_reduced_tsne = tsne.fit_transform(data2.values)\n",
    "\n",
    "plt.title('t-SNE', fontsize=14)\n",
    "plt.scatter(X_reduced_tsne[:, 0], X_reduced_tsne[:, 1], c=data2['brain.rangemaxmin'], cmap='jet')\n",
    "plt.xlabel(\"t-SNE_1\", fontsize=18)\n",
    "plt.ylabel(\"t-SNE_2\", fontsize=18)\n",
    "plt.grid(True)\n",
    "\n",
    "# save_fig(\"other_dim_reduction_plot\")\n",
    "plt.show()"
   ]
  },
  {
   "cell_type": "code",
   "execution_count": 32,
   "metadata": {},
   "outputs": [
    {
     "data": {
      "image/png": "[encoded data removed]",
      "text/plain": [
       "<Figure size 432x288 with 1 Axes>"
      ]
     },
     "metadata": {
      "needs_background": "light"
     },
     "output_type": "display_data"
    }
   ],
   "source": [
    "def plot_classification(data, indices, color):\n",
    "    colors_list = [\"violet\", \"magenta\", \"teal\", \"silver\", \"salmon\", \"pink\"]\n",
    "    num_color = 0;\n",
    "    if (len(np.unique(indices)) > 2):\n",
    "        for i in range(len(indices)):\n",
    "            if (indices[i] == 0):\n",
    "                plt.axvline(x = i, color = 'blue', alpha = 0.01)\n",
    "            elif (indices[i] == 1):\n",
    "                plt.axvline(x = i, color = 'orange', alpha = 0.01)\n",
    "            elif (indices[i] == 2):\n",
    "                plt.axvline(x = i, color = 'green', alpha = 0.01 )\n",
    "            elif (indices[i] == 3 ):\n",
    "                plt.axvline(x = i, color = 'purple', alpha = 3)\n",
    "            else:\n",
    "                plt.axvline(x = i, color = colors_list[num_color], alpha = 0.01)\n",
    "                num_color += num_color\n",
    "                \n",
    "    else:\n",
    "        for i in range(len(indices)):\n",
    "            if (indices [i] == 0):\n",
    "                plt.axvline(x = i, color = 'purple', alpha = 0.01)\n",
    "            elif (indices [i] == 1):\n",
    "                plt.axvline(x = i, color = 'yellow', alpha = 0.01)\n",
    "    \n",
    "    plt.plot(data, color)\n",
    "plot_classification(data[\"mov.mean\"], indices, \"black\")\n",
    "        "
   ]
  },
  {
   "cell_type": "code",
   "execution_count": 8,
   "metadata": {},
   "outputs": [
    {
     "ename": "NameError",
     "evalue": "name 'data4' is not defined",
     "output_type": "error",
     "traceback": [
      "\u001b[0;31m---------------------------------------------------------------------------\u001b[0m",
      "\u001b[0;31mNameError\u001b[0m                                 Traceback (most recent call last)",
      "\u001b[0;32m<ipython-input-8-ffd1329b2e17>\u001b[0m in \u001b[0;36m<module>\u001b[0;34m\u001b[0m\n\u001b[1;32m      7\u001b[0m \u001b[0mdata\u001b[0m\u001b[0;34m[\u001b[0m\u001b[0;34m'classification'\u001b[0m\u001b[0;34m]\u001b[0m \u001b[0;34m=\u001b[0m \u001b[0ma\u001b[0m\u001b[0;34m\u001b[0m\u001b[0;34m\u001b[0m\u001b[0m\n\u001b[1;32m      8\u001b[0m \u001b[0;34m\u001b[0m\u001b[0m\n\u001b[0;32m----> 9\u001b[0;31m \u001b[0mvar\u001b[0m \u001b[0;34m=\u001b[0m \u001b[0mdata4\u001b[0m\u001b[0;34m.\u001b[0m\u001b[0mcolumns\u001b[0m\u001b[0;34m\u001b[0m\u001b[0;34m\u001b[0m\u001b[0m\n\u001b[0m\u001b[1;32m     10\u001b[0m \u001b[0;34m\u001b[0m\u001b[0m\n\u001b[1;32m     11\u001b[0m \u001b[0mprint\u001b[0m\u001b[0;34m(\u001b[0m\u001b[0mnp\u001b[0m\u001b[0;34m.\u001b[0m\u001b[0msum\u001b[0m\u001b[0;34m(\u001b[0m\u001b[0mnp\u001b[0m\u001b[0;34m.\u001b[0m\u001b[0misinf\u001b[0m\u001b[0;34m(\u001b[0m\u001b[0mdata\u001b[0m\u001b[0;34m)\u001b[0m\u001b[0;34m)\u001b[0m\u001b[0;34m)\u001b[0m\u001b[0;34m\u001b[0m\u001b[0;34m\u001b[0m\u001b[0m\n",
      "\u001b[0;31mNameError\u001b[0m: name 'data4' is not defined"
     ]
    }
   ],
   "source": [
    "import statsmodels.api as sm\n",
    "from scipy import stats \n",
    "\n",
    "data = data.astype('float64')\n",
    "a = np.zeros(len(data))\n",
    "a[1445:2338] = 1\n",
    "data['classification'] = a\n",
    "\n",
    "var = data4.columns\n",
    "\n",
    "print(np.sum(np.isinf(data)))\n",
    "\n",
    "is_zeros = np.where(data[\"classification\"] == 0)[0]\n",
    "is_ones = np.where(data[\"classification\"] == 1)[0]\n",
    "\n",
    "for i in range(len(var)):\n",
    "    #logit_model=sm.(data[\"classification\"], data[new_vars[i]])\n",
    "    results=stats.ttest_ind(data[var[i]][is_zeros], data[var[i]][is_ones])\n",
    "    print(results)"
   ]
  },
  {
   "cell_type": "code",
   "execution_count": null,
   "metadata": {},
   "outputs": [],
   "source": []
  }
 ],
 "metadata": {
  "kernelspec": {
   "display_name": "Python 3",
   "language": "python",
   "name": "python3"
  },
  "language_info": {
   "codemirror_mode": {
    "name": "ipython",
    "version": 3
   },
   "file_extension": ".py",
   "mimetype": "text/x-python",
   "name": "python",
   "nbconvert_exporter": "python",
   "pygments_lexer": "ipython3",
   "version": "3.7.3"
  }
 },
 "nbformat": 4,
 "nbformat_minor": 2
}
