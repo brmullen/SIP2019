{
 "cells": [
  {
   "cell_type": "markdown",
   "metadata": {},
   "source": [
    "# Supervised Classification -- July 22, 2019"
   ]
  },
  {
   "cell_type": "code",
   "execution_count": 12,
   "metadata": {},
   "outputs": [],
   "source": [
    "import numpy as np\n",
    "from sklearn.datasets.samples_generator import make_blobs\n",
    "from sklearn.mixture import GaussianMixture\n",
    "from sklearn.cluster import KMeans\n",
    "from sklearn.decomposition import PCA\n",
    "from sklearn.manifold import TSNE\n",
    "from sklearn.manifold import Isomap\n",
    "from sklearn import datasets\n",
    "from sklearn.model_selection import StratifiedKFold\n",
    "from sklearn.feature_extraction.text import TfidfVectorizer\n",
    "from matplotlib import pyplot as plt\n",
    "import matplotlib as mpl\n",
    "from hdf5manager import hdf5manager as h5\n",
    "from pandas import pandas as pd\n",
    "from pandas import DataFrame\n",
    "from skimage.measure import label, regionprops\n",
    "import scipy\n",
    "import scipy.ndimage.filters as filters\n",
    "import scipy.ndimage as ndimage\n",
    "from scipy.ndimage.filters import gaussian_filter, convolve\n",
    "from scipy.ndimage.morphology import generate_binary_structure, binary_erosion\n",
    "from scipy.ndimage.filters import maximum_filter\n",
    "from scipy.stats import multivariate_normal as mvn\n",
    "from scipy.spatial.distance import cdist\n",
    "from skimage.morphology import disk, watershed\n",
    "from skimage.morphology import erosion, dilation, opening, closing\n",
    "from opticFlow import opticFlow as of\n",
    "import colorsys\n",
    "import wholeBrain as wb\n",
    "from waveletAnalysis import waveletAnalysis as wave\n",
    "import cv2\n",
    "import os\n",
    "import seaborn as sns\n",
    "from time import time"
   ]
  },
  {
   "cell_type": "code",
   "execution_count": 13,
   "metadata": {},
   "outputs": [
    {
     "name": "stdout",
     "output_type": "stream",
     "text": [
      "   mov.mean  mov.std  mov.mode  mov.range  mov.eventrest  mov.maxeventval  \\\n",
      "0       0.0      0.0      3675        0.0              0              0.0   \n",
      "1       0.0      0.0      3675        0.0              0              0.0   \n",
      "2       0.0      0.0      3675        0.0              0              0.0   \n",
      "3       0.0      0.0      3675        0.0              0              0.0   \n",
      "4       0.0      0.0      3675        0.0              0              0.0   \n",
      "\n",
      "   mov.surfarea  mov.totalmag  mov.firstder  mov.secder  ...  mov.timetoevent  \\\n",
      "0             0           0.0           0.0         0.0  ...              114   \n",
      "1             0           0.0           0.0         0.0  ...              113   \n",
      "2             0           0.0           0.0         0.0  ...              112   \n",
      "3             0           0.0           0.0         0.0  ...              111   \n",
      "4             0           0.0           0.0         0.0  ...              110   \n",
      "\n",
      "   move.timefromevent  brain.data  brain.eventrest  brain.rangemaxmin  \\\n",
      "0                   1      -0.138                0              0.086   \n",
      "1                   2      -0.138                0              0.086   \n",
      "2                   3      -0.138                0              0.086   \n",
      "3                   4      -0.130                0              0.086   \n",
      "4                   5      -0.130                0              0.086   \n",
      "\n",
      "   brain.firstder  brain.secder  diff.brainmov  diff.brainmovfirstder  \\\n",
      "0           0.000          0.00         -0.138                  0.000   \n",
      "1           0.000          0.00         -0.138                  0.000   \n",
      "2           0.000          0.00         -0.138                  0.000   \n",
      "3           0.075          0.75         -0.130                  0.075   \n",
      "4           0.075          0.75         -0.130                  0.075   \n",
      "\n",
      "   diff.brainmovsecder  \n",
      "0                 0.00  \n",
      "1                 0.00  \n",
      "2                 0.00  \n",
      "3                 0.75  \n",
      "4                 0.75  \n",
      "\n",
      "[5 rows x 26 columns]\n"
     ]
    },
    {
     "name": "stderr",
     "output_type": "stream",
     "text": [
      "/anaconda3/lib/python3.7/site-packages/ipykernel_launcher.py:4: FutureWarning: from_csv is deprecated. Please use read_csv(...) instead. Note that some of the default arguments are different, so please refer to the documentation for from_csv when changing your function calls\n",
      "  after removing the cwd from sys.path.\n"
     ]
    }
   ],
   "source": [
    "path = '/Users/shreyamantripragada/Documents/'\n",
    "file = '170721_07_c2_gridOpticFlow_metrics.csv'\n",
    "tsv_output_file = path + file\n",
    "data = pd.DataFrame.from_csv(tsv_output_file)\n",
    "print(data.head())"
   ]
  },
  {
   "cell_type": "code",
   "execution_count": 14,
   "metadata": {},
   "outputs": [],
   "source": [
    "indices = []\n",
    "for i in range(len(data[\"mov.mean\"])):\n",
    "    if i >= 1445 and i < 2388:\n",
    "        indices.append(1)\n",
    "    else:\n",
    "        indices.append(0)"
   ]
  },
  {
   "cell_type": "code",
   "execution_count": 15,
   "metadata": {},
   "outputs": [],
   "source": [
    "%matplotlib inline\n",
    "\n",
    "col_list = list(data)\n",
    "\n",
    "data = data.copy()\n",
    "data -= data_new.min()\n",
    "data /= data_new.max()\n",
    "data = data_new.fillna(value=0)"
   ]
  },
  {
   "cell_type": "code",
   "execution_count": 16,
   "metadata": {},
   "outputs": [],
   "source": [
    "data = data.astype('float64')\n",
    "a = np.zeros(len(data))\n",
    "a[1445:2388]=1\n",
    "data['classification'] = a"
   ]
  },
  {
   "cell_type": "code",
   "execution_count": 17,
   "metadata": {},
   "outputs": [],
   "source": [
    "var = pd.DataFrame()\n",
    "var[\"mov.mean\"] = data[\"mov.mean\"]\n",
    "var[\"mov.maxeventval\"] = data[\"mov.maxeventval\"]\n",
    "var[\"mov.diffxystd\"] = data[\"mov.diffxystd\"]\n",
    "var[\"mov.diffmaxevents\"] = data[\"mov.diffmaxevents\"]\n",
    "var[\"mov.surfarea\"] = data[\"mov.surfarea\"]\n",
    "var[\"diff.brainmov\"] = data[\"diff.brainmov\"]\n",
    "var[\"brain.data\"] = data[\"brain.data\"]\n",
    "\n",
    "var_names = [\"mov.mean\", \"mov.maxeventval\", \"mov.diffxystd\", \"mov.diffmaxevents\", \"mov.surfarea\", \"diff.brainmov\",\n",
    "\"brain.data\"]"
   ]
  },
  {
   "cell_type": "markdown",
   "metadata": {},
   "source": [
    "## Logistic Regression"
   ]
  },
  {
   "cell_type": "code",
   "execution_count": 20,
   "metadata": {},
   "outputs": [
    {
     "name": "stdout",
     "output_type": "stream",
     "text": [
      "Accuracy of Logistic Regression classifier on test set:\t                0.89\n",
      "[0 0 0 ... 1 0 0]\n",
      "<class 'pandas.core.series.Series'>\n",
      "0\n"
     ]
    }
   ],
   "source": [
    "#Logistic Regression\n",
    "from sklearn.model_selection import train_test_split\n",
    "from sklearn.linear_model import LogisticRegression\n",
    "\n",
    "y = data_new.loc[:,'classification']\n",
    "\n",
    "X_train, X_test, y_train, y_test = train_test_split(var, y, \n",
    "            test_size=0.3, random_state=42)\n",
    "\n",
    "logreg = LogisticRegression(C  = 1, solver = 'liblinear')\n",
    "logreg.fit(X_train, y_train)\n",
    "y_pred = logreg.predict(X_test)\n",
    "print('Accuracy of Logistic Regression classifier on test set:\\t\\\n",
    "                {:.2f}'.format(logreg.score(X_test, y_test)))\n",
    "\n",
    "print(y_pred)\n",
    "print(type(y_test))\n",
    "print(y_test[0])"
   ]
  },
  {
   "cell_type": "code",
   "execution_count": 21,
   "metadata": {},
   "outputs": [
    {
     "name": "stdout",
     "output_type": "stream",
     "text": [
      "                     not pred.          pred.\n",
      "       not act.            877             35\n",
      "           act.             93            195\n"
     ]
    }
   ],
   "source": [
    "from sklearn.metrics import confusion_matrix\n",
    "confusion_matrix = confusion_matrix(y_test, y_pred)\n",
    "col_list = ['not pred.', 'pred.']\n",
    "row_list = ['not act.', 'act.']\n",
    "row_format =\"{:>15}\" * (len(col_list) + 1)\n",
    "print(row_format.format(\"\", *col_list))\n",
    "for rlist, row in zip(row_list, confusion_matrix):\n",
    "    print(row_format.format(rlist, *row))"
   ]
  },
  {
   "cell_type": "code",
   "execution_count": 22,
   "metadata": {},
   "outputs": [
    {
     "name": "stdout",
     "output_type": "stream",
     "text": [
      "              precision    recall  f1-score   support\n",
      "\n",
      "           0       0.90      0.96      0.93       912\n",
      "           1       0.85      0.68      0.75       288\n",
      "\n",
      "   micro avg       0.89      0.89      0.89      1200\n",
      "   macro avg       0.88      0.82      0.84      1200\n",
      "weighted avg       0.89      0.89      0.89      1200\n",
      "\n"
     ]
    }
   ],
   "source": [
    "from sklearn.metrics import classification_report\n",
    "print(classification_report(y_test, y_pred))"
   ]
  },
  {
   "cell_type": "code",
   "execution_count": 24,
   "metadata": {},
   "outputs": [
    {
     "data": {
      "image/png": "[encoded data removed]",
      "text/plain": [
       "<Figure size 432x288 with 1 Axes>"
      ]
     },
     "metadata": {
      "needs_background": "light"
     },
     "output_type": "display_data"
    }
   ],
   "source": [
    "from sklearn.metrics import roc_auc_score\n",
    "from sklearn.metrics import roc_curve\n",
    "\n",
    "roc_auc = roc_auc_score(y_test, logreg.predict(X_test))\n",
    "fpr, tpr, thresholds = roc_curve(y_test, logreg.predict_proba(X_test)[:,1])\n",
    "plt.figure()\n",
    "plt.plot(fpr, tpr, label='Logistic Regression (area = %0.2f)' % roc_auc)\n",
    "plt.plot([0, 1], [0, 1],'r--')\n",
    "plt.xlim([0.0, 1.0])\n",
    "plt.ylim([0.0, 1.05])\n",
    "plt.xlabel('False Positive Rate')\n",
    "plt.ylabel('True Positive Rate')\n",
    "plt.title('Receiver operating characteristic')\n",
    "plt.legend(loc=\"lower right\")\n",
    "plt.savefig('Log_ROC')\n",
    "plt.show()\n",
    "\n",
    "var.loc[X_test.index, 'logreg_prob'] = logreg.predict_proba(X_test)[:,1]\n",
    "var.loc[X_train.index, 'logreg_prob'] = logreg.predict_proba(X_train)[:,1]\n",
    "\n",
    "# print(data.loc[X_test.index, 'signal'])\n",
    "\n",
    "# print(logreg.predict_proba(X_test))"
   ]
  },
  {
   "cell_type": "markdown",
   "metadata": {},
   "source": [
    "## Gaussian Naive Bayes Classifier"
   ]
  },
  {
   "cell_type": "code",
   "execution_count": 27,
   "metadata": {},
   "outputs": [
    {
     "data": {
      "text/plain": [
       "GaussianNB(priors=None, var_smoothing=0.25)"
      ]
     },
     "execution_count": 27,
     "metadata": {},
     "output_type": "execute_result"
    }
   ],
   "source": [
    "from sklearn.naive_bayes import GaussianNB\n",
    "from sklearn import metrics\n",
    "\n",
    "gnb = GaussianNB(var_smoothing= 0.25)\n",
    "gnb.fit(X_train, y_train)"
   ]
  },
  {
   "cell_type": "code",
   "execution_count": 28,
   "metadata": {},
   "outputs": [
    {
     "name": "stdout",
     "output_type": "stream",
     "text": [
      "Accuracy of Gaussian NB classifier on test set: 0.88\n"
     ]
    }
   ],
   "source": [
    "y_pred = gnb.predict(X_test)\n",
    "\n",
    "print('Accuracy of Gaussian NB classifier on test set: {:.2f}'.format(gnb.score(X_test, y_test)))"
   ]
  },
  {
   "cell_type": "code",
   "execution_count": 29,
   "metadata": {},
   "outputs": [
    {
     "name": "stdout",
     "output_type": "stream",
     "text": [
      "                     not pred.          pred.\n",
      "       not act.            833             79\n",
      "           act.             70            218\n"
     ]
    }
   ],
   "source": [
    "from sklearn.metrics import confusion_matrix\n",
    "confusion_matrix = confusion_matrix(y_test, y_pred)\n",
    "col_list = ['not pred.', 'pred.']\n",
    "row_list = ['not act.', 'act.']\n",
    "row_format =\"{:>15}\" * (len(col_list) + 1)\n",
    "print(row_format.format(\"\", *col_list))\n",
    "for rlist, row in zip(row_list, confusion_matrix):\n",
    "    print(row_format.format(rlist, *row))"
   ]
  },
  {
   "cell_type": "code",
   "execution_count": 30,
   "metadata": {},
   "outputs": [
    {
     "name": "stdout",
     "output_type": "stream",
     "text": [
      "              precision    recall  f1-score   support\n",
      "\n",
      "           0       0.92      0.91      0.92       912\n",
      "           1       0.73      0.76      0.75       288\n",
      "\n",
      "   micro avg       0.88      0.88      0.88      1200\n",
      "   macro avg       0.83      0.84      0.83      1200\n",
      "weighted avg       0.88      0.88      0.88      1200\n",
      "\n"
     ]
    }
   ],
   "source": [
    "from sklearn.metrics import classification_report\n",
    "print(classification_report(y_test, y_pred))"
   ]
  },
  {
   "cell_type": "code",
   "execution_count": 34,
   "metadata": {},
   "outputs": [
    {
     "data": {
      "image/png": "[encoded data removed]",
      "text/plain": [
       "<Figure size 432x288 with 1 Axes>"
      ]
     },
     "metadata": {
      "needs_background": "light"
     },
     "output_type": "display_data"
    }
   ],
   "source": [
    "from sklearn.metrics import roc_auc_score\n",
    "from sklearn.metrics import roc_curve\n",
    "\n",
    "roc_auc = roc_auc_score(y_test, gnb.predict(X_test))\n",
    "fpr, tpr, thresholds = roc_curve(y_test, gnb.predict_proba(X_test)[:,1])\n",
    "plt.figure()\n",
    "plt.plot(fpr, tpr, label='Gaussian NB (area = %0.2f)' % roc_auc)\n",
    "plt.plot([0, 1], [0, 1],'r--')\n",
    "plt.xlim([0.0, 1.0])\n",
    "plt.ylim([0.0, 1.05])\n",
    "plt.xlabel('False Positive Rate')\n",
    "plt.ylabel('True Positive Rate')\n",
    "plt.title('Receiver operating characteristic')\n",
    "plt.legend(loc=\"lower right\")\n",
    "plt.savefig('Log_ROC')\n",
    "plt.show()\n",
    "\n",
    "var.loc[X_test.index, 'gnb_prob'] = gnb.predict_proba(X_test)[:,1]\n",
    "var.loc[X_train.index, 'gnb_prob'] = gnb.predict_proba(X_train)[:,1]"
   ]
  },
  {
   "cell_type": "markdown",
   "metadata": {},
   "source": [
    "## Support Vector Machine Classifer with Gaussian kernel"
   ]
  },
  {
   "cell_type": "code",
   "execution_count": 40,
   "metadata": {},
   "outputs": [
    {
     "data": {
      "text/plain": [
       "SVC(C=50, cache_size=200, class_weight=None, coef0=0.0,\n",
       "  decision_function_shape='ovr', degree=3, gamma=0.01, kernel='rbf',\n",
       "  max_iter=-1, probability=True, random_state=42, shrinking=True,\n",
       "  tol=0.001, verbose=False)"
      ]
     },
     "execution_count": 40,
     "metadata": {},
     "output_type": "execute_result"
    }
   ],
   "source": [
    "from sklearn.svm import SVC\n",
    "\n",
    "svm_clf = SVC(kernel=\"rbf\", gamma=0.01, C=50, random_state=42, probability= True)\n",
    "svm_clf.fit(X_train, y_train)"
   ]
  },
  {
   "cell_type": "code",
   "execution_count": 41,
   "metadata": {},
   "outputs": [
    {
     "name": "stdout",
     "output_type": "stream",
     "text": [
      "Accuracy of SVM classifier on test set: 0.89\n"
     ]
    }
   ],
   "source": [
    "y_pred = svm_clf.predict(X_test)\n",
    "\n",
    "print('Accuracy of SVM classifier on test set: {:.2f}'.format(svm_clf.score(X_test, y_test)))"
   ]
  },
  {
   "cell_type": "code",
   "execution_count": 42,
   "metadata": {},
   "outputs": [
    {
     "name": "stdout",
     "output_type": "stream",
     "text": [
      "                     not pred.          pred.\n",
      "       not act.            873             39\n",
      "           act.             90            198\n"
     ]
    }
   ],
   "source": [
    "from sklearn.metrics import confusion_matrix\n",
    "confusion_matrix = confusion_matrix(y_test, y_pred)\n",
    "col_list = ['not pred.', 'pred.']\n",
    "row_list = ['not act.', 'act.']\n",
    "row_format =\"{:>15}\" * (len(col_list) + 1)\n",
    "print(row_format.format(\"\", *col_list))\n",
    "for rlist, row in zip(row_list, confusion_matrix):\n",
    "    print(row_format.format(rlist, *row))"
   ]
  },
  {
   "cell_type": "code",
   "execution_count": 43,
   "metadata": {},
   "outputs": [
    {
     "data": {
      "image/png": "[encoded data removed]",
      "text/plain": [
       "<Figure size 432x288 with 1 Axes>"
      ]
     },
     "metadata": {
      "needs_background": "light"
     },
     "output_type": "display_data"
    }
   ],
   "source": [
    "from sklearn.metrics import roc_auc_score\n",
    "from sklearn.metrics import roc_curve\n",
    "\n",
    "roc_auc = roc_auc_score(y_test, svm_clf.predict(X_test))\n",
    "fpr, tpr, thresholds = roc_curve(y_test, svm_clf.predict_proba(X_test)[:,1])\n",
    "plt.figure()\n",
    "plt.plot(fpr, tpr, label='SVC (area = %0.2f)' % roc_auc)\n",
    "plt.plot([0, 1], [0, 1],'r--')\n",
    "plt.xlim([0.0, 1.0])\n",
    "plt.ylim([0.0, 1.05])\n",
    "plt.xlabel('False Positive Rate')\n",
    "plt.ylabel('True Positive Rate')\n",
    "plt.title('Receiver operating characteristic')\n",
    "plt.legend(loc=\"lower right\")\n",
    "# plt.savefig('SVM_ROC.svg')\n",
    "plt.show()\n",
    "\n",
    "var.loc[X_test.index, 'SVC_prob'] = svm_clf.predict_proba(X_test)[:,1]\n",
    "var.loc[X_train.index, 'SVC_prob'] = svm_clf.predict_proba(X_train)[:,1]\n"
   ]
  },
  {
   "cell_type": "markdown",
   "metadata": {},
   "source": [
    "## Random Forest Classifier"
   ]
  },
  {
   "cell_type": "code",
   "execution_count": 45,
   "metadata": {},
   "outputs": [
    {
     "data": {
      "text/plain": [
       "RandomForestClassifier(bootstrap=True, class_weight=None, criterion='gini',\n",
       "            max_depth=None, max_features=7, max_leaf_nodes=None,\n",
       "            min_impurity_decrease=0.0, min_impurity_split=None,\n",
       "            min_samples_leaf=1, min_samples_split=2,\n",
       "            min_weight_fraction_leaf=0.0, n_estimators=500, n_jobs=None,\n",
       "            oob_score=False, random_state=42, verbose=0, warm_start=False)"
      ]
     },
     "execution_count": 45,
     "metadata": {},
     "output_type": "execute_result"
    }
   ],
   "source": [
    "from sklearn.ensemble import RandomForestClassifier\n",
    "\n",
    "rnd_clf = RandomForestClassifier(n_estimators = 500, max_features = len(var_names), random_state=42)\n",
    "rnd_clf.fit(X_train, y_train)"
   ]
  },
  {
   "cell_type": "code",
   "execution_count": 46,
   "metadata": {},
   "outputs": [
    {
     "name": "stdout",
     "output_type": "stream",
     "text": [
      "Accuracy of Random Forest classifier on test set: 0.95\n"
     ]
    }
   ],
   "source": [
    "y_pred = rnd_clf.predict(X_test)\n",
    "\n",
    "print('Accuracy of Random Forest classifier on test set: {:.2f}'.format(rnd_clf.score(X_test, y_test)))"
   ]
  },
  {
   "cell_type": "code",
   "execution_count": 47,
   "metadata": {},
   "outputs": [
    {
     "name": "stdout",
     "output_type": "stream",
     "text": [
      "                     not pred.          pred.\n",
      "       not act.            886             26\n",
      "           act.             35            253\n"
     ]
    }
   ],
   "source": [
    "from sklearn.metrics import confusion_matrix\n",
    "confusion_matrix = confusion_matrix(y_test, y_pred)\n",
    "col_list = ['not pred.', 'pred.']\n",
    "row_list = ['not act.', 'act.']\n",
    "row_format =\"{:>15}\" * (len(col_list) + 1)\n",
    "print(row_format.format(\"\", *col_list))\n",
    "for rlist, row in zip(row_list, confusion_matrix):\n",
    "    print(row_format.format(rlist, *row))"
   ]
  },
  {
   "cell_type": "code",
   "execution_count": 49,
   "metadata": {},
   "outputs": [
    {
     "data": {
      "image/png": "[encoded data removed]",
      "text/plain": [
       "<Figure size 432x288 with 1 Axes>"
      ]
     },
     "metadata": {
      "needs_background": "light"
     },
     "output_type": "display_data"
    }
   ],
   "source": [
    "from sklearn.metrics import roc_auc_score\n",
    "from sklearn.metrics import roc_curve\n",
    "\n",
    "roc_auc = roc_auc_score(y_test, rnd_clf.predict(X_test))\n",
    "fpr, tpr, thresholds = roc_curve(y_test, rnd_clf.predict_proba(X_test)[:,1])\n",
    "plt.figure()\n",
    "plt.plot(fpr, tpr, label='Random Trees Classifier (area = %0.2f)' % roc_auc)\n",
    "plt.plot([0, 1], [0, 1],'r--')\n",
    "plt.xlim([0.0, 1.0])\n",
    "plt.ylim([0.0, 1.05])\n",
    "plt.xlabel('False Positive Rate')\n",
    "plt.ylabel('True Positive Rate')\n",
    "plt.title('Receiver operating characteristic')\n",
    "plt.legend(loc=\"lower right\")\n",
    "# plt.savefig('rnd_ROC.svg')\n",
    "plt.show()\n",
    "\n",
    "var.loc[X_test.index, 'rnd_clf_prob'] = rnd_clf.predict_proba(X_test)[:,1]\n",
    "var.loc[X_train.index, 'rnd_clf_prob'] = rnd_clf.predict_proba(X_train)[:,1]\n"
   ]
  },
  {
   "cell_type": "markdown",
   "metadata": {},
   "source": [
    "## Voting Classifier"
   ]
  },
  {
   "cell_type": "code",
   "execution_count": 51,
   "metadata": {},
   "outputs": [
    {
     "data": {
      "text/plain": [
       "VotingClassifier(estimators=[('lr', LogisticRegression(C=1, class_weight=None, dual=False, fit_intercept=True,\n",
       "          intercept_scaling=1, max_iter=100, multi_class='warn',\n",
       "          n_jobs=None, penalty='l2', random_state=42, solver='lbfgs',\n",
       "          tol=0.0001, verbose=0, warm_start=False)), ('rf', RandomFores... shrinking=True,\n",
       "  tol=0.001, verbose=False)), ('gnb', GaussianNB(priors=None, var_smoothing=0.25))],\n",
       "         flatten_transform=None, n_jobs=None, voting='soft', weights=None)"
      ]
     },
     "execution_count": 51,
     "metadata": {},
     "output_type": "execute_result"
    }
   ],
   "source": [
    "from sklearn.ensemble import RandomForestClassifier\n",
    "from sklearn.ensemble import VotingClassifier\n",
    "from sklearn.linear_model import LogisticRegression\n",
    "from sklearn.svm import SVC\n",
    "\n",
    "\n",
    "log_clf = LogisticRegression(C=1, solver = 'lbfgs', random_state = 42)\n",
    "rnd_clf = RandomForestClassifier(n_estimators = 50, max_features = len(var_names), random_state=42)\n",
    "svm_clf = SVC(kernel=\"rbf\", gamma=0.01, C=50, random_state=42, probability= True)\n",
    "gnb_clf = GaussianNB(var_smoothing= 0.25)\n",
    "\n",
    "voting_clf = VotingClassifier(\n",
    "    estimators=[('lr', log_clf), ('rf', rnd_clf), ('svc', svm_clf), ('gnb', gnb_clf)],\n",
    "    voting='soft')\n",
    "voting_clf.fit(X_train, y_train)"
   ]
  },
  {
   "cell_type": "code",
   "execution_count": 52,
   "metadata": {},
   "outputs": [
    {
     "name": "stdout",
     "output_type": "stream",
     "text": [
      "Accuracy of Voting classifier on test set: 0.91\n"
     ]
    }
   ],
   "source": [
    "y_pred = voting_clf.predict(X_test)\n",
    "\n",
    "print('Accuracy of Voting classifier on test set: {:.2f}'.format(voting_clf.score(X_test, y_test)))"
   ]
  },
  {
   "cell_type": "code",
   "execution_count": 53,
   "metadata": {},
   "outputs": [
    {
     "name": "stdout",
     "output_type": "stream",
     "text": [
      "                     not pred.          pred.\n",
      "       not act.            872             40\n",
      "           act.             70            218\n"
     ]
    }
   ],
   "source": [
    "from sklearn.metrics import confusion_matrix\n",
    "confusion_matrix = confusion_matrix(y_test, y_pred)\n",
    "col_list = ['not pred.', 'pred.']\n",
    "row_list = ['not act.', 'act.']\n",
    "row_format =\"{:>15}\" * (len(col_list) + 1)\n",
    "print(row_format.format(\"\", *col_list))\n",
    "for rlist, row in zip(row_list, confusion_matrix):\n",
    "    print(row_format.format(rlist, *row))"
   ]
  },
  {
   "cell_type": "code",
   "execution_count": 55,
   "metadata": {},
   "outputs": [
    {
     "data": {
      "image/png": "[encoded data removed]",
      "text/plain": [
       "<Figure size 432x288 with 1 Axes>"
      ]
     },
     "metadata": {
      "needs_background": "light"
     },
     "output_type": "display_data"
    }
   ],
   "source": [
    "from sklearn.metrics import roc_auc_score\n",
    "from sklearn.metrics import roc_curve\n",
    "\n",
    "roc_auc = roc_auc_score(y_test, voting_clf.predict(X_test))\n",
    "fpr, tpr, thresholds = roc_curve(y_test, voting_clf.predict_proba(X_test)[:,1])\n",
    "plt.figure()\n",
    "plt.plot(fpr, tpr, label='Voting Classifier (area = %0.2f)' % roc_auc)\n",
    "plt.plot([0, 1], [0, 1],'r--')\n",
    "plt.xlim([0.0, 1.0])\n",
    "plt.ylim([0.0, 1.05])\n",
    "plt.xlabel('False Positive Rate')\n",
    "plt.ylabel('True Positive Rate')\n",
    "plt.title('Receiver operating characteristic')\n",
    "plt.legend(loc=\"lower right\")\n",
    "# plt.savefig('rnd_ROC.svg')\n",
    "plt.show()\n",
    "\n",
    "var.loc[X_test.index, 'voting_clf_prob'] = voting_clf.predict_proba(X_test)[:,1]\n",
    "var.loc[X_train.index, 'voting_clf_prob'] = voting_clf.predict_proba(X_train)[:,1]\n",
    "\n",
    "\n",
    "# print(voting_clf.predict_proba(X_test))\n",
    "# print(voting_clf.predict_proba(X_train))"
   ]
  },
  {
   "cell_type": "code",
   "execution_count": 57,
   "metadata": {},
   "outputs": [
    {
     "data": {
      "image/png": "[encoded data removed]",
      "text/plain": [
       "<Figure size 432x288 with 1 Axes>"
      ]
     },
     "metadata": {
      "needs_background": "light"
     },
     "output_type": "display_data"
    }
   ],
   "source": [
    "from sklearn.metrics import roc_auc_score\n",
    "from sklearn.metrics import roc_curve\n",
    "\n",
    "plt.figure()\n",
    "\n",
    "logreg = LogisticRegression(C=1, solver='lbfgs')\n",
    "logreg.fit(X_train, y_train)\n",
    "\n",
    "roc_auc = roc_auc_score(y_test, logreg.predict(X_test))\n",
    "fpr, tpr, thresholds = roc_curve(y_test, logreg.predict_proba(X_test)[:,1])\n",
    "plt.plot(fpr, tpr, label='Logistic Regression (area = %0.2f)' % roc_auc)\n",
    "\n",
    "svm_clf = SVC(kernel=\"rbf\", gamma=0.01, C=50, random_state=42, probability= True)\n",
    "svm_clf.fit(X_train, y_train)\n",
    "\n",
    "roc_auc = roc_auc_score(y_test, svm_clf.predict(X_test))\n",
    "fpr, tpr, thresholds = roc_curve(y_test, svm_clf.predict_proba(X_test)[:,1])\n",
    "plt.plot(fpr, tpr, label='SVC (area = %0.2f)' % roc_auc)\n",
    "\n",
    "rnd_clf = RandomForestClassifier(n_estimators = 500, max_features = len(var_names), random_state=42)\n",
    "rnd_clf.fit(X_train, y_train)\n",
    "\n",
    "roc_auc = roc_auc_score(y_test, rnd_clf.predict(X_test))\n",
    "fpr, tpr, thresholds = roc_curve(y_test, rnd_clf.predict_proba(X_test)[:,1])\n",
    "plt.plot(fpr, tpr, label='Random Forest Classifier (area = %0.2f)' % roc_auc)\n",
    "\n",
    "voting_clf = VotingClassifier(\n",
    "    estimators=[('lr', log_clf), ('rf', rnd_clf), ('svc', svm_clf)],\n",
    "    voting='soft')\n",
    "voting_clf.fit(X_train, y_train)\n",
    "\n",
    "roc_auc = roc_auc_score(y_test, voting_clf.predict(X_test))\n",
    "fpr, tpr, thresholds = roc_curve(y_test, voting_clf.predict_proba(X_test)[:,1])\n",
    "plt.plot(fpr, tpr, label='Voting Classifier (area = %0.2f)' % roc_auc)\n",
    "\n",
    "plt.plot([0, 1], [0, 1],'r--')\n",
    "plt.xlim([-0.025, 1.0])\n",
    "plt.ylim([.50, 1.025])\n",
    "plt.xlabel('False Positive Rate')\n",
    "plt.ylabel('True Positive Rate')\n",
    "plt.title('Receiver operating characteristic')\n",
    "plt.legend(loc=\"lower right\")\n",
    "# plt.savefig('rnd_ROC.svg')\n",
    "plt.show()"
   ]
  },
  {
   "cell_type": "code",
   "execution_count": null,
   "metadata": {},
   "outputs": [],
   "source": []
  }
 ],
 "metadata": {
  "kernelspec": {
   "display_name": "Python 3",
   "language": "python",
   "name": "python3"
  },
  "language_info": {
   "codemirror_mode": {
    "name": "ipython",
    "version": 3
   },
   "file_extension": ".py",
   "mimetype": "text/x-python",
   "name": "python",
   "nbconvert_exporter": "python",
   "pygments_lexer": "ipython3",
   "version": "3.7.3"
  }
 },
 "nbformat": 4,
 "nbformat_minor": 2
}
