{
 "cells": [
  {
   "cell_type": "code",
   "execution_count": 5,
   "metadata": {},
   "outputs": [],
   "source": [
    "import numpy as np\n",
    "from sklearn.datasets.samples_generator import make_blobs\n",
    "from sklearn.mixture import GaussianMixture\n",
    "from sklearn.cluster import KMeans\n",
    "from sklearn.decomposition import PCA\n",
    "from sklearn.manifold import TSNE\n",
    "from sklearn.manifold import Isomap\n",
    "from sklearn import datasets\n",
    "from sklearn.model_selection import StratifiedKFold\n",
    "from sklearn.feature_extraction.text import TfidfVectorizer\n",
    "from matplotlib import pyplot as plt\n",
    "import matplotlib as mpl\n",
    "from hdf5manager import hdf5manager as h5\n",
    "from pandas import pandas as pd\n",
    "from pandas import DataFrame\n",
    "from skimage.measure import label, regionprops\n",
    "import scipy\n",
    "import scipy.ndimage.filters as filters\n",
    "import scipy.ndimage as ndimage\n",
    "from scipy.ndimage.filters import gaussian_filter, convolve\n",
    "from scipy.ndimage.morphology import generate_binary_structure, binary_erosion\n",
    "from scipy.ndimage.filters import maximum_filter\n",
    "from scipy.stats import multivariate_normal as mvn\n",
    "from scipy.spatial.distance import cdist\n",
    "from skimage.morphology import disk, watershed\n",
    "from skimage.morphology import erosion, dilation, opening, closing\n",
    "from opticFlow import opticFlow as of\n",
    "import colorsys\n",
    "import wholeBrain as wb\n",
    "from waveletAnalysis import waveletAnalysis as wave\n",
    "import cv2\n",
    "import os\n",
    "import seaborn as sns\n",
    "from time import time"
   ]
  },
  {
   "cell_type": "code",
   "execution_count": 16,
   "metadata": {},
   "outputs": [
    {
     "name": "stderr",
     "output_type": "stream",
     "text": [
      "/anaconda3/lib/python3.7/site-packages/ipykernel_launcher.py:5: FutureWarning: from_csv is deprecated. Please use read_csv(...) instead. Note that some of the default arguments are different, so please refer to the documentation for from_csv when changing your function calls\n",
      "  \"\"\"\n"
     ]
    },
    {
     "name": "stdout",
     "output_type": "stream",
     "text": [
      "<class 'numpy.ndarray'>\n",
      "Y_sklearn: [[-1.78471182e+02  8.16935762e-01 -6.75367932e-02  1.80467896e-01\n",
      "  -1.75220236e-01  3.07143566e-14]\n",
      " [-1.78471182e+02  8.16935762e-01 -6.75367932e-02  1.80467896e-01\n",
      "  -1.75220236e-01  1.41376982e-16]\n",
      " [-1.78471182e+02  8.16935762e-01 -6.75367932e-02  1.80467896e-01\n",
      "  -1.75220236e-01  2.03104683e-18]\n",
      " ...\n",
      " [-1.78471294e+02  8.15945620e-01 -5.55906176e-02  5.07036018e-02\n",
      "   1.03958276e-03 -1.14695371e-17]\n",
      " [-1.78471294e+02  8.15945620e-01 -5.55906176e-02  5.07036018e-02\n",
      "   1.03958276e-03 -1.14695371e-17]\n",
      " [-1.78471295e+02  8.15932844e-01 -5.54364734e-02  4.90292238e-02\n",
      "   3.31390301e-03 -1.37975528e-17]]\n",
      "(4000, 6)\n",
      "[0 0 0 ... 0 0 0]\n"
     ]
    },
    {
     "data": {
      "image/png": "[encoded data removed]",
      "text/plain": [
       "<Figure size 720x576 with 1 Axes>"
      ]
     },
     "metadata": {
      "needs_background": "light"
     },
     "output_type": "display_data"
    }
   ],
   "source": [
    "path = '/Users/shreyamantripragada/Documents/'\n",
    "file = 'test_angs_mags_metrics.csv'\n",
    "\n",
    "tsv_output_file = path + file\n",
    "data = pd.DataFrame.from_csv(tsv_output_file)\n",
    "\n",
    "'''\n",
    "In PCA you are maximizing the length of the vector to each of the points from the center point\n",
    "of the data (mean value of each of the two variables you are dealing with), at the same time,\n",
    "MINIMIZING the distance from each point to the line that you drew.\n",
    "\n",
    "Maximizing variance & Orthogonalization\n",
    "'''\n",
    "\n",
    "sklearn_pca = PCA(n_components = 6)\n",
    "var = pd.DataFrame()\n",
    "\n",
    "var[\"mov.mean\"] = data[\"mov.mean\"]\n",
    "#var[\"mov.maxeventval\"] = data[\"mov.maxeventval\"]\n",
    "var[\"mov.surfarea\"] = data[\"mov.surfarea\"]\n",
    "var[\"mov.diffxystd\"] = data[\"mov.diffxystd\"]\n",
    "var[\"mov.diffmaxevents\"] = data[\"mov.diffmaxevents\"]\n",
    "var[\"brain.data\"] = data[\"brain.data\"]\n",
    "var[\"diff.brainmov\"] = data[\"diff.brainmov\"]\n",
    "\n",
    "\n",
    "Y_sklearn = sklearn_pca.fit_transform(var)\n",
    "print(type(Y_sklearn))\n",
    "print(\"Y_sklearn: \" + str(Y_sklearn))\n",
    "print(Y_sklearn.shape)\n",
    "kmeans = KMeans(n_clusters=2, max_iter=600, algorithm = 'auto')\n",
    "fitted = kmeans.fit(var)\n",
    "prediction = kmeans.predict(var)\n",
    "\n",
    "plt.figure(figsize = (10,8))\n",
    "def plot_kmeans(kmeans, X, n_clusters=2, rseed=0, ax=None):\n",
    "    labels = kmeans.fit_predict(X)\n",
    "    # plot the input data\n",
    "    ax = ax or plt.gca()\n",
    "    ax.axis('equal')\n",
    "    ax.scatter(X[:, 0], X[:, 1], c=labels, s=40, cmap='viridis', zorder=2)\n",
    "\n",
    "    # plot the representation of the KMeans model\n",
    "    centers = kmeans.cluster_centers_\n",
    "    radii = [cdist(X[labels == i], [center]).max()\n",
    "             for i, center in enumerate(centers)]\n",
    "    for c, r in zip(centers, radii):\n",
    "        ax.add_patch(plt.Circle(c, r, fc='#CCCCCC', lw=3, alpha=0.5, zorder=1))\n",
    "    return labels\n",
    "\n",
    "indices = plot_kmeans(kmeans, Y_sklearn[:,4:6])\n",
    "\n",
    "print(indices)"
   ]
  },
  {
   "cell_type": "code",
   "execution_count": null,
   "metadata": {},
   "outputs": [],
   "source": [
    "path = '/Users/shreyamantripragada/Documents/'\n",
    "file = 'test_angs_mags_metrics.csv'\n",
    "\n",
    "tsv_output_file = path + file\n",
    "data = pd.DataFrame.from_csv(tsv_output_file)\n",
    "\n",
    "'''\n",
    "In PCA you are maximizing the length of the vector to each of the points from the center point\n",
    "of the data (mean value of each of the two variables you are dealing with), at the same time,\n",
    "MINIMIZING the distance from each point to the line that you drew.\n",
    "\n",
    "Maximizing variance & Orthogonalization\n",
    "'''\n",
    "\n",
    "sklearn_pca = PCA(n_components = 6)\n",
    "var = pd.DataFrame()\n",
    "\n",
    "var[\"mov.mean\"] = data[\"mov.mean\"]\n",
    "var[\"mov.surfarea\"] = data[\"mov.surfarea\"]\n",
    "var[\"mov.diffxystd\"] = data[\"mov.diffxystd\"]\n",
    "var[\"mov.diffmaxevents\"] = data[\"mov.diffmaxevents\"]\n",
    "var[\"brain.data\"] = data[\"brain.data\"]\n",
    "var[\"diff.brainmov\"] = data[\"diff.brainmov\"]\n",
    "\n",
    "\n",
    "\n",
    "Y_sklearn = sklearn_pca.fit_transform(var)\n",
    "print(type(Y_sklearn))\n",
    "print(\"Y_sklearn: \" + str(Y_sklearn))\n",
    "print(Y_sklearn.shape)\n",
    "kmeans = KMeans(n_clusters=2, max_iter=600, algorithm = 'auto')\n",
    "fitted = kmeans.fit(var)\n",
    "prediction = kmeans.predict(var)\n",
    "\n",
    "plt.figure(figsize = (10,8))\n",
    "def plot_kmeans(kmeans, X, n_clusters=2, rseed=0, ax=None):\n",
    "    labels = kmeans.fit_predict(X)\n",
    "    # plot the input data\n",
    "    ax = ax or plt.gca()\n",
    "    ax.axis('equal')\n",
    "    ax.scatter(X[:, 0], X[:, 1], c=labels, s=40, cmap='viridis', zorder=2)\n",
    "\n",
    "    # plot the representation of the KMeans model\n",
    "    centers = kmeans.cluster_centers_\n",
    "    radii = [cdist(X[labels == i], [center]).max()\n",
    "             for i, center in enumerate(centers)]\n",
    "    for c, r in zip(centers, radii):\n",
    "        ax.add_patch(plt.Circle(c, r, fc='#CCCCCC', lw=3, alpha=0.5, zorder=1))\n",
    "    return labels\n",
    "\n",
    "indices = plot_kmeans(kmeans, Y_sklearn[:,4:6])\n",
    "\n",
    "print(indices)"
   ]
  },
  {
   "cell_type": "code",
   "execution_count": 17,
   "metadata": {},
   "outputs": [
    {
     "data": {
      "image/png": "[encoded data removed]",
      "text/plain": [
       "<Figure size 432x288 with 1 Axes>"
      ]
     },
     "metadata": {
      "needs_background": "light"
     },
     "output_type": "display_data"
    }
   ],
   "source": [
    "def plot_classification(data, indices, color):\n",
    "    colors_list = [\"violet\", \"magenta\", \"teal\", \"silver\", \"salmon\", \"pink\"]\n",
    "    num_color = 0;\n",
    "    if (len(np.unique(indices)) > 2):\n",
    "        for i in range(len(indices)):\n",
    "            if (indices[i] == 0):\n",
    "                plt.axvline(x = i, color = 'blue', alpha = 0.01)\n",
    "            elif (indices[i] == 1):\n",
    "                plt.axvline(x = i, color = 'orange', alpha = 0.01)\n",
    "            elif (indices[i] == 2):\n",
    "                plt.axvline(x = i, color = 'green', alpha = 0.01 )\n",
    "            elif (indices[i] == 3 ):\n",
    "                plt.axvline(x = i, color = 'purple', alpha = 3)\n",
    "            else:\n",
    "                if (num_color == len(colors_list)):\n",
    "                    num_color = 0\n",
    "                else:\n",
    "                    plt.axvline(x = i, color = colors_list[num_color], alpha = 0.01)\n",
    "                    num_color += num_color\n",
    "                \n",
    "    else:\n",
    "        for i in range(len(indices)):\n",
    "            if (indices [i] == 0):\n",
    "                plt.axvline(x = i, color = 'purple', alpha = 0.01)\n",
    "            elif (indices [i] == 1):\n",
    "                plt.axvline(x = i, color = 'yellow', alpha = 0.01)\n",
    "    \n",
    "    plt.plot(data, color)\n",
    "plot_classification(data[\"mov.mean\"], indices, \"black\")"
   ]
  },
  {
   "cell_type": "code",
   "execution_count": null,
   "metadata": {},
   "outputs": [],
   "source": []
  },
  {
   "cell_type": "code",
   "execution_count": null,
   "metadata": {},
   "outputs": [],
   "source": []
  }
 ],
 "metadata": {
  "kernelspec": {
   "display_name": "Python 3",
   "language": "python",
   "name": "python3"
  },
  "language_info": {
   "codemirror_mode": {
    "name": "ipython",
    "version": 3
   },
   "file_extension": ".py",
   "mimetype": "text/x-python",
   "name": "python",
   "nbconvert_exporter": "python",
   "pygments_lexer": "ipython3",
   "version": "3.7.3"
  }
 },
 "nbformat": 4,
 "nbformat_minor": 2
}
