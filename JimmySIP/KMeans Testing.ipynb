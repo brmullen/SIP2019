{
 "cells": [
  {
   "cell_type": "code",
   "execution_count": 142,
   "metadata": {},
   "outputs": [],
   "source": [
    "import numpy as np\n",
    "import random\n",
    "from sklearn.datasets.samples_generator import make_blobs\n",
    "from sklearn.linear_model import LogisticRegression\n",
    "from sklearn import metrics\n",
    "from sklearn.mixture import GaussianMixture\n",
    "from sklearn.cluster import KMeans\n",
    "from sklearn.decomposition import PCA\n",
    "from sklearn.manifold import TSNE\n",
    "from sklearn.manifold import Isomap\n",
    "from sklearn import datasets\n",
    "from sklearn.model_selection import StratifiedKFold\n",
    "from sklearn.model_selection import train_test_split\n",
    "from sklearn.feature_extraction.text import TfidfVectorizer\n",
    "import statsmodels.api as sm\n",
    "from scipy import stats \n",
    "from matplotlib import pyplot as plt\n",
    "import matplotlib as mpl\n",
    "from hdf5manager import hdf5manager as h5\n",
    "from pandas import pandas as pd\n",
    "from pandas import DataFrame\n",
    "from skimage.measure import label, regionprops\n",
    "import scipy\n",
    "import scipy.ndimage.filters as filters\n",
    "import scipy.ndimage as ndimage\n",
    "from scipy.ndimage.filters import gaussian_filter, convolve\n",
    "from scipy.ndimage.morphology import generate_binary_structure, binary_erosion\n",
    "from scipy.ndimage.filters import maximum_filter\n",
    "from scipy.stats import multivariate_normal as mvn\n",
    "from scipy.spatial.distance import cdist\n",
    "from skimage.morphology import disk, watershed\n",
    "from skimage.morphology import erosion, dilation, opening, closing\n",
    "from opticFlow import opticFlow as of\n",
    "import colorsys\n",
    "import wholeBrain as wb\n",
    "from waveletAnalysis import waveletAnalysis as wave\n",
    "import cv2\n",
    "import os\n",
    "import seaborn as sns\n",
    "from time import time"
   ]
  },
  {
   "cell_type": "code",
   "execution_count": 170,
   "metadata": {},
   "outputs": [
    {
     "name": "stderr",
     "output_type": "stream",
     "text": [
      "/Users/jcrndm/anaconda3/lib/python3.7/site-packages/ipykernel_launcher.py:5: FutureWarning: from_csv is deprecated. Please use read_csv(...) instead. Note that some of the default arguments are different, so please refer to the documentation for from_csv when changing your function calls\n",
      "  \"\"\"\n"
     ]
    },
    {
     "name": "stdout",
     "output_type": "stream",
     "text": [
      "(4000, 6)\n",
      "[0 0 0 ... 0 0 0]\n"
     ]
    },
    {
     "data": {
      "image/png": "[encoded data removed]",
      "text/plain": [
       "<Figure size 720x576 with 1 Axes>"
      ]
     },
     "metadata": {
      "needs_background": "light"
     },
     "output_type": "display_data"
    }
   ],
   "source": [
    "path = '/Users/jcrndm/Documents/'\n",
    "file = 'test_angs_mags_metrics.csv'\n",
    "\n",
    "tsv_output_file = path + file\n",
    "data = pd.DataFrame.from_csv(tsv_output_file)\n",
    "\n",
    "data = data.astype('float64')\n",
    "a = np.zeros(len(data))\n",
    "a[1445:2388]=1\n",
    "data['classification'] = a\n",
    "'''\n",
    "In PCA you are maximizing the length of the vector to each of the points from the center point\n",
    "of the data (mean value of each of the two variables you are dealing with), at the same time,\n",
    "MINIMIZING the distance from each point to the line that you drew.\n",
    "\n",
    "Maximizing variance & Orthogonalization\n",
    "'''\n",
    "\n",
    "sklearn_pca = PCA(n_components = 6)\n",
    "var = pd.DataFrame()\n",
    "\n",
    "var[\"mov.eventrest\"] = data[\"mov.eventrest\"]\n",
    "var[\"mov.surfarea\"] = data[\"mov.surfarea\"]\n",
    "var[\"mov.percenterror\"] = data[\"mov.percenterror\"]\n",
    "var[\"mov.diffmaxevents\"] = data[\"mov.diffmaxevents\"]\n",
    "var[\"brain.rangemaxmin\"] = data[\"brain.rangemaxmin\"]\n",
    "var[\"diff.brainmov\"] = data[\"diff.brainmov\"]\n",
    "\n",
    "'''\n",
    "                                                ALL:\n",
    "                                var['mov.mean'] = data['mov.mean']\n",
    "                                var['mov.range'] = data['mov.range']\n",
    "                                var['mov.eventrest'] = data['mov.eventrest']\n",
    "                                var['mov.maxeventval'] = data['mov.maxeventval']\n",
    "                                var['mov.surfarea'] = data['mov.surfarea']\n",
    "                                var['mov.totalmag'] = data['mov.totalmag']\n",
    "                                var['mov.percent'] = data['mov.percent']\n",
    "                                var['mov.stdx'] = data['mov.stdx']\n",
    "                                var['mov.stdy'] = data['mov.stdy']\n",
    "                                var['mov.diffxystd'] = data['mov.diffxystd']\n",
    "                                var['mov.diffmaxevents'] = data['mov.diffmaxevents']\n",
    "                                var['mov.percenterror'] = data['mov.percenterror']\n",
    "                                var['brain.data'] = data['brain.data']\n",
    "                                var['brain.eventrest'] = data['brain.eventrest']\n",
    "                                var['brain.rangemaxmin'] = data['brain.rangemaxmin']\n",
    "                                var['diff.brainmov'] = data['diff.brainmov']\n",
    "\n",
    "1.\n",
    "var[\"mov.mean\"] = data[\"mov.mean\"]\n",
    "var[\"mov.surfarea\"] = data[\"mov.surfarea\"]\n",
    "var[\"mov.diffxystd\"] = data[\"mov.diffxystd\"]\n",
    "var[\"mov.diffmaxevents\"] = data[\"mov.diffmaxevents\"]\n",
    "var[\"brain.data\"] = data[\"brain.data\"]\n",
    "var[\"diff.brainmov\"] = data[\"diff.brainmov\"]\n",
    "\n",
    "2.\n",
    "#var[\"mov.eventrest\"] = data[\"mov.eventrest\"]\n",
    "var[\"mov.surfarea\"] = data[\"mov.surfarea\"]\n",
    "#var[\"mov.percenterror\"] = data[\"mov.percenterror\"]\n",
    "var[\"mov.diffmaxevents\"] = data[\"mov.diffmaxevents\"]\n",
    "#var[\"brain.rangemaxmin\"] = data[\"brain.rangemaxmin\"]\n",
    "var[\"diff.brainmov\"] = data[\"diff.brainmov\"]\n",
    "\n",
    "3.\n",
    "var[\"mov.eventrest\"] = data[\"mov.eventrest\"]\n",
    "#var[\"mov.diffxystd\"] = data[\"mov.diffxystd\"]\n",
    "var[\"mov.percenterror\"] = data[\"mov.percenterror\"]\n",
    "#var[\"brain.eventrest\"] = data[\"brain.eventrest\"]\n",
    "#var[\"mov.range\"] = data[\"mov.range\"]\n",
    "var[\"diff.brainmov\"] = data[\"diff.brainmov\"]\n",
    "\n",
    "\n",
    "'''\n",
    "Y_sklearn = sklearn_pca.fit_transform(var)\n",
    "print(Y_sklearn.shape)\n",
    "kmeans = KMeans(n_clusters=2, max_iter=600, algorithm = 'auto')\n",
    "fitted = kmeans.fit(var)\n",
    "prediction = kmeans.predict(var)\n",
    "\n",
    "plt.figure(figsize = (10,8))\n",
    "\n",
    "def plot_kmeans(kmeans, X, n_clusters=2, rseed=0, ax=None):\n",
    "    labels = kmeans.fit_predict(X)\n",
    "    # plot the input data\n",
    "    ax = ax or plt.gca()\n",
    "    ax.axis('equal')\n",
    "    ax.scatter(X[:, 0], X[:, 1], c=labels, s=40, cmap='viridis', zorder=2)\n",
    "\n",
    "    # plot the representation of the KMeans model\n",
    "    centers = kmeans.cluster_centers_\n",
    "    radii = [cdist(X[labels == i], [center]).max()\n",
    "             for i, center in enumerate(centers)]\n",
    "    for c, r in zip(centers, radii):\n",
    "        ax.add_patch(plt.Circle(c, r, fc='#CCCCCC', lw=3, alpha=0.5, zorder=1))\n",
    "    return labels\n",
    "\n",
    "indices = plot_kmeans(kmeans, Y_sklearn[:,4:6])\n",
    "\n",
    "print(indices)"
   ]
  },
  {
   "cell_type": "code",
   "execution_count": 130,
   "metadata": {},
   "outputs": [
    {
     "data": {
      "image/png": "[encoded data removed]",
      "text/plain": [
       "<Figure size 432x288 with 1 Axes>"
      ]
     },
     "metadata": {
      "needs_background": "light"
     },
     "output_type": "display_data"
    }
   ],
   "source": [
    "def plotClassification(data, indices, color):\n",
    "    color_list = [\"violet\", \"magenta\", \"teal\", \"silver\", \"salmon\", \"pink\"]\n",
    "    num_color = 0\n",
    "    \n",
    "    if len(np.unique(indices)) > 2:\n",
    "        for i in range(len(indices)):\n",
    "            if (indices[i] == 0):\n",
    "                plt.axvline(x = i, linewidth = 1, color = 'blue', alpha = 0.03)\n",
    "            elif (indices[i] == 1):\n",
    "                plt.axvline(x = i, linewidth = 1, color = 'orange', alpha = 0.03)\n",
    "            elif (indices[i] == 2):\n",
    "                plt.axvline(x = i, linewidth = 1, color = 'green', alpha = 0.03)\n",
    "            elif (indices[i] == 3):\n",
    "                plt.axvline(x = i, linewidth = 1, color = 'red', alpha = 3)    \n",
    "            else:\n",
    "                if (num_color == len(colors_list)):\n",
    "                    num_color = 0\n",
    "                else:\n",
    "                    plt.axvline(x = i, color = colors_list[num_color], alpha = 0.01)\n",
    "                    num_color += num_color\n",
    "    else:       \n",
    "        for i in range(len(indices)):\n",
    "            if (indices[i] == 0):\n",
    "                plt.axvline(x = i, linewidth = 1, color = 'purple', alpha = 0.03)\n",
    "            elif (indices[i] == 1):\n",
    "                plt.axvline(x = i, linewidth = 1, color = 'yellow', alpha = 0.03)        \n",
    "    \n",
    "    plt.plot(data, color)\n",
    "    \n",
    "plotClassification(data['mov.mean'], indices, 'black')"
   ]
  },
  {
   "cell_type": "code",
   "execution_count": null,
   "metadata": {},
   "outputs": [],
   "source": [
    "new_vars = [\"mov.mean\", \"mov.range\", \"mov.maxeventval\", \"mov.surfarea\", \"mov.totalmag\", \"mov.percent\",\n",
    "            \"mov.percenterror\", \"mov.stdx\", \"mov.stdy\", \"mov.diffxystd\", \"mov.maxeventval\", \"brain.data\",\n",
    "            \"brain.rangemaxmin\", \"diff.brainmov\"]\n",
    "\n",
    "def graphRandomization(set_of_data):\n",
    "    rand_ind = set_of_data[random.randint(0,len(set_of_data))]\n",
    "    print(rand_ind)\n",
    "    plotClassification(data[rand_ind], indices, 'black')\n",
    "        \n",
    "graphRandomization(new_vars)\n",
    "    "
   ]
  },
  {
   "cell_type": "code",
   "execution_count": 178,
   "metadata": {},
   "outputs": [],
   "source": [
    "# X = data.loc[:, data.columns != 'mov.mean'].fillna(value=0)\n",
    "# y = data.loc[:,'classification'].values\n",
    "# X_train, X_test, y_train, y_test = train_test_split(X, y, test_size=0.3, random_state = 42)\n",
    "\n",
    "# logreg = LogisticRegression(solver='lbfgs')\n",
    "# logreg.fit(X_train, y_train)"
   ]
  },
  {
   "cell_type": "code",
   "execution_count": 179,
   "metadata": {},
   "outputs": [],
   "source": [
    "# classConfidence = pd.DataFrame(index=X.index)\n",
    "\n",
    "# classConfidence.loc[X_test.index, 'test_class'] = logreg.predict_proba(X_test)[:,1]\n",
    "# classConfidence.loc[X_train.index, 'predicted_class'] = logreg.predict_proba(X_train)[:,1]\n",
    "\n",
    "\n",
    "# classConfidence"
   ]
  },
  {
   "cell_type": "code",
   "execution_count": 225,
   "metadata": {},
   "outputs": [
    {
     "name": "stdout",
     "output_type": "stream",
     "text": [
      "diff.brainmov\n",
      "3124\n",
      "-0.127\n"
     ]
    },
    {
     "data": {
      "text/plain": [
       "('diff.brainmov', 3124, -0.127)"
      ]
     },
     "execution_count": 225,
     "metadata": {},
     "output_type": "execute_result"
    }
   ],
   "source": [
    "def graphRandomization(set_of_data):\n",
    "    rand_ind = set_of_data[random.randint(0,len(set_of_data))]\n",
    "    rand_num = random.randint(0, len(data[rand_ind]))\n",
    "    random_val = data[rand_ind][rand_num]\n",
    "    \n",
    "    print(rand_ind)\n",
    "    print(rand_num)\n",
    "    print(random_val)\n",
    "    \n",
    "    return rand_ind, rand_num, random_val\n",
    "    \n",
    "graphRandomization(new_vars)"
   ]
  },
  {
   "cell_type": "code",
   "execution_count": null,
   "metadata": {},
   "outputs": [],
   "source": [
    "for x in range(100):\n",
    "    if random.randint(range(100)) % 5 == 0:\n",
    "        "
   ]
  },
  {
   "cell_type": "code",
   "execution_count": null,
   "metadata": {},
   "outputs": [],
   "source": []
  }
 ],
 "metadata": {
  "kernelspec": {
   "display_name": "Python 3",
   "language": "python",
   "name": "python3"
  },
  "language_info": {
   "codemirror_mode": {
    "name": "ipython",
    "version": 3
   },
   "file_extension": ".py",
   "mimetype": "text/x-python",
   "name": "python",
   "nbconvert_exporter": "python",
   "pygments_lexer": "ipython3",
   "version": "3.7.3"
  }
 },
 "nbformat": 4,
 "nbformat_minor": 2
}
