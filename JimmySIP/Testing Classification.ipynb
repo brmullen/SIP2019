{
 "cells": [
  {
   "cell_type": "code",
   "execution_count": 1,
   "metadata": {},
   "outputs": [
    {
     "name": "stdout",
     "output_type": "stream",
     "text": [
      "Error importing slackNotify.py\n",
      "\t ERROR :  No module named 'slacker'\n"
     ]
    }
   ],
   "source": [
    "import numpy as np\n",
    "import random\n",
    "from sklearn.datasets.samples_generator import make_blobs\n",
    "from sklearn.linear_model import LogisticRegression\n",
    "from sklearn import metrics\n",
    "from sklearn.mixture import GaussianMixture\n",
    "from sklearn.cluster import KMeans\n",
    "from sklearn.decomposition import PCA\n",
    "from sklearn.manifold import TSNE\n",
    "from sklearn.manifold import Isomap\n",
    "from sklearn.manifold import MDS\n",
    "from sklearn.discriminant_analysis import LinearDiscriminantAnalysis\n",
    "from sklearn import datasets\n",
    "from sklearn.model_selection import StratifiedKFold\n",
    "from sklearn.model_selection import train_test_split\n",
    "from sklearn.feature_extraction.text import TfidfVectorizer\n",
    "from sklearn.naive_bayes import GaussianNB\n",
    "from sklearn import metrics\n",
    "from sklearn.ensemble import RandomForestClassifier\n",
    "from sklearn.ensemble import VotingClassifier\n",
    "from sklearn.linear_model import LogisticRegression\n",
    "from sklearn.svm import SVC\n",
    "from sklearn.metrics import classification_report\n",
    "from sklearn.metrics import confusion_matrix\n",
    "from sklearn.metrics import roc_auc_score\n",
    "from sklearn.metrics import roc_curve\n",
    "import statsmodels.api as sm\n",
    "from matplotlib import pyplot as plt\n",
    "import matplotlib as mpl\n",
    "from hdf5manager import hdf5manager as h5\n",
    "from pandas import pandas as pd\n",
    "from pandas import DataFrame\n",
    "from skimage.measure import label, regionprops\n",
    "import scipy\n",
    "import scipy.ndimage.filters as filters\n",
    "import scipy.ndimage as ndimage\n",
    "from scipy import stats \n",
    "from scipy.ndimage.filters import gaussian_filter, convolve\n",
    "from scipy.ndimage.morphology import generate_binary_structure, binary_erosion\n",
    "from scipy.ndimage.filters import maximum_filter\n",
    "from scipy.stats import multivariate_normal as mvn\n",
    "from scipy.spatial.distance import cdist\n",
    "from skimage.morphology import disk, watershed\n",
    "from skimage.morphology import erosion, dilation, opening, closing\n",
    "from opticFlow import opticFlow as of\n",
    "import colorsys\n",
    "import wholeBrain as wb\n",
    "from waveletAnalysis import waveletAnalysis as wave\n",
    "import cv2\n",
    "import os\n",
    "import seaborn as sns\n",
    "from time import time"
   ]
  },
  {
   "cell_type": "code",
   "execution_count": null,
   "metadata": {},
   "outputs": [],
   "source": [
    "path = '/Users/jcrndm/Documents/'\n",
    "file = 'test_angs_mags_metrics.csv'\n",
    "\n",
    "tsv_output_file = path + file\n",
    "data = pd.DataFrame.from_csv(tsv_output_file)\n",
    "\n",
    "data = data.astype('float64')\n",
    "a = np.zeros(len(data))\n",
    "a[1445:2388]=1\n",
    "data['classification'] = a\n",
    "\n",
    "var = pd.DataFrame()\n",
    "var[\"mov.mean\"] = data[\"mov.mean\"]\n",
    "var[\"mov.maxeventval\"] = data[\"mov.maxeventval\"]\n",
    "var[\"mov.diffxystd\"] = data[\"mov.diffxystd\"]\n",
    "var[\"mov.diffmaxevents\"] = data[\"mov.diffmaxevents\"]\n",
    "var[\"mov.surfarea\"] = data[\"mov.surfarea\"]\n",
    "var[\"diff.brainmov\"] = data[\"diff.brainmov\"]\n",
    "var[\"brain.data\"] = data[\"brain.data\"]\n",
    "\n",
    "var_names = [\"mov.mean\", \"mov.maxeventval\", \"mov.diffxystd\", \"mov.diffmaxevents\", \"mov.surfarea\", \"diff.brainmov\",\n",
    "\"brain.data\"]"
   ]
  },
  {
   "cell_type": "code",
   "execution_count": null,
   "metadata": {},
   "outputs": [],
   "source": [
    "X = data.loc[:, data.columns != 'mov.mean'].fillna(value=0)\n",
    "y = data.loc[:,'classification'].values\n",
    "X_train, X_test, y_train, y_test = train_test_split(X, y, test_size=0.3, random_state = 42)\n",
    "\n",
    "logreg = LogisticRegression(C=1, solver='liblinear')\n",
    "logreg.fit(X_train, y_train)\n",
    "\n",
    "y_pred = logreg.predict(X_test)"
   ]
  },
  {
   "cell_type": "code",
   "execution_count": null,
   "metadata": {},
   "outputs": [],
   "source": [
    "from sklearn.linear_model import LogisticRegression\n",
    "from sklearn import metrics\n",
    "\n",
    "logreg = LogisticRegression(C=1, solver='lbfgs')\n",
    "logreg.fit(X_train, y_train)"
   ]
  },
  {
   "cell_type": "code",
   "execution_count": null,
   "metadata": {},
   "outputs": [],
   "source": [
    "y_pred = logreg.predict(X_test)\n",
    "\n",
    "print('Accuracy of logistic regression classifier on test set: {:.2f}'.format(logreg.score(X_test, y_test)))"
   ]
  },
  {
   "cell_type": "code",
   "execution_count": null,
   "metadata": {},
   "outputs": [],
   "source": [
    "from sklearn.metrics import confusion_matrix\n",
    "confusion_matrix = confusion_matrix(y_test, y_pred)\n",
    "col_list = ['not pred.', 'pred.']\n",
    "row_list = ['not act.', 'act.']\n",
    "row_format =\"{:>15}\" * (len(col_list) + 1)\n",
    "print(row_format.format(\"\", *col_list))\n",
    "for rlist, row in zip(row_list, confusion_matrix):\n",
    "    print(row_format.format(rlist, *row))"
   ]
  },
  {
   "cell_type": "code",
   "execution_count": null,
   "metadata": {},
   "outputs": [],
   "source": [
    "from sklearn.metrics import classification_report\n",
    "print(classification_report(y_test, y_pred))"
   ]
  },
  {
   "cell_type": "code",
   "execution_count": null,
   "metadata": {},
   "outputs": [],
   "source": [
    "from sklearn.metrics import roc_auc_score\n",
    "from sklearn.metrics import roc_curve\n",
    "\n",
    "roc_auc = roc_auc_score(y_test, logreg.predict(X_test))\n",
    "fpr, tpr, thresholds = roc_curve(y_test, logreg.predict_proba(X_test)[:,1])\n",
    "plt.figure()\n",
    "plt.plot(fpr, tpr, label='Logistic Regression (area = %0.2f)' % roc_auc)\n",
    "plt.plot([0, 1], [0, 1],'r--')\n",
    "plt.xlim([0.0, 1.0])\n",
    "plt.ylim([0.0, 1.05])\n",
    "plt.xlabel('False Positive Rate')\n",
    "plt.ylabel('True Positive Rate')\n",
    "plt.title('Receiver operating characteristic')\n",
    "plt.legend(loc=\"lower right\")\n",
    "plt.savefig('Log_ROC')\n",
    "plt.show()\n",
    "\n",
    "var.loc[X_test.index, 'logreg_prob'] = logreg.predict_proba(X_test)[:,1]\n",
    "var.loc[X_train.index, 'logreg_prob'] = logreg.predict_proba(X_train)[:,1]\n",
    "\n",
    "# print(data.loc[X_test.index, 'signal'])\n",
    "\n",
    "# print(logreg.predict_proba(X_test))\n"
   ]
  },
  {
   "cell_type": "code",
   "execution_count": null,
   "metadata": {},
   "outputs": [],
   "source": [
    "path = '/Users/jcrndm/Documents/'\n",
    "file = '170721_07_c1_gridOpticFlow_metrics.csv'\n",
    "\n",
    "tsv_output_file = path + file\n",
    "data = pd.DataFrame.from_csv(tsv_output_file)\n",
    "\n",
    "data = data.astype('float64')\n",
    "a = np.zeros(len(data))\n",
    "a[1445:2388]=1\n",
    "data['classification'] = a\n",
    "\n",
    "%matplotlib inline\n",
    "\n",
    "col_list = list(data)\n",
    "\n",
    "#puts the paramter on a scale of 0 to 1\n",
    "data_new = data.copy()\n",
    "data_new -= data_new.min()\n",
    "data_new /= data_new.max()\n",
    "data_new = data_new.fillna(value=0)"
   ]
  },
  {
   "cell_type": "code",
   "execution_count": null,
   "metadata": {},
   "outputs": [],
   "source": [
    "plt.figure(figsize = (20, 2))\n",
    "plt.plot(data_new['mov.mean'])\n",
    "plt.plot(data_new['brain.data'])"
   ]
  },
  {
   "cell_type": "code",
   "execution_count": null,
   "metadata": {},
   "outputs": [],
   "source": [
    "plt.figure(figsize = (20, 2))\n",
    "plt.plot(data_new['mov.maxeventval'], color = \"orange\", alpha = 0.5)\n",
    "plt.plot(data_new['mov.percenterror'], color = \"black\", alpha = 0.3)"
   ]
  },
  {
   "cell_type": "code",
   "execution_count": null,
   "metadata": {},
   "outputs": [],
   "source": [
    "plt.figure(figsize = (20, 2))\n",
    "plt.plot(data_new['mov.diffxystd'], color = \"brown\")\n",
    "plt.plot(data_new['diff.brainmov'], color = \"pink\")"
   ]
  },
  {
   "cell_type": "code",
   "execution_count": null,
   "metadata": {},
   "outputs": [],
   "source": [
    "plt.figure(figsize = (20, 2))\n",
    "plt.plot(data_new['mov.maxeventval'], color = \"red\", alpha = 0.5)\n",
    "plt.plot(data_new['mov.percenterror'], color = \"blue\", alpha = 0.3)"
   ]
  },
  {
   "cell_type": "code",
   "execution_count": null,
   "metadata": {},
   "outputs": [],
   "source": [
    "plt.figure(figsize = (20, 2))\n",
    "plt.plot(data_new['mov.totalmag'], color = \"navy\", alpha = 0.7)\n",
    "plt.plot(data_new['mov.range'], color = \"black\", alpha = 0.5)"
   ]
  },
  {
   "cell_type": "code",
   "execution_count": null,
   "metadata": {},
   "outputs": [],
   "source": [
    "plt.figure(figsize = (20,2))\n",
    "\n",
    "plt.plot(data_new['mov.mean'], color =\"red\")\n",
    "plt.plot(data_new['brain.data'], color =\"green\")\n",
    "plt.plot(data_new['mov.maxeventval'], color = \"orange\", alpha = 0.5)\n",
    "plt.plot(data_new['mov.percenterror'], color = \"black\", alpha = 0.3)\n",
    "plt.plot(data_new['mov.diffxystd'], color = \"brown\")\n",
    "plt.plot(data_new['diff.brainmov'], color = \"pink\")\n",
    "plt.plot(data_new['mov.maxeventval'], color = \"red\", alpha = 0.5)\n",
    "plt.plot(data_new['mov.percenterror'], color = \"blue\", alpha = 0.3)\n",
    "plt.plot(data_new['mov.totalmag'], color = \"navy\", alpha = 0.7)\n",
    "plt.plot(data_new['mov.range'], color = \"black\", alpha = 0.5)\n"
   ]
  },
  {
   "cell_type": "code",
   "execution_count": null,
   "metadata": {},
   "outputs": [],
   "source": [
    "plt.figure(figsize = (20,4))\n",
    "\n",
    "plt.plot(data_new['brain.eventrest'], color ='teal')\n",
    "plt.plot(data_new['mov.eventrest'], color = 'salmon', alpha = 0.8)"
   ]
  },
  {
   "cell_type": "code",
   "execution_count": null,
   "metadata": {},
   "outputs": [],
   "source": [
    "plt.figure(figsize = (20,4))\n",
    "\n",
    "plt.plot(data_new['brain.eventrest'], color ='teal')\n",
    "plt.plot(data_new['mov.maxeventval'], color ='#F58B45')\n",
    "plt.plot(data_new['diff.brainmov'], color = '#B472CD', alpha = 0.8)"
   ]
  },
  {
   "cell_type": "code",
   "execution_count": null,
   "metadata": {},
   "outputs": [],
   "source": [
    "plt.figure(figsize=(20,2))\n",
    "plt.plot(data_new[\"mov.mean\"], alpha = 0.9)\n",
    "plt.plot(data_new[\"brain.data\"], alpha = 0.55)\n",
    "\n",
    "def scatterPairs(frame, frame2, size, color):\n",
    "    plt.scatter(frame, size, color = color)\n",
    "    plt.scatter(frame2, size, color = color)\n",
    "    \n",
    "scatterPairs(2445, 3387, 0.078, \"magenta\")\n",
    "scatterPairs(5166, 5568, 0.078, \"maroon\")\n",
    "scatterPairs(8617, 9297, 0.078, \"purple\")\n",
    "scatterPairs(11751, 12011, 0.078, \"black\")\n",
    "scatterPairs(15367, 15888, 0.078, \"red\")\n",
    "scatterPairs(17619, 17893, 0.078, \"brown\")"
   ]
  },
  {
   "cell_type": "code",
   "execution_count": null,
   "metadata": {},
   "outputs": [],
   "source": [
    "indices_big = np.zeros(len(big_data))\n",
    "indices_big[2445 : 3388] = 1\n",
    "indices_big[5166 : 5569] = 1\n",
    "indices_big[8617 : 9298] = 1\n",
    "indices_big[11751 : 12024] = 1\n",
    "indices_big[15367 : 15889] = 1\n",
    "indices_big[17619 : 17894] = 1\n",
    "data_new['classification'] = indices_big"
   ]
  },
  {
   "cell_type": "code",
   "execution_count": null,
   "metadata": {},
   "outputs": [],
   "source": [
    "plt.figure(figsize = (16,4))\n",
    "\n",
    "def plot_classification(data, indices, color):\n",
    "    color_list = [\"violet\", \"magenta\", \"teal\", \"silver\", \"salmon\", \"pink\"]\n",
    "    num_color = 0\n",
    "    \n",
    "    if len(np.unique(indices)) > 2:\n",
    "        for i in range(len(indices)):\n",
    "            if (indices[i] == 0):\n",
    "                plt.axvline(x = i, linewidth = 1, color = 'blue', alpha = 0.03)\n",
    "            elif (indices[i] == 1):\n",
    "                plt.axvline(x = i, linewidth = 1, color = 'orange', alpha = 0.03)\n",
    "            elif (indices[i] == 2):\n",
    "                plt.axvline(x = i, linewidth = 1, color = 'green', alpha = 0.03)\n",
    "            elif (indices[i] == 3):\n",
    "                plt.axvline(x = i, linewidth = 1, color = 'red', alpha = 0.03)    \n",
    "            else:\n",
    "                if (num_color == len(colors_list)):\n",
    "                    num_color = 0\n",
    "                else:\n",
    "                    plt.axvline(x =i, color = colors_list[num_color], alpha = 0.01)\n",
    "                    num_color += num_color\n",
    "                    \n",
    "    else:       \n",
    "        for i in range(len(indices)):\n",
    "            if (indices[i] == 0):\n",
    "                plt.axvline(x = i, linewidth = 1, color = '#B472CD', alpha = 0.03)\n",
    "            elif (indices[i] == 1):\n",
    "                plt.axvline(x = i, linewidth = 1, color = 'yellow', alpha = 0.03)        \n",
    "    \n",
    "    plt.plot(data, color)\n",
    "    \n",
    "plot_classification(data_new['mov.mean'], indices_big, 'black')"
   ]
  },
  {
   "cell_type": "code",
   "execution_count": 2,
   "metadata": {},
   "outputs": [
    {
     "name": "stderr",
     "output_type": "stream",
     "text": [
      "/Users/jcrndm/anaconda3/lib/python3.7/site-packages/ipykernel_launcher.py:5: FutureWarning: from_csv is deprecated. Please use read_csv(...) instead. Note that some of the default arguments are different, so please refer to the documentation for from_csv when changing your function calls\n",
      "  \"\"\"\n"
     ]
    }
   ],
   "source": [
    "path = '/Users/jcrndm/Documents/'\n",
    "file = '170721_07_c1_gridOpticFlow_metrics.csv'\n",
    "\n",
    "tsv_output_file = path + file\n",
    "big_data = pd.DataFrame.from_csv(tsv_output_file)\n",
    "\n",
    "big_data = big_data.astype('float64')\n",
    "a = np.zeros(len(big_data))\n",
    "a[1445:2388]=1\n",
    "big_data['classification'] = a\n",
    "\n",
    "%matplotlib inline\n",
    "\n",
    "col_list = list(big_data)\n",
    "\n",
    "big_data -= big_data.min()\n",
    "big_data /= big_data.max()\n",
    "big_data = big_data.fillna(value=0)\n",
    "\n",
    "indices_big = np.zeros(len(big_data))\n",
    "indices_big[2445 : 3388] = 1\n",
    "indices_big[5166 : 5569] = 1\n",
    "indices_big[8617 : 9298] = 1\n",
    "indices_big[11751 : 12024] = 1\n",
    "indices_big[15367 : 15889] = 1\n",
    "indices_big[17619 : 17894] = 1\n",
    "big_data['classification'] = indices_big\n",
    "\n",
    "var = pd.DataFrame()\n",
    "var[\"mov.mean\"] = big_data[\"mov.mean\"]\n",
    "var[\"mov.diffxystd\"] = big_data[\"mov.diffxystd\"]\n",
    "var[\"mov.diffmaxevents\"] = big_data[\"mov.diffmaxevents\"]\n",
    "var[\"mov.surfarea\"] = big_data[\"mov.surfarea\"]\n",
    "var[\"diff.brainmov\"] = big_data[\"diff.brainmov\"]\n",
    "var[\"brain.data\"] = big_data[\"brain.data\"]\n",
    "var['classification'] = big_data['classification']\n",
    "\n",
    "var_names = ['mov.mean', 'mov.diffxystd', 'mov.diffmaxevents', 'mov.surfarea', \n",
    "             'diff.brainmov', 'brain.data', 'classification']\n",
    "\n",
    "big_data_all_names = [\"angs.stdev\", \"angs.mean\", \"mov.mean\", \"mov.std\",\"mov.mode\", \"mov.range\", \"mov.eventrest\", \"mov.maxeventval\", \n",
    "                  \"mov.surfarea\", \"mov.totalmag\", \"mov.firstder\", \"mov.secder\", \"mov.stdx\", \"mov.stdy\", \"mov.diffmaxevents\", \n",
    "                 \"mov.percent\", \"mov.percenterror\", \"mov.timetoevent\", \"mov.timefromevent\", \"mov.numlocmax\", \"brain.data\", \"brain.eventrest\",\n",
    "                      \"brain.rangemaxmin\", \"brain.firstder\", \"brain.secondder\", \"diff.brainmov\", \"diff.brainmovfirstder\", \"diff.brainmovsecder\", \"classification\"]\n"
   ]
  },
  {
   "cell_type": "code",
   "execution_count": null,
   "metadata": {},
   "outputs": [],
   "source": [
    "b_var = pd.DataFrame()\n",
    "b_var[\"mov.range\"] = big_data[\"mov.range\"]\n",
    "b_var[\"mov.eventrest\"] = big_data[\"mov.eventrest\"]\n",
    "b_var[\"mov.surfarea\"] = big_data[\"mov.surfarea\"]\n",
    "b_var[\"mov.diffxystd\"] = big_data[\"mov.diffxystd\"]\n",
    "b_var[\"mov.diffmaxevents\"] = big_data[\"mov.diffmaxevents\"]\n",
    "b_var[\"mov.percenterror\"] = big_data[\"mov.percenterror\"]\n",
    "b_var[\"brain.data\"] = big_data[\"brain.data\"]\n",
    "b_var[\"brain.eventrest\"] = big_data[\"brain.eventrest\"]\n",
    "b_var[\"brain.rangemaxmin\"] = big_data[\"brain.rangemaxmin\"]\n",
    "b_var[\"diff.brainmov\"] = big_data[\"diff.brainmov\"]\n",
    "b_var[\"classification\"] = big_data[\"classification\"]\n",
    "\n",
    "b_var_names = [\"mov.range\", \"mov.eventrest\", \"mov.surfarea\", \"mov.diffxystd\", \"mov.diffmaxevents\", \n",
    "             \"mov.percenterror\", \"brain.data\", \"brain.eventrest\", \"brain.rangemaxmin\", \"diff.brainmov\", \"classification\"]\n"
   ]
  },
  {
   "cell_type": "code",
   "execution_count": null,
   "metadata": {},
   "outputs": [],
   "source": [
    "def tSNE_function(dataset, datalist, row, column):\n",
    "    tsne = TSNE(n_components=2, random_state=42)\n",
    "    X_reduced_tsne = tsne.fit_transform(dataset)\n",
    "\n",
    "    fig, ax = plt.subplots(row, column, figsize = (20, 15), sharex = True, sharey = True)\n",
    "    k = 0\n",
    "    for i in range(row):\n",
    "        for j in range(column):\n",
    "            if k != len(datalist):\n",
    "                ax[i][j].scatter(X_reduced_tsne[:, 0], X_reduced_tsne[:, 1], c=dataset[datalist[k]], cmap='jet')\n",
    "                ax[i][j].title.set_text('{0}'.format(datalist[k]))\n",
    "                ax[i][j].axis('off')\n",
    "                k += 1\n",
    "            else:\n",
    "                pass\n",
    "                ax[i][j].axis('off')\n",
    "    plt.tight_layout()\n",
    "    plt.show()\n",
    "    \n",
    "tSNE_function(big_data, big_data_all_names, 6, 5)\n"
   ]
  },
  {
   "cell_type": "code",
   "execution_count": null,
   "metadata": {},
   "outputs": [],
   "source": [
    "def isomap_function(dataset, datalist, row, column):\n",
    "    isomap = Isomap(n_components=2)\n",
    "    X_reduced_isomap = isomap.fit_transform(dataset)\n",
    "\n",
    "    fig, ax = plt.subplots(row, column, figsize = (20, 15), sharex = True, sharey = True)\n",
    "    k = 0\n",
    "    for i in range(row):\n",
    "        for j in range(column):\n",
    "            if k != len(datalist):\n",
    "                ax[i][j].scatter(X_reduced_isomap[:, 0], X_reduced_isomap[:, 1], c=dataset[datalist[k]], cmap='jet')\n",
    "                ax[i][j].title.set_text('{0}'.format(datalist[k]))\n",
    "                ax[i][j].axis('off')\n",
    "                k += 1\n",
    "            else:\n",
    "                pass\n",
    "                ax[i][j].axis('off')\n",
    "    plt.tight_layout()\n",
    "    plt.show()\n",
    "    \n",
    "isomap_function(big_data, big_data_all_names, 6, 5)"
   ]
  },
  {
   "cell_type": "code",
   "execution_count": null,
   "metadata": {},
   "outputs": [],
   "source": [
    "def mds_function(dataset, datalist, row, column):\n",
    "    mds = MDS(n_components=2, random_state=42)\n",
    "    X_reduced_mds = mds.fit_transform(dataset)\n",
    "\n",
    "    fig, ax = plt.subplots(row, column, figsize = (20, 15), sharex = True, sharey = True)\n",
    "    k = 0\n",
    "    for i in range(row):\n",
    "        for j in range(column):\n",
    "            if k != len(datalist):\n",
    "                ax[i][j].scatter(X_reduced_mds[:, 0], X_reduced_mds[:, 1], c=dataset[datalist[k]], cmap='cubehelix')\n",
    "                ax[i][j].title.set_text('{0}'.format(datalist[k]))\n",
    "                ax[i][j].axis('off')\n",
    "                k += 1\n",
    "            else:\n",
    "                pass\n",
    "                ax[i][j].axis('off')\n",
    "    plt.tight_layout()\n",
    "    plt.show()\n",
    "    \n",
    "mds_function(big_data, big_data_all_names, 6, 5)"
   ]
  },
  {
   "cell_type": "code",
   "execution_count": null,
   "metadata": {},
   "outputs": [],
   "source": [
    "def lda_function(dataset, datalist, row, column):\n",
    "    lda = LinearDiscriminantAnalysis(n_components=2)\n",
    "    X_mnist = dataset[\"brain.data\"]\n",
    "    y_mnist = dataset[\"mov.mean\"]\n",
    "    lda.fit(X_mnist, y_mnist)\n",
    "    X_reduced_lda = lda.transform(X_mnist)\n",
    "\n",
    "    fig, ax = plt.subplots(row, column, figsize = (20, 15), sharex = True, sharey = True)\n",
    "    k = 0\n",
    "    for i in range(row):\n",
    "        for j in range(column):\n",
    "            if k != len(datalist):\n",
    "                ax[i][j].scatter(X_reduced_lda[:, 0], X_reduced_lda[:, 1], c=dataset[datalist[k]], cmap='jet')\n",
    "                ax[i][j].title.set_text('{0}'.format(datalist[k]))\n",
    "                ax[i][j].axis('off')\n",
    "                k += 1\n",
    "            else:\n",
    "                pass\n",
    "                ax[i][j].axis('off')\n",
    "    plt.tight_layout()\n",
    "    plt.show()\n",
    "    \n",
    "lda_function(big_data, big_data_all_names, 6, 5)"
   ]
  },
  {
   "cell_type": "code",
   "execution_count": null,
   "metadata": {},
   "outputs": [],
   "source": []
  }
 ],
 "metadata": {
  "kernelspec": {
   "display_name": "Python 3",
   "language": "python",
   "name": "python3"
  },
  "language_info": {
   "codemirror_mode": {
    "name": "ipython",
    "version": 3
   },
   "file_extension": ".py",
   "mimetype": "text/x-python",
   "name": "python",
   "nbconvert_exporter": "python",
   "pygments_lexer": "ipython3",
   "version": "3.7.3"
  }
 },
 "nbformat": 4,
 "nbformat_minor": 2
}
