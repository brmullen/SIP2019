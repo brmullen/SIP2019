{
 "cells": [
  {
   "cell_type": "code",
   "execution_count": 1,
   "metadata": {},
   "outputs": [],
   "source": [
    "from collections import OrderedDict\n",
    "from math import log, sqrt\n",
    "\n",
    "import numpy as np\n",
    "import pandas as pd\n",
    "from pandas import DataFrame\n",
    "from six.moves import cStringIO as StringIO\n",
    "\n",
    "from bokeh.plotting import figure, show, output_file\n",
    "import cv2\n",
    "\n",
    "'''\n",
    "When all values are determined, replace placeholders(10) and change the accuracy if needed.\n",
    "'''\n",
    "\n",
    "classifications = \"\"\"\n",
    "Classifiers,              true_positives, false_positives, true_negatives, false_negatives, accuracy\n",
    "Gaussian Naive Bayes,          0,               286,            5114,              0,          >90\n",
    "Logistic Regression,           195,              35,             877,             93,          <90\n",
    "Support Vector Machine,        10,              10,             10,             10,            <90\n",
    "Random Forest,                 10,              10,             10,             10,            >90\n",
    "Voting,                        10,              10,             10,             10,            >90\n",
    "\"\"\"\n",
    "\n",
    "conf_matrix = OrderedDict([\n",
    "    (\"True Positive\",   \"#0d3362\"),\n",
    "    (\"False Positive\", \"#c64737\"),\n",
    "    (\"True Negative\",     \"black\"  ),\n",
    "    (\"False Negative\", \"#62e72d\"),\n",
    "])\n",
    "\n",
    "accuracy_color = OrderedDict([\n",
    "    (\">90\", \"#e69584\"),\n",
    "    (\"<90\", \"#aeaeb8\"),\n",
    "])\n",
    "\n",
    "df = pd.read_csv(StringIO(classification),\n",
    "                 skiprows=1,\n",
    "                 skipinitialspace=True,\n",
    "                 engine='python',           \n",
    "                )"
   ]
  },
  {
   "cell_type": "code",
   "execution_count": 2,
   "metadata": {},
   "outputs": [],
   "source": [
    "width = 800\n",
    "height = 800\n",
    "inner_radius = 90\n",
    "outer_radius = 300 - 10\n",
    "\n",
    "minr = sqrt(log(.001 * 1E4))\n",
    "maxr = sqrt(log(1000 * 1E4))\n",
    "a = (outer_radius - inner_radius) / (minr - maxr)\n",
    "b = inner_radius - a * maxr\n",
    "\n",
    "def rad(mic):\n",
    "    return a * np.sqrt(np.log(mic * 1E4)) + b\n",
    "\n",
    "big_angle = 2.0 * np.pi / (len(df) + 1)\n",
    "small_angle = big_angle / 9\n",
    "\n",
    "p = figure(plot_width=width, plot_height=height, title=\"\",\n",
    "    x_axis_type=None, y_axis_type=None,\n",
    "    x_range=(-420, 420), y_range=(-420, 420),\n",
    "    min_border=0, outline_line_color=\"black\",\n",
    "    background_fill_color=\"#f0e1d2\")\n",
    "\n",
    "p.xgrid.grid_line_color = None\n",
    "p.ygrid.grid_line_color = None"
   ]
  },
  {
   "cell_type": "code",
   "execution_count": 3,
   "metadata": {},
   "outputs": [
    {
     "data": {
      "text/html": [
       "<div style=\"display: table;\"><div style=\"display: table-row;\"><div style=\"display: table-cell;\"><b title=\"bokeh.models.renderers.GlyphRenderer\">GlyphRenderer</b>(</div><div style=\"display: table-cell;\">id&nbsp;=&nbsp;'1050', <span id=\"1053\" style=\"cursor: pointer;\">&hellip;)</span></div></div><div class=\"1052\" style=\"display: none;\"><div style=\"display: table-cell;\"></div><div style=\"display: table-cell;\">data_source&nbsp;=&nbsp;ColumnDataSource(id='1047', ...),</div></div><div class=\"1052\" style=\"display: none;\"><div style=\"display: table-cell;\"></div><div style=\"display: table-cell;\">glyph&nbsp;=&nbsp;AnnularWedge(id='1048', ...),</div></div><div class=\"1052\" style=\"display: none;\"><div style=\"display: table-cell;\"></div><div style=\"display: table-cell;\">hover_glyph&nbsp;=&nbsp;None,</div></div><div class=\"1052\" style=\"display: none;\"><div style=\"display: table-cell;\"></div><div style=\"display: table-cell;\">js_event_callbacks&nbsp;=&nbsp;{},</div></div><div class=\"1052\" style=\"display: none;\"><div style=\"display: table-cell;\"></div><div style=\"display: table-cell;\">js_property_callbacks&nbsp;=&nbsp;{},</div></div><div class=\"1052\" style=\"display: none;\"><div style=\"display: table-cell;\"></div><div style=\"display: table-cell;\">level&nbsp;=&nbsp;'glyph',</div></div><div class=\"1052\" style=\"display: none;\"><div style=\"display: table-cell;\"></div><div style=\"display: table-cell;\">muted&nbsp;=&nbsp;False,</div></div><div class=\"1052\" style=\"display: none;\"><div style=\"display: table-cell;\"></div><div style=\"display: table-cell;\">muted_glyph&nbsp;=&nbsp;None,</div></div><div class=\"1052\" style=\"display: none;\"><div style=\"display: table-cell;\"></div><div style=\"display: table-cell;\">name&nbsp;=&nbsp;None,</div></div><div class=\"1052\" style=\"display: none;\"><div style=\"display: table-cell;\"></div><div style=\"display: table-cell;\">nonselection_glyph&nbsp;=&nbsp;AnnularWedge(id='1049', ...),</div></div><div class=\"1052\" style=\"display: none;\"><div style=\"display: table-cell;\"></div><div style=\"display: table-cell;\">selection_glyph&nbsp;=&nbsp;None,</div></div><div class=\"1052\" style=\"display: none;\"><div style=\"display: table-cell;\"></div><div style=\"display: table-cell;\">subscribed_events&nbsp;=&nbsp;[],</div></div><div class=\"1052\" style=\"display: none;\"><div style=\"display: table-cell;\"></div><div style=\"display: table-cell;\">tags&nbsp;=&nbsp;[],</div></div><div class=\"1052\" style=\"display: none;\"><div style=\"display: table-cell;\"></div><div style=\"display: table-cell;\">view&nbsp;=&nbsp;CDSView(id='1051', ...),</div></div><div class=\"1052\" style=\"display: none;\"><div style=\"display: table-cell;\"></div><div style=\"display: table-cell;\">visible&nbsp;=&nbsp;True,</div></div><div class=\"1052\" style=\"display: none;\"><div style=\"display: table-cell;\"></div><div style=\"display: table-cell;\">x_range_name&nbsp;=&nbsp;'default',</div></div><div class=\"1052\" style=\"display: none;\"><div style=\"display: table-cell;\"></div><div style=\"display: table-cell;\">y_range_name&nbsp;=&nbsp;'default')</div></div></div>\n",
       "<script>\n",
       "(function() {\n",
       "  var expanded = false;\n",
       "  var ellipsis = document.getElementById(\"1053\");\n",
       "  ellipsis.addEventListener(\"click\", function() {\n",
       "    var rows = document.getElementsByClassName(\"1052\");\n",
       "    for (var i = 0; i < rows.length; i++) {\n",
       "      var el = rows[i];\n",
       "      el.style.display = expanded ? \"none\" : \"table-row\";\n",
       "    }\n",
       "    ellipsis.innerHTML = expanded ? \"&hellip;)\" : \"&lsaquo;&lsaquo;&lsaquo;\";\n",
       "    expanded = !expanded;\n",
       "  });\n",
       "})();\n",
       "</script>\n"
      ],
      "text/plain": [
       "GlyphRenderer(id='1050', ...)"
      ]
     },
     "execution_count": 3,
     "metadata": {},
     "output_type": "execute_result"
    }
   ],
   "source": [
    "# annular wedges\n",
    "\n",
    "angles = []\n",
    "for i in range(len(df)):\n",
    "    angles.append(np.pi/2 - big_angle/2 - i*big_angle)\n",
    "    \n",
    "angles = np.array(angles)\n",
    "\n",
    "colors = [accuracy_color[accuracy] for accuracy in df['accuracy']]\n",
    "p.annular_wedge(\n",
    "    0, 0, inner_radius, outer_radius, -big_angle+angles, angles, color=colors,\n",
    ")\n",
    "\n",
    "# small wedges\n",
    "p.annular_wedge(0, 0, inner_radius, rad(df['true_positives']),\n",
    "                -big_angle + angles + 7 * small_angle, -big_angle + angles + 8*small_angle,\n",
    "                color = conf_matrix['True Positive'])\n",
    "p.annular_wedge(0, 0, inner_radius, rad(df['false_positives']),\n",
    "                -big_angle + angles + 5*small_angle, -big_angle + angles + 6*small_angle,\n",
    "                color = conf_matrix['False Positive'])\n",
    "p.annular_wedge(0, 0, inner_radius, rad(df['true_negatives']),\n",
    "                -big_angle + angles + 3*small_angle, -big_angle + angles + 4*small_angle,\n",
    "                color=conf_matrix['True Negative'])\n",
    "p.annular_wedge(0, 0, inner_radius, rad(df['false_negatives']),\n",
    "                -big_angle + angles + small_angle, -big_angle + angles+ 2*small_angle,\n",
    "                color = conf_matrix['False Negative'])"
   ]
  },
  {
   "cell_type": "code",
   "execution_count": 4,
   "metadata": {},
   "outputs": [
    {
     "data": {
      "text/html": [
       "<div style=\"display: table;\"><div style=\"display: table-row;\"><div style=\"display: table-cell;\"><b title=\"bokeh.models.renderers.GlyphRenderer\">GlyphRenderer</b>(</div><div style=\"display: table-cell;\">id&nbsp;=&nbsp;'1072', <span id=\"1075\" style=\"cursor: pointer;\">&hellip;)</span></div></div><div class=\"1074\" style=\"display: none;\"><div style=\"display: table-cell;\"></div><div style=\"display: table-cell;\">data_source&nbsp;=&nbsp;ColumnDataSource(id='1069', ...),</div></div><div class=\"1074\" style=\"display: none;\"><div style=\"display: table-cell;\"></div><div style=\"display: table-cell;\">glyph&nbsp;=&nbsp;Text(id='1070', ...),</div></div><div class=\"1074\" style=\"display: none;\"><div style=\"display: table-cell;\"></div><div style=\"display: table-cell;\">hover_glyph&nbsp;=&nbsp;None,</div></div><div class=\"1074\" style=\"display: none;\"><div style=\"display: table-cell;\"></div><div style=\"display: table-cell;\">js_event_callbacks&nbsp;=&nbsp;{},</div></div><div class=\"1074\" style=\"display: none;\"><div style=\"display: table-cell;\"></div><div style=\"display: table-cell;\">js_property_callbacks&nbsp;=&nbsp;{},</div></div><div class=\"1074\" style=\"display: none;\"><div style=\"display: table-cell;\"></div><div style=\"display: table-cell;\">level&nbsp;=&nbsp;'glyph',</div></div><div class=\"1074\" style=\"display: none;\"><div style=\"display: table-cell;\"></div><div style=\"display: table-cell;\">muted&nbsp;=&nbsp;False,</div></div><div class=\"1074\" style=\"display: none;\"><div style=\"display: table-cell;\"></div><div style=\"display: table-cell;\">muted_glyph&nbsp;=&nbsp;None,</div></div><div class=\"1074\" style=\"display: none;\"><div style=\"display: table-cell;\"></div><div style=\"display: table-cell;\">name&nbsp;=&nbsp;None,</div></div><div class=\"1074\" style=\"display: none;\"><div style=\"display: table-cell;\"></div><div style=\"display: table-cell;\">nonselection_glyph&nbsp;=&nbsp;Text(id='1071', ...),</div></div><div class=\"1074\" style=\"display: none;\"><div style=\"display: table-cell;\"></div><div style=\"display: table-cell;\">selection_glyph&nbsp;=&nbsp;None,</div></div><div class=\"1074\" style=\"display: none;\"><div style=\"display: table-cell;\"></div><div style=\"display: table-cell;\">subscribed_events&nbsp;=&nbsp;[],</div></div><div class=\"1074\" style=\"display: none;\"><div style=\"display: table-cell;\"></div><div style=\"display: table-cell;\">tags&nbsp;=&nbsp;[],</div></div><div class=\"1074\" style=\"display: none;\"><div style=\"display: table-cell;\"></div><div style=\"display: table-cell;\">view&nbsp;=&nbsp;CDSView(id='1073', ...),</div></div><div class=\"1074\" style=\"display: none;\"><div style=\"display: table-cell;\"></div><div style=\"display: table-cell;\">visible&nbsp;=&nbsp;True,</div></div><div class=\"1074\" style=\"display: none;\"><div style=\"display: table-cell;\"></div><div style=\"display: table-cell;\">x_range_name&nbsp;=&nbsp;'default',</div></div><div class=\"1074\" style=\"display: none;\"><div style=\"display: table-cell;\"></div><div style=\"display: table-cell;\">y_range_name&nbsp;=&nbsp;'default')</div></div></div>\n",
       "<script>\n",
       "(function() {\n",
       "  var expanded = false;\n",
       "  var ellipsis = document.getElementById(\"1075\");\n",
       "  ellipsis.addEventListener(\"click\", function() {\n",
       "    var rows = document.getElementsByClassName(\"1074\");\n",
       "    for (var i = 0; i < rows.length; i++) {\n",
       "      var el = rows[i];\n",
       "      el.style.display = expanded ? \"none\" : \"table-row\";\n",
       "    }\n",
       "    ellipsis.innerHTML = expanded ? \"&hellip;)\" : \"&lsaquo;&lsaquo;&lsaquo;\";\n",
       "    expanded = !expanded;\n",
       "  });\n",
       "})();\n",
       "</script>\n"
      ],
      "text/plain": [
       "GlyphRenderer(id='1072', ...)"
      ]
     },
     "execution_count": 4,
     "metadata": {},
     "output_type": "execute_result"
    }
   ],
   "source": [
    "# circular axes and lables\n",
    "labels = np.power(10.0, np.arange(-3, 4))\n",
    "radii = a * np.sqrt(np.log(labels * 1E4)) + b\n",
    "p.circle(0, 0, radius=radii, fill_color=None, line_color=\"white\")\n",
    "p.text(0, radii[:-1], [str(r) for r in labels[:-1]],\n",
    "       text_font_size=\"8pt\", text_align=\"center\", text_baseline=\"middle\")\n",
    "\n",
    "# radial axes\n",
    "p.annular_wedge(0, 0, inner_radius-10, outer_radius+10,\n",
    "                -big_angle+angles, -big_angle+angles, color=\"black\")\n",
    "\n",
    "# metric labels\n",
    "xr = radii[0]*np.cos(np.array(-big_angle/2 + angles))\n",
    "yr = radii[0]*np.sin(np.array(-big_angle/2 + angles))\n",
    "label_angle=np.array(-big_angle/2 + angles)\n",
    "label_angle[label_angle < -np.pi/2] += np.pi # easier to read labels on the left side\n",
    "p.text(xr, yr, df['Classifiers'], angle=label_angle,\n",
    "       text_font_size=\"9pt\", text_align=\"center\", text_baseline=\"middle\")"
   ]
  },
  {
   "cell_type": "code",
   "execution_count": null,
   "metadata": {},
   "outputs": [],
   "source": [
    "# OK, these hand drawn legends are pretty clunky, will be improved in future release\n",
    "p.circle([-40, -40], [-370, -390], color=list(accuracy_color.values()), radius=5)\n",
    "p.text([-30, -30], [-370, -390], text=[gr for gr in acccuracy_color.keys()]+ '% Accuracy',\n",
    "       text_font_size=\"7pt\", text_align=\"left\", text_baseline=\"middle\")\n",
    "\n",
    "p.rect([-40, -40, -40, -40], [18, 0, -18, -36], width=30, height=13,\n",
    "       color=list(conf_matrix.values()))\n",
    "p.text([-15, -15, -15, -15], [18, 0, -18, -36], text=list(conf_matrix),\n",
    "       text_font_size=\"9pt\", text_align=\"left\", text_baseline=\"middle\")\n",
    "\n",
    "output_file(\"MLiB.html\", title=\"MLiB.py\")\n",
    "\n",
    "show(p)"
   ]
  }
 ],
 "metadata": {
  "kernelspec": {
   "display_name": "Python 3",
   "language": "python",
   "name": "python3"
  },
  "language_info": {
   "codemirror_mode": {
    "name": "ipython",
    "version": 3
   },
   "file_extension": ".py",
   "mimetype": "text/x-python",
   "name": "python",
   "nbconvert_exporter": "python",
   "pygments_lexer": "ipython3",
   "version": "3.7.3"
  }
 },
 "nbformat": 4,
 "nbformat_minor": 2
}
