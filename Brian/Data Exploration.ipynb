{
 "cells": [
  {
   "cell_type": "markdown",
   "metadata": {},
   "source": [
    "# Exporation of Data clusters"
   ]
  },
  {
   "cell_type": "code",
   "execution_count": 3,
   "metadata": {},
   "outputs": [],
   "source": [
    "import os\n",
    "import sys\n",
    "sys.path.append('../pyWholeBrain')\n",
    "import numpy as np\n",
    "import colorsys\n",
    "import cv2\n",
    "import matplotlib.pyplot as plt\n",
    "import pandas as pd\n",
    "\n",
    "import scipy\n",
    "import scipy.ndimage.filters as filters\n",
    "import scipy.ndimage as ndimage\n",
    "\n",
    "from skimage.measure import label, regionprops\n",
    "from scipy.ndimage.filters import gaussian_filter, convolve\n",
    "from skimage.morphology import disk, watershed\n",
    "from skimage.morphology import erosion, dilation, opening, closing\n",
    "\n",
    "from scipy.ndimage.morphology import generate_binary_structure, binary_erosion\n",
    "from scipy.ndimage.filters import maximum_filter\n",
    "\n",
    "from hdf5manager import hdf5manager as h5\n",
    "import wholeBrain as wb"
   ]
  },
  {
   "cell_type": "markdown",
   "metadata": {},
   "source": [
    "## Load the data"
   ]
  },
  {
   "cell_type": "code",
   "execution_count": 6,
   "metadata": {},
   "outputs": [
    {
     "name": "stdout",
     "output_type": "stream",
     "text": [
      "   angs.stdev   angs.mean  mov.mean  mov.std  mov.mode  mov.range  \\\n",
      "0  106.240669  147.795502     0.384    1.869         2     22.682   \n",
      "1         NaN         NaN     0.000    0.000     16678      0.000   \n",
      "2         NaN         NaN     0.000    0.000     16678      0.000   \n",
      "3         NaN         NaN     0.000    0.000     16678      0.000   \n",
      "4         NaN         NaN     0.000    0.000     16678      0.000   \n",
      "\n",
      "   mov.eventrest  mov.maxeventval  mov.surfarea  mov.totalmag  \\\n",
      "0              1            0.384          1831      5692.449   \n",
      "1              0            0.000             0         0.000   \n",
      "2              0            0.000             0         0.000   \n",
      "3              0            0.000             0         0.000   \n",
      "4              0            0.000             0         0.000   \n",
      "\n",
      "          ...           mov.duration  mov.btwnrest  brain.data  \\\n",
      "0         ...               0.166667           0.0      -0.038   \n",
      "1         ...               0.166667           0.0      -0.038   \n",
      "2         ...               0.166667           0.0      -0.038   \n",
      "3         ...               0.166667           0.0      -0.040   \n",
      "4         ...               0.166667           0.0      -0.040   \n",
      "\n",
      "   brain.eventrest  brain.rangemaxmin  brain.firstder  brain.secondder  \\\n",
      "0                0              0.001           0.000             0.00   \n",
      "1                0              0.001           0.000             0.00   \n",
      "2                0              0.001           0.000             0.00   \n",
      "3                0              0.001          -0.022            -0.22   \n",
      "4                0              0.001          -0.022            -0.22   \n",
      "\n",
      "   diff.brainmov  diff.brainmovfirstder  diff.brainmovsecder  \n",
      "0         -0.422                 -0.384               -0.384  \n",
      "1         -0.038                  0.000                0.000  \n",
      "2         -0.038                  0.000                0.000  \n",
      "3         -0.040                 -0.022               -0.220  \n",
      "4         -0.040                 -0.022               -0.220  \n",
      "\n",
      "[5 rows x 32 columns]\n"
     ]
    }
   ],
   "source": [
    "file_dir = '/home/brian/Documents/data/'\n",
    "\n",
    "file = '170721_07_c1_gridOpticFlow_metrics.csv'\n",
    "\n",
    "data_big = pd.DataFrame.from_csv(file_dir + file)\n",
    "print(data_big.head())"
   ]
  },
  {
   "cell_type": "code",
   "execution_count": 7,
   "metadata": {
    "collapsed": true
   },
   "outputs": [],
   "source": [
    "# Classification\n",
    "indices_big = np.zeros(len(data_big))\n",
    "indices_big[2445 : 3388] = 1\n",
    "indices_big[5166 : 5569] = 1\n",
    "indices_big[8617 : 9298] = 1\n",
    "indices_big[11751 : 12024] = 1\n",
    "indices_big[15367 : 15889] = 1\n",
    "indices_big[17619 : 17964] = 1\n",
    "data_big['classification'] = indices_big"
   ]
  },
  {
   "cell_type": "code",
   "execution_count": null,
   "metadata": {
    "collapsed": true
   },
   "outputs": [],
   "source": []
  },
  {
   "cell_type": "code",
   "execution_count": null,
   "metadata": {
    "collapsed": true
   },
   "outputs": [],
   "source": []
  },
  {
   "cell_type": "code",
   "execution_count": null,
   "metadata": {
    "collapsed": true
   },
   "outputs": [],
   "source": []
  }
 ],
 "metadata": {
  "kernelspec": {
   "display_name": "Python 3",
   "language": "python",
   "name": "python3"
  },
  "language_info": {
   "codemirror_mode": {
    "name": "ipython",
    "version": 3
   },
   "file_extension": ".py",
   "mimetype": "text/x-python",
   "name": "python",
   "nbconvert_exporter": "python",
   "pygments_lexer": "ipython3",
   "version": "3.5.2"
  }
 },
 "nbformat": 4,
 "nbformat_minor": 2
}
