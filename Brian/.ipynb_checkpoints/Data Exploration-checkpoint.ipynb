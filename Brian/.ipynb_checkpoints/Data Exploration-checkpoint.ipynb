{
 "cells": [
  {
   "cell_type": "markdown",
   "metadata": {},
   "source": [
    "# Exporation of Data clusters"
   ]
  },
  {
   "cell_type": "code",
   "execution_count": null,
   "metadata": {
    "collapsed": true
   },
   "outputs": [],
   "source": [
    "import os\n",
    "import sys\n",
    "sys.path.append('../pyWholeBrain')\n",
    "import numpy as np\n",
    "import colorsys\n",
    "import cv2\n",
    "import matplotlib.pyplot as plt\n",
    "\n",
    "import scipy\n",
    "import scipy.ndimage.filters as filters\n",
    "import scipy.ndimage as ndimage\n",
    "\n",
    "from skimage.measure import label, regionprops\n",
    "from scipy.ndimage.filters import gaussian_filter, convolve\n",
    "from skimage.morphology import disk, watershed\n",
    "from skimage.morphology import erosion, dilation, opening, closing\n",
    "\n",
    "from scipy.ndimage.morphology import generate_binary_structure, binary_erosion\n",
    "from scipy.ndimage.filters import maximum_filter\n",
    "\n",
    "from hdf5manager import hdf5manager as h5\n",
    "import wholeBrain as wb"
   ]
  },
  {
   "cell_type": "code",
   "execution_count": null,
   "metadata": {
    "collapsed": true
   },
   "outputs": [],
   "source": [
    "file_dir = '/home/brian/Documents/SIP2019/Brian/'\n",
    "\n",
    "file = '170721_07_c1_gridOpticFlow_metrics.csv'\n",
    "\n",
    "\n"
   ]
  },
  {
   "cell_type": "code",
   "execution_count": null,
   "metadata": {
    "collapsed": true
   },
   "outputs": [],
   "source": [
    "indices_big = np.zeros(len(data_big))\n",
    "indices_big[2445 : 3388] = 1\n",
    "indices_big[5166 : 5569] = 1\n",
    "indices_big[8617 : 9298] = 1\n",
    "indices_big[11751 : 12024] = 1\n",
    "indices_big[15367 : 15889] = 1\n",
    "indices_big[17619 : 17964] = 1\n",
    "data_big['classification'] = indices_big"
   ]
  }
 ],
 "metadata": {
  "kernelspec": {
   "display_name": "Python 3",
   "language": "python",
   "name": "python3"
  },
  "language_info": {
   "codemirror_mode": {
    "name": "ipython",
    "version": 3
   },
   "file_extension": ".py",
   "mimetype": "text/x-python",
   "name": "python",
   "nbconvert_exporter": "python",
   "pygments_lexer": "ipython3",
   "version": "3.5.2"
  }
 },
 "nbformat": 4,
 "nbformat_minor": 2
}
